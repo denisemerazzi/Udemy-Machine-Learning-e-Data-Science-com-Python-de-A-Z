{
  "nbformat": 4,
  "nbformat_minor": 0,
  "metadata": {
    "colab": {
      "name": "Anotações  Classificação de Textos com spaCy UDEMY.ipynb",
      "provenance": [],
      "collapsed_sections": []
    },
    "kernelspec": {
      "name": "python3",
      "display_name": "Python 3"
    },
    "accelerator": "GPU"
  },
  "cells": [
    {
      "cell_type": "markdown",
      "metadata": {
        "id": "AGgw36kc8udU"
      },
      "source": [
        "# Classificação de textos com spaCy"
      ]
    },
    {
      "cell_type": "markdown",
      "metadata": {
        "id": "JtJGnXGi8zt9"
      },
      "source": [
        "# Etapa 1: Importação e instalação das bibliotecas"
      ]
    },
    {
      "cell_type": "markdown",
      "source": [
        "O objetivo é identificar frases que representem o medo ou a alegria."
      ],
      "metadata": {
        "id": "jRkPLs_s3s0d"
      }
    },
    {
      "cell_type": "code",
      "metadata": {
        "id": "Xh86jT1k_299",
        "colab": {
          "base_uri": "https://localhost:8080/"
        },
        "outputId": "7432d278-785a-4225-f22b-c82d6b3689d0"
      },
      "source": [
        "!pip install spacy==2.2.3"
      ],
      "execution_count": null,
      "outputs": [
        {
          "output_type": "stream",
          "name": "stdout",
          "text": [
            "Collecting spacy==2.2.3\n",
            "  Downloading spacy-2.2.3-cp37-cp37m-manylinux1_x86_64.whl (10.4 MB)\n",
            "\u001b[K     |████████████████████████████████| 10.4 MB 4.8 MB/s \n",
            "\u001b[?25hRequirement already satisfied: preshed<3.1.0,>=3.0.2 in /usr/local/lib/python3.7/dist-packages (from spacy==2.2.3) (3.0.6)\n",
            "Requirement already satisfied: setuptools in /usr/local/lib/python3.7/dist-packages (from spacy==2.2.3) (57.4.0)\n",
            "Requirement already satisfied: plac<1.2.0,>=0.9.6 in /usr/local/lib/python3.7/dist-packages (from spacy==2.2.3) (1.1.3)\n",
            "Collecting thinc<7.4.0,>=7.3.0\n",
            "  Downloading thinc-7.3.1-cp37-cp37m-manylinux1_x86_64.whl (2.2 MB)\n",
            "\u001b[K     |████████████████████████████████| 2.2 MB 24.0 MB/s \n",
            "\u001b[?25hRequirement already satisfied: catalogue<1.1.0,>=0.0.7 in /usr/local/lib/python3.7/dist-packages (from spacy==2.2.3) (1.0.0)\n",
            "Requirement already satisfied: cymem<2.1.0,>=2.0.2 in /usr/local/lib/python3.7/dist-packages (from spacy==2.2.3) (2.0.6)\n",
            "Requirement already satisfied: srsly<1.1.0,>=0.1.0 in /usr/local/lib/python3.7/dist-packages (from spacy==2.2.3) (1.0.5)\n",
            "Requirement already satisfied: murmurhash<1.1.0,>=0.28.0 in /usr/local/lib/python3.7/dist-packages (from spacy==2.2.3) (1.0.6)\n",
            "Requirement already satisfied: requests<3.0.0,>=2.13.0 in /usr/local/lib/python3.7/dist-packages (from spacy==2.2.3) (2.23.0)\n",
            "Requirement already satisfied: wasabi<1.1.0,>=0.4.0 in /usr/local/lib/python3.7/dist-packages (from spacy==2.2.3) (0.9.0)\n",
            "Requirement already satisfied: numpy>=1.15.0 in /usr/local/lib/python3.7/dist-packages (from spacy==2.2.3) (1.19.5)\n",
            "Requirement already satisfied: blis<0.5.0,>=0.4.0 in /usr/local/lib/python3.7/dist-packages (from spacy==2.2.3) (0.4.1)\n",
            "Requirement already satisfied: importlib-metadata>=0.20 in /usr/local/lib/python3.7/dist-packages (from catalogue<1.1.0,>=0.0.7->spacy==2.2.3) (4.10.1)\n",
            "Requirement already satisfied: typing-extensions>=3.6.4 in /usr/local/lib/python3.7/dist-packages (from importlib-metadata>=0.20->catalogue<1.1.0,>=0.0.7->spacy==2.2.3) (3.10.0.2)\n",
            "Requirement already satisfied: zipp>=0.5 in /usr/local/lib/python3.7/dist-packages (from importlib-metadata>=0.20->catalogue<1.1.0,>=0.0.7->spacy==2.2.3) (3.7.0)\n",
            "Requirement already satisfied: chardet<4,>=3.0.2 in /usr/local/lib/python3.7/dist-packages (from requests<3.0.0,>=2.13.0->spacy==2.2.3) (3.0.4)\n",
            "Requirement already satisfied: certifi>=2017.4.17 in /usr/local/lib/python3.7/dist-packages (from requests<3.0.0,>=2.13.0->spacy==2.2.3) (2021.10.8)\n",
            "Requirement already satisfied: idna<3,>=2.5 in /usr/local/lib/python3.7/dist-packages (from requests<3.0.0,>=2.13.0->spacy==2.2.3) (2.10)\n",
            "Requirement already satisfied: urllib3!=1.25.0,!=1.25.1,<1.26,>=1.21.1 in /usr/local/lib/python3.7/dist-packages (from requests<3.0.0,>=2.13.0->spacy==2.2.3) (1.24.3)\n",
            "Requirement already satisfied: tqdm<5.0.0,>=4.10.0 in /usr/local/lib/python3.7/dist-packages (from thinc<7.4.0,>=7.3.0->spacy==2.2.3) (4.62.3)\n",
            "Installing collected packages: thinc, spacy\n",
            "  Attempting uninstall: thinc\n",
            "    Found existing installation: thinc 7.4.0\n",
            "    Uninstalling thinc-7.4.0:\n",
            "      Successfully uninstalled thinc-7.4.0\n",
            "  Attempting uninstall: spacy\n",
            "    Found existing installation: spacy 2.2.4\n",
            "    Uninstalling spacy-2.2.4:\n",
            "      Successfully uninstalled spacy-2.2.4\n",
            "Successfully installed spacy-2.2.3 thinc-7.3.1\n"
          ]
        }
      ]
    },
    {
      "cell_type": "code",
      "metadata": {
        "id": "T1ZYK4Svri9a",
        "colab": {
          "base_uri": "https://localhost:8080/",
          "height": 35
        },
        "outputId": "22868b4b-de7c-46f7-fd1f-2cb74875a4a3"
      },
      "source": [
        "import spacy\n",
        "spacy.__version__"
      ],
      "execution_count": null,
      "outputs": [
        {
          "output_type": "execute_result",
          "data": {
            "application/vnd.google.colaboratory.intrinsic+json": {
              "type": "string"
            },
            "text/plain": [
              "'2.2.3'"
            ]
          },
          "metadata": {},
          "execution_count": 2
        }
      ]
    },
    {
      "cell_type": "code",
      "metadata": {
        "id": "BbXiQKovAAy_",
        "colab": {
          "base_uri": "https://localhost:8080/"
        },
        "outputId": "9a1af2a0-e578-492f-bb7b-c812f4114633"
      },
      "source": [
        "!python3 -m spacy download pt"
      ],
      "execution_count": null,
      "outputs": [
        {
          "output_type": "stream",
          "name": "stdout",
          "text": [
            "Collecting pt_core_news_sm==2.2.5\n",
            "  Downloading https://github.com/explosion/spacy-models/releases/download/pt_core_news_sm-2.2.5/pt_core_news_sm-2.2.5.tar.gz (21.2 MB)\n",
            "\u001b[K     |████████████████████████████████| 21.2 MB 13.1 MB/s \n",
            "\u001b[?25hRequirement already satisfied: spacy>=2.2.2 in /usr/local/lib/python3.7/dist-packages (from pt_core_news_sm==2.2.5) (2.2.3)\n",
            "Requirement already satisfied: setuptools in /usr/local/lib/python3.7/dist-packages (from spacy>=2.2.2->pt_core_news_sm==2.2.5) (57.4.0)\n",
            "Requirement already satisfied: wasabi<1.1.0,>=0.4.0 in /usr/local/lib/python3.7/dist-packages (from spacy>=2.2.2->pt_core_news_sm==2.2.5) (0.9.0)\n",
            "Requirement already satisfied: blis<0.5.0,>=0.4.0 in /usr/local/lib/python3.7/dist-packages (from spacy>=2.2.2->pt_core_news_sm==2.2.5) (0.4.1)\n",
            "Requirement already satisfied: cymem<2.1.0,>=2.0.2 in /usr/local/lib/python3.7/dist-packages (from spacy>=2.2.2->pt_core_news_sm==2.2.5) (2.0.6)\n",
            "Requirement already satisfied: plac<1.2.0,>=0.9.6 in /usr/local/lib/python3.7/dist-packages (from spacy>=2.2.2->pt_core_news_sm==2.2.5) (1.1.3)\n",
            "Requirement already satisfied: thinc<7.4.0,>=7.3.0 in /usr/local/lib/python3.7/dist-packages (from spacy>=2.2.2->pt_core_news_sm==2.2.5) (7.3.1)\n",
            "Requirement already satisfied: srsly<1.1.0,>=0.1.0 in /usr/local/lib/python3.7/dist-packages (from spacy>=2.2.2->pt_core_news_sm==2.2.5) (1.0.5)\n",
            "Requirement already satisfied: numpy>=1.15.0 in /usr/local/lib/python3.7/dist-packages (from spacy>=2.2.2->pt_core_news_sm==2.2.5) (1.19.5)\n",
            "Requirement already satisfied: preshed<3.1.0,>=3.0.2 in /usr/local/lib/python3.7/dist-packages (from spacy>=2.2.2->pt_core_news_sm==2.2.5) (3.0.6)\n",
            "Requirement already satisfied: murmurhash<1.1.0,>=0.28.0 in /usr/local/lib/python3.7/dist-packages (from spacy>=2.2.2->pt_core_news_sm==2.2.5) (1.0.6)\n",
            "Requirement already satisfied: catalogue<1.1.0,>=0.0.7 in /usr/local/lib/python3.7/dist-packages (from spacy>=2.2.2->pt_core_news_sm==2.2.5) (1.0.0)\n",
            "Requirement already satisfied: requests<3.0.0,>=2.13.0 in /usr/local/lib/python3.7/dist-packages (from spacy>=2.2.2->pt_core_news_sm==2.2.5) (2.23.0)\n",
            "Requirement already satisfied: importlib-metadata>=0.20 in /usr/local/lib/python3.7/dist-packages (from catalogue<1.1.0,>=0.0.7->spacy>=2.2.2->pt_core_news_sm==2.2.5) (4.10.1)\n",
            "Requirement already satisfied: typing-extensions>=3.6.4 in /usr/local/lib/python3.7/dist-packages (from importlib-metadata>=0.20->catalogue<1.1.0,>=0.0.7->spacy>=2.2.2->pt_core_news_sm==2.2.5) (3.10.0.2)\n",
            "Requirement already satisfied: zipp>=0.5 in /usr/local/lib/python3.7/dist-packages (from importlib-metadata>=0.20->catalogue<1.1.0,>=0.0.7->spacy>=2.2.2->pt_core_news_sm==2.2.5) (3.7.0)\n",
            "Requirement already satisfied: urllib3!=1.25.0,!=1.25.1,<1.26,>=1.21.1 in /usr/local/lib/python3.7/dist-packages (from requests<3.0.0,>=2.13.0->spacy>=2.2.2->pt_core_news_sm==2.2.5) (1.24.3)\n",
            "Requirement already satisfied: chardet<4,>=3.0.2 in /usr/local/lib/python3.7/dist-packages (from requests<3.0.0,>=2.13.0->spacy>=2.2.2->pt_core_news_sm==2.2.5) (3.0.4)\n",
            "Requirement already satisfied: certifi>=2017.4.17 in /usr/local/lib/python3.7/dist-packages (from requests<3.0.0,>=2.13.0->spacy>=2.2.2->pt_core_news_sm==2.2.5) (2021.10.8)\n",
            "Requirement already satisfied: idna<3,>=2.5 in /usr/local/lib/python3.7/dist-packages (from requests<3.0.0,>=2.13.0->spacy>=2.2.2->pt_core_news_sm==2.2.5) (2.10)\n",
            "Requirement already satisfied: tqdm<5.0.0,>=4.10.0 in /usr/local/lib/python3.7/dist-packages (from thinc<7.4.0,>=7.3.0->spacy>=2.2.2->pt_core_news_sm==2.2.5) (4.62.3)\n",
            "Building wheels for collected packages: pt-core-news-sm\n",
            "  Building wheel for pt-core-news-sm (setup.py) ... \u001b[?25l\u001b[?25hdone\n",
            "  Created wheel for pt-core-news-sm: filename=pt_core_news_sm-2.2.5-py3-none-any.whl size=21186281 sha256=9f7dc12447a653fdf7b301bd413c25474f34157275dedc30a966d0ecfd8ea704\n",
            "  Stored in directory: /tmp/pip-ephem-wheel-cache-af4b7q5y/wheels/c3/f9/0c/5c014a36941a00f5df5fc0756cb961d7c457a978e697a6ce3b\n",
            "Successfully built pt-core-news-sm\n",
            "Installing collected packages: pt-core-news-sm\n",
            "Successfully installed pt-core-news-sm-2.2.5\n",
            "\u001b[38;5;2m✔ Download and installation successful\u001b[0m\n",
            "You can now load the model via spacy.load('pt_core_news_sm')\n",
            "\u001b[38;5;2m✔ Linking successful\u001b[0m\n",
            "/usr/local/lib/python3.7/dist-packages/pt_core_news_sm -->\n",
            "/usr/local/lib/python3.7/dist-packages/spacy/data/pt\n",
            "You can now load the model via spacy.load('pt')\n"
          ]
        }
      ]
    },
    {
      "cell_type": "code",
      "metadata": {
        "id": "DelYAveq8yuX"
      },
      "source": [
        "import pandas as pd\n",
        "import string\n",
        "import spacy\n",
        "import random\n",
        "import seaborn as sns\n",
        "import numpy as np"
      ],
      "execution_count": null,
      "outputs": []
    },
    {
      "cell_type": "markdown",
      "metadata": {
        "id": "iE3VMD8t86ky"
      },
      "source": [
        "# Etapa 2: Carregamento da base de dados"
      ]
    },
    {
      "cell_type": "code",
      "metadata": {
        "id": "zl8DBGBNsG-h"
      },
      "source": [
        "base_dados = pd.read_csv('/content/base_treinamento.txt', encoding = 'utf-8')"
      ],
      "execution_count": null,
      "outputs": []
    },
    {
      "cell_type": "code",
      "metadata": {
        "id": "SXVFCZ45tHK2",
        "colab": {
          "base_uri": "https://localhost:8080/"
        },
        "outputId": "1a319919-d6a3-439f-8d2e-6eee81367289"
      },
      "source": [
        "base_dados.shape"
      ],
      "execution_count": null,
      "outputs": [
        {
          "output_type": "execute_result",
          "data": {
            "text/plain": [
              "(196, 2)"
            ]
          },
          "metadata": {},
          "execution_count": 9
        }
      ]
    },
    {
      "cell_type": "code",
      "metadata": {
        "id": "uEzrdS6LtLKN",
        "colab": {
          "base_uri": "https://localhost:8080/",
          "height": 206
        },
        "outputId": "1df2c32a-b9c4-471e-8b92-68b38a314856"
      },
      "source": [
        "base_dados.head()"
      ],
      "execution_count": null,
      "outputs": [
        {
          "output_type": "execute_result",
          "data": {
            "text/html": [
              "\n",
              "  <div id=\"df-8ecd4732-7d9e-4921-82c1-e19eef9bfc45\">\n",
              "    <div class=\"colab-df-container\">\n",
              "      <div>\n",
              "<style scoped>\n",
              "    .dataframe tbody tr th:only-of-type {\n",
              "        vertical-align: middle;\n",
              "    }\n",
              "\n",
              "    .dataframe tbody tr th {\n",
              "        vertical-align: top;\n",
              "    }\n",
              "\n",
              "    .dataframe thead th {\n",
              "        text-align: right;\n",
              "    }\n",
              "</style>\n",
              "<table border=\"1\" class=\"dataframe\">\n",
              "  <thead>\n",
              "    <tr style=\"text-align: right;\">\n",
              "      <th></th>\n",
              "      <th>texto</th>\n",
              "      <th>emocao</th>\n",
              "    </tr>\n",
              "  </thead>\n",
              "  <tbody>\n",
              "    <tr>\n",
              "      <th>0</th>\n",
              "      <td>este trabalho é agradável</td>\n",
              "      <td>alegria</td>\n",
              "    </tr>\n",
              "    <tr>\n",
              "      <th>1</th>\n",
              "      <td>gosto de ficar no seu aconchego</td>\n",
              "      <td>alegria</td>\n",
              "    </tr>\n",
              "    <tr>\n",
              "      <th>2</th>\n",
              "      <td>fiz a adesão ao curso hoje</td>\n",
              "      <td>alegria</td>\n",
              "    </tr>\n",
              "    <tr>\n",
              "      <th>3</th>\n",
              "      <td>eu sou admirada por muitos</td>\n",
              "      <td>alegria</td>\n",
              "    </tr>\n",
              "    <tr>\n",
              "      <th>4</th>\n",
              "      <td>adoro como você</td>\n",
              "      <td>alegria</td>\n",
              "    </tr>\n",
              "  </tbody>\n",
              "</table>\n",
              "</div>\n",
              "      <button class=\"colab-df-convert\" onclick=\"convertToInteractive('df-8ecd4732-7d9e-4921-82c1-e19eef9bfc45')\"\n",
              "              title=\"Convert this dataframe to an interactive table.\"\n",
              "              style=\"display:none;\">\n",
              "        \n",
              "  <svg xmlns=\"http://www.w3.org/2000/svg\" height=\"24px\"viewBox=\"0 0 24 24\"\n",
              "       width=\"24px\">\n",
              "    <path d=\"M0 0h24v24H0V0z\" fill=\"none\"/>\n",
              "    <path d=\"M18.56 5.44l.94 2.06.94-2.06 2.06-.94-2.06-.94-.94-2.06-.94 2.06-2.06.94zm-11 1L8.5 8.5l.94-2.06 2.06-.94-2.06-.94L8.5 2.5l-.94 2.06-2.06.94zm10 10l.94 2.06.94-2.06 2.06-.94-2.06-.94-.94-2.06-.94 2.06-2.06.94z\"/><path d=\"M17.41 7.96l-1.37-1.37c-.4-.4-.92-.59-1.43-.59-.52 0-1.04.2-1.43.59L10.3 9.45l-7.72 7.72c-.78.78-.78 2.05 0 2.83L4 21.41c.39.39.9.59 1.41.59.51 0 1.02-.2 1.41-.59l7.78-7.78 2.81-2.81c.8-.78.8-2.07 0-2.86zM5.41 20L4 18.59l7.72-7.72 1.47 1.35L5.41 20z\"/>\n",
              "  </svg>\n",
              "      </button>\n",
              "      \n",
              "  <style>\n",
              "    .colab-df-container {\n",
              "      display:flex;\n",
              "      flex-wrap:wrap;\n",
              "      gap: 12px;\n",
              "    }\n",
              "\n",
              "    .colab-df-convert {\n",
              "      background-color: #E8F0FE;\n",
              "      border: none;\n",
              "      border-radius: 50%;\n",
              "      cursor: pointer;\n",
              "      display: none;\n",
              "      fill: #1967D2;\n",
              "      height: 32px;\n",
              "      padding: 0 0 0 0;\n",
              "      width: 32px;\n",
              "    }\n",
              "\n",
              "    .colab-df-convert:hover {\n",
              "      background-color: #E2EBFA;\n",
              "      box-shadow: 0px 1px 2px rgba(60, 64, 67, 0.3), 0px 1px 3px 1px rgba(60, 64, 67, 0.15);\n",
              "      fill: #174EA6;\n",
              "    }\n",
              "\n",
              "    [theme=dark] .colab-df-convert {\n",
              "      background-color: #3B4455;\n",
              "      fill: #D2E3FC;\n",
              "    }\n",
              "\n",
              "    [theme=dark] .colab-df-convert:hover {\n",
              "      background-color: #434B5C;\n",
              "      box-shadow: 0px 1px 3px 1px rgba(0, 0, 0, 0.15);\n",
              "      filter: drop-shadow(0px 1px 2px rgba(0, 0, 0, 0.3));\n",
              "      fill: #FFFFFF;\n",
              "    }\n",
              "  </style>\n",
              "\n",
              "      <script>\n",
              "        const buttonEl =\n",
              "          document.querySelector('#df-8ecd4732-7d9e-4921-82c1-e19eef9bfc45 button.colab-df-convert');\n",
              "        buttonEl.style.display =\n",
              "          google.colab.kernel.accessAllowed ? 'block' : 'none';\n",
              "\n",
              "        async function convertToInteractive(key) {\n",
              "          const element = document.querySelector('#df-8ecd4732-7d9e-4921-82c1-e19eef9bfc45');\n",
              "          const dataTable =\n",
              "            await google.colab.kernel.invokeFunction('convertToInteractive',\n",
              "                                                     [key], {});\n",
              "          if (!dataTable) return;\n",
              "\n",
              "          const docLinkHtml = 'Like what you see? Visit the ' +\n",
              "            '<a target=\"_blank\" href=https://colab.research.google.com/notebooks/data_table.ipynb>data table notebook</a>'\n",
              "            + ' to learn more about interactive tables.';\n",
              "          element.innerHTML = '';\n",
              "          dataTable['output_type'] = 'display_data';\n",
              "          await google.colab.output.renderOutput(dataTable, element);\n",
              "          const docLink = document.createElement('div');\n",
              "          docLink.innerHTML = docLinkHtml;\n",
              "          element.appendChild(docLink);\n",
              "        }\n",
              "      </script>\n",
              "    </div>\n",
              "  </div>\n",
              "  "
            ],
            "text/plain": [
              "                             texto   emocao\n",
              "0        este trabalho é agradável  alegria\n",
              "1  gosto de ficar no seu aconchego  alegria\n",
              "2       fiz a adesão ao curso hoje  alegria\n",
              "3       eu sou admirada por muitos  alegria\n",
              "4                  adoro como você  alegria"
            ]
          },
          "metadata": {},
          "execution_count": 10
        }
      ]
    },
    {
      "cell_type": "code",
      "metadata": {
        "id": "g7mE74ILtPY3",
        "colab": {
          "base_uri": "https://localhost:8080/",
          "height": 206
        },
        "outputId": "96494f71-dbc2-4b8b-c35d-b322092851a5"
      },
      "source": [
        "base_dados.tail()"
      ],
      "execution_count": null,
      "outputs": [
        {
          "output_type": "execute_result",
          "data": {
            "text/html": [
              "\n",
              "  <div id=\"df-12aba218-a933-4543-a092-60506542a3e1\">\n",
              "    <div class=\"colab-df-container\">\n",
              "      <div>\n",
              "<style scoped>\n",
              "    .dataframe tbody tr th:only-of-type {\n",
              "        vertical-align: middle;\n",
              "    }\n",
              "\n",
              "    .dataframe tbody tr th {\n",
              "        vertical-align: top;\n",
              "    }\n",
              "\n",
              "    .dataframe thead th {\n",
              "        text-align: right;\n",
              "    }\n",
              "</style>\n",
              "<table border=\"1\" class=\"dataframe\">\n",
              "  <thead>\n",
              "    <tr style=\"text-align: right;\">\n",
              "      <th></th>\n",
              "      <th>texto</th>\n",
              "      <th>emocao</th>\n",
              "    </tr>\n",
              "  </thead>\n",
              "  <tbody>\n",
              "    <tr>\n",
              "      <th>191</th>\n",
              "      <td>estou chocado e amedrontado com este assassina...</td>\n",
              "      <td>medo</td>\n",
              "    </tr>\n",
              "    <tr>\n",
              "      <th>192</th>\n",
              "      <td>é preciso afugenta com ímpeto este medo do inf...</td>\n",
              "      <td>medo</td>\n",
              "    </tr>\n",
              "    <tr>\n",
              "      <th>193</th>\n",
              "      <td>políticos usam suas forças para afugentar e am...</td>\n",
              "      <td>medo</td>\n",
              "    </tr>\n",
              "    <tr>\n",
              "      <th>194</th>\n",
              "      <td>o objetivo disso e apenas me amedrontar mais</td>\n",
              "      <td>medo</td>\n",
              "    </tr>\n",
              "    <tr>\n",
              "      <th>195</th>\n",
              "      <td>isso me apavora</td>\n",
              "      <td>medo</td>\n",
              "    </tr>\n",
              "  </tbody>\n",
              "</table>\n",
              "</div>\n",
              "      <button class=\"colab-df-convert\" onclick=\"convertToInteractive('df-12aba218-a933-4543-a092-60506542a3e1')\"\n",
              "              title=\"Convert this dataframe to an interactive table.\"\n",
              "              style=\"display:none;\">\n",
              "        \n",
              "  <svg xmlns=\"http://www.w3.org/2000/svg\" height=\"24px\"viewBox=\"0 0 24 24\"\n",
              "       width=\"24px\">\n",
              "    <path d=\"M0 0h24v24H0V0z\" fill=\"none\"/>\n",
              "    <path d=\"M18.56 5.44l.94 2.06.94-2.06 2.06-.94-2.06-.94-.94-2.06-.94 2.06-2.06.94zm-11 1L8.5 8.5l.94-2.06 2.06-.94-2.06-.94L8.5 2.5l-.94 2.06-2.06.94zm10 10l.94 2.06.94-2.06 2.06-.94-2.06-.94-.94-2.06-.94 2.06-2.06.94z\"/><path d=\"M17.41 7.96l-1.37-1.37c-.4-.4-.92-.59-1.43-.59-.52 0-1.04.2-1.43.59L10.3 9.45l-7.72 7.72c-.78.78-.78 2.05 0 2.83L4 21.41c.39.39.9.59 1.41.59.51 0 1.02-.2 1.41-.59l7.78-7.78 2.81-2.81c.8-.78.8-2.07 0-2.86zM5.41 20L4 18.59l7.72-7.72 1.47 1.35L5.41 20z\"/>\n",
              "  </svg>\n",
              "      </button>\n",
              "      \n",
              "  <style>\n",
              "    .colab-df-container {\n",
              "      display:flex;\n",
              "      flex-wrap:wrap;\n",
              "      gap: 12px;\n",
              "    }\n",
              "\n",
              "    .colab-df-convert {\n",
              "      background-color: #E8F0FE;\n",
              "      border: none;\n",
              "      border-radius: 50%;\n",
              "      cursor: pointer;\n",
              "      display: none;\n",
              "      fill: #1967D2;\n",
              "      height: 32px;\n",
              "      padding: 0 0 0 0;\n",
              "      width: 32px;\n",
              "    }\n",
              "\n",
              "    .colab-df-convert:hover {\n",
              "      background-color: #E2EBFA;\n",
              "      box-shadow: 0px 1px 2px rgba(60, 64, 67, 0.3), 0px 1px 3px 1px rgba(60, 64, 67, 0.15);\n",
              "      fill: #174EA6;\n",
              "    }\n",
              "\n",
              "    [theme=dark] .colab-df-convert {\n",
              "      background-color: #3B4455;\n",
              "      fill: #D2E3FC;\n",
              "    }\n",
              "\n",
              "    [theme=dark] .colab-df-convert:hover {\n",
              "      background-color: #434B5C;\n",
              "      box-shadow: 0px 1px 3px 1px rgba(0, 0, 0, 0.15);\n",
              "      filter: drop-shadow(0px 1px 2px rgba(0, 0, 0, 0.3));\n",
              "      fill: #FFFFFF;\n",
              "    }\n",
              "  </style>\n",
              "\n",
              "      <script>\n",
              "        const buttonEl =\n",
              "          document.querySelector('#df-12aba218-a933-4543-a092-60506542a3e1 button.colab-df-convert');\n",
              "        buttonEl.style.display =\n",
              "          google.colab.kernel.accessAllowed ? 'block' : 'none';\n",
              "\n",
              "        async function convertToInteractive(key) {\n",
              "          const element = document.querySelector('#df-12aba218-a933-4543-a092-60506542a3e1');\n",
              "          const dataTable =\n",
              "            await google.colab.kernel.invokeFunction('convertToInteractive',\n",
              "                                                     [key], {});\n",
              "          if (!dataTable) return;\n",
              "\n",
              "          const docLinkHtml = 'Like what you see? Visit the ' +\n",
              "            '<a target=\"_blank\" href=https://colab.research.google.com/notebooks/data_table.ipynb>data table notebook</a>'\n",
              "            + ' to learn more about interactive tables.';\n",
              "          element.innerHTML = '';\n",
              "          dataTable['output_type'] = 'display_data';\n",
              "          await google.colab.output.renderOutput(dataTable, element);\n",
              "          const docLink = document.createElement('div');\n",
              "          docLink.innerHTML = docLinkHtml;\n",
              "          element.appendChild(docLink);\n",
              "        }\n",
              "      </script>\n",
              "    </div>\n",
              "  </div>\n",
              "  "
            ],
            "text/plain": [
              "                                                 texto emocao\n",
              "191  estou chocado e amedrontado com este assassina...   medo\n",
              "192  é preciso afugenta com ímpeto este medo do inf...   medo\n",
              "193  políticos usam suas forças para afugentar e am...   medo\n",
              "194       o objetivo disso e apenas me amedrontar mais   medo\n",
              "195                                    isso me apavora   medo"
            ]
          },
          "metadata": {},
          "execution_count": 11
        }
      ]
    },
    {
      "cell_type": "code",
      "metadata": {
        "id": "IekRry3jtT53",
        "colab": {
          "base_uri": "https://localhost:8080/",
          "height": 334
        },
        "outputId": "e81fe52a-fd93-4cd8-86ad-112d8a87b4f3"
      },
      "source": [
        "sns.countplot(base_dados['emocao'], label = 'Contagem');"
      ],
      "execution_count": null,
      "outputs": [
        {
          "output_type": "stream",
          "name": "stderr",
          "text": [
            "/usr/local/lib/python3.7/dist-packages/seaborn/_decorators.py:43: FutureWarning: Pass the following variable as a keyword arg: x. From version 0.12, the only valid positional argument will be `data`, and passing other arguments without an explicit keyword will result in an error or misinterpretation.\n",
            "  FutureWarning\n"
          ]
        },
        {
          "output_type": "display_data",
          "data": {
            "image/png": "[encoded data removed]",
            "text/plain": [
              "<Figure size 432x288 with 1 Axes>"
            ]
          },
          "metadata": {
            "needs_background": "light"
          }
        }
      ]
    },
    {
      "cell_type": "markdown",
      "metadata": {
        "id": "h36-8Ien-AQ1"
      },
      "source": [
        "# Etapa 3: Função para pré-processamento dos textos"
      ]
    },
    {
      "cell_type": "markdown",
      "source": [
        "Removendo as pontuações e stop-words"
      ],
      "metadata": {
        "id": "Z83j9Ojo4CiP"
      }
    },
    {
      "cell_type": "code",
      "metadata": {
        "id": "a-qD0bc7uBrD",
        "colab": {
          "base_uri": "https://localhost:8080/",
          "height": 35
        },
        "outputId": "4b5efcef-8001-46f5-ae34-6d78e248fe6e"
      },
      "source": [
        "pontuacoes = string.punctuation\n",
        "pontuacoes"
      ],
      "execution_count": null,
      "outputs": [
        {
          "output_type": "execute_result",
          "data": {
            "application/vnd.google.colaboratory.intrinsic+json": {
              "type": "string"
            },
            "text/plain": [
              "'!\"#$%&\\'()*+,-./:;<=>?@[\\\\]^_`{|}~'"
            ]
          },
          "metadata": {},
          "execution_count": 13
        }
      ]
    },
    {
      "cell_type": "code",
      "metadata": {
        "id": "SowU2ch_uNoe"
      },
      "source": [
        "from spacy.lang.pt.stop_words import STOP_WORDS\n",
        "stop_words = STOP_WORDS"
      ],
      "execution_count": null,
      "outputs": []
    },
    {
      "cell_type": "code",
      "metadata": {
        "id": "UilhsfV1uWdo",
        "colab": {
          "base_uri": "https://localhost:8080/"
        },
        "outputId": "61b13b27-63b1-45b8-8d8d-7b0a5a8ce646"
      },
      "source": [
        "print(stop_words)"
      ],
      "execution_count": null,
      "outputs": [
        {
          "output_type": "stream",
          "name": "stdout",
          "text": [
            "{'isso', 'coisa', 'no', 'adeus', 'próximo', 'conhecido', 'além', 'aquela', 'dos', 'quinze', 'neste', 'ou', 'tua', 'estivemos', 'uma', 'próprio', 'obrigada', 'dez', 'ser', 'duas', 'porquanto', 'tal', 'que', 'dezasseis', 'novas', 'ir', 'tentaram', 'contra', 'meses', 'sob', 'dizem', 'nossas', 'através', 'ligado', 'local', 'estar', 'essas', 'dar', 'seis', 'assim', 'diz', 'muitos', 'temos', 'segunda', 'debaixo', 'fui', 'tenho', 'tipo', 'corrente', 'pegar', 'as', 'vosso', 'grande', 'dessa', 'vens', 'foram', 'dentro', 'aquele', 'treze', 'primeiro', 'terceiro', 'direita', 'novo', 'tentei', 'já', 'enquanto', 'pontos', 'estás', 'estou', 'vossos', 'ontem', 'sétimo', 'vai', 'mal', 'diante', 'maioria', 'toda', 'todas', 'caminho', 'cinco', 'iniciar', 'nível', 'meio', 'tu', 'nunca', 'usa', 'dezassete', 'comprida', 'sois', 'nosso', 'suas', 'sem', 'muito', 'custa', 'entre', 'põe', 'então', 'estará', 'ora', 'cento', 'fará', 'querem', 'como', 'aqueles', 'fostes', 'oitavo', 'partir', 'quer', 'põem', 'pouco', 'acerca', 'sexta', 'novos', 'estão', 'na', 'tente', 'disso', 'dizer', 'apoia', 'pôde', 'for', 'algo', 'cedo', 'estava', 'número', 'aqui', 'após', 'outra', 'sabe', 'des', 'tivemos', 'eles', 'mais', 'faço', 'desta', 'naquele', 'nossos', 'uns', 'contudo', 'onze', 'quais', 'valor', 'agora', 'ali', 'inclusive', 'às', 'dezanove', 'poder', 'dão', 'nada', 'pouca', 'isto', 'à', 'vocês', 'maior', 'próxima', 'essa', 'sexto', 'quatro', 'pelo', 'estivestes', 'tempo', 'todos', 'tem', 'tiveste', 'tivestes', 'área', 'quinta', 'apontar', 'exemplo', 'sua', 'do', 'menor', 'possível', 'lado', 'deve', 'certeza', 'menos', 'ademais', 'seria', 'podem', 'um', 'ainda', 'máximo', 'breve', 'eu', 'somos', 'pela', 'esteve', 'te', 'zero', 'minha', 'saber', 'dá', 'estado', 'nenhuma', 'vez', 'fazer', 'têm', 'fora', 'veja', 'sou', 'numa', 'és', 'devem', 'vezes', 'deste', 'irá', 'seu', 'nós', 'apenas', 'nova', 'tais', 'cuja', 'elas', 'sistema', 'fazemos', 'parte', 'apoio', 'vossas', 'talvez', 'porquê', 'baixo', 'vais', 'momento', 'quieto', 'favor', 'podia', 'vão', 'conselho', 'porém', 'último', 'sétima', 'vindo', 'ponto', 'tarde', 'tão', 'tendes', 'tuas', 'vêm', 'faz', 'nos', 'os', 'ter', 'de', 'números', 'até', 'pelos', 'nem', 'conhecida', 'vinda', 'falta', 'outros', 'nuns', 'umas', 'quê', 'parece', 'catorze', 'esta', 'só', 'povo', 'pode', 'eventual', 'com', 'bastante', 'quarta', 'porque', 'certamente', 'tiveram', 'ambos', 'relação', 'oitava', 'por', 'são', 'fomos', 'boa', 'posição', 'mesmo', 'não', 'nesta', 'tanta', 'daquela', 'foi', 'geral', 'depois', 'das', 'obrigado', 'sim', 'quero', 'cujo', 'todo', 'qualquer', 'ver', 'sobre', 'esse', 'vem', 'fazeis', 'também', 'pelas', 'meu', 'doze', 'cada', 'teus', 'grupo', 'quinto', 'vinte', 'perto', 'sei', 'logo', 'segundo', 'nove', 'está', 'lá', 'maiorias', 'tive', 'estiveste', 'nesse', 'oito', 'nessa', 'fazes', 'puderam', 'nas', 'vários', 'quem', 'fez', 'usar', 'poderá', 'se', 'comprido', 'daquele', 'três', 'longe', 'tentar', 'outras', 'vós', 'desse', 'estiveram', 'bem', 'terceira', 'teu', 'minhas', 'fazem', 'aí', 'mês', 'fim', 'quieta', 'embora', 'num', 'posso', 'cá', 'ao', 'este', 'algumas', 'lugar', 'onde', 'aos', 'foste', 'mas', 'bom', 'estes', 'era', 'vossa', 'atrás', 'sempre', 'qual', 'quanto', 'tens', 'estive', 'teve', 'questão', 'vos', 'em', 'meus', 'dezoito', 'pois', 'seus', 'da', 'primeira', 'nossa', 'dois', 'demais', 'me', 'antes', 'alguns', 'lhe', 'somente', 'cima', 'fazia', 'esses', 'sete', 'deverá', 'ele', 'tudo', 'inicio', 'mil', 'ela', 'estas', 'ambas', 'grandes', 'aquelas', 'é', 'tanto', 'você', 'para', 'portanto', 'quarto', 'aquilo', 'forma', 'possivelmente', 'naquela', 'desde', 'quando', 'final'}\n"
          ]
        }
      ]
    },
    {
      "cell_type": "code",
      "metadata": {
        "id": "TCPSvh8buZlX",
        "colab": {
          "base_uri": "https://localhost:8080/"
        },
        "outputId": "c079f48d-e9a2-455a-843e-e6ca2f9327d2"
      },
      "source": [
        "len(stop_words)"
      ],
      "execution_count": null,
      "outputs": [
        {
          "output_type": "execute_result",
          "data": {
            "text/plain": [
              "413"
            ]
          },
          "metadata": {},
          "execution_count": 16
        }
      ]
    },
    {
      "cell_type": "markdown",
      "source": [
        "Carregando o modelo"
      ],
      "metadata": {
        "id": "hSXEp-Rs4RUA"
      }
    },
    {
      "cell_type": "code",
      "metadata": {
        "id": "QhF1_72Euc4o"
      },
      "source": [
        "pln = spacy.load('pt')"
      ],
      "execution_count": null,
      "outputs": []
    },
    {
      "cell_type": "code",
      "metadata": {
        "id": "BN8Bzd1Dug0v",
        "colab": {
          "base_uri": "https://localhost:8080/"
        },
        "outputId": "b1499ae8-16dd-4db2-e73c-5fbe43bd6fc3"
      },
      "source": [
        "pln"
      ],
      "execution_count": null,
      "outputs": [
        {
          "output_type": "execute_result",
          "data": {
            "text/plain": [
              "<spacy.lang.pt.Portuguese at 0x7f6efcb4dd90>"
            ]
          },
          "metadata": {},
          "execution_count": 18
        }
      ]
    },
    {
      "cell_type": "code",
      "metadata": {
        "id": "RvCEW_Uqune8"
      },
      "source": [
        "def preprocessamento(texto):\n",
        "  texto = texto.lower()\n",
        "  documento = pln(texto)\n",
        "  \n",
        "  lista = []\n",
        "  for token in documento:\n",
        "    #lista.append(token.text)\n",
        "    lista.append(token.lemma_)\n",
        "\n",
        "  lista = [palavra for palavra in lista if palavra not in stop_words and palavra not in pontuacoes]\n",
        "  lista = ' '.join([str(elemento) for elemento in lista if not elemento.isdigit()])\n",
        "\n",
        "  return lista"
      ],
      "execution_count": null,
      "outputs": []
    },
    {
      "cell_type": "code",
      "metadata": {
        "id": "2_nIBBhYuqsr",
        "colab": {
          "base_uri": "https://localhost:8080/",
          "height": 35
        },
        "outputId": "4609f169-ac9e-481f-efef-109521c98e80"
      },
      "source": [
        "teste = preprocessamento('Estou aPrendendo 1 10 23 processamento de linguagem natural, Curso em Curitiba')\n",
        "teste"
      ],
      "execution_count": null,
      "outputs": [
        {
          "output_type": "execute_result",
          "data": {
            "application/vnd.google.colaboratory.intrinsic+json": {
              "type": "string"
            },
            "text/plain": [
              "'aprender processamento linguagem natural cursar curitiba'"
            ]
          },
          "metadata": {},
          "execution_count": 20
        }
      ]
    },
    {
      "cell_type": "markdown",
      "metadata": {
        "id": "DtL8DBPVOFoL"
      },
      "source": [
        "# Etapa 4: Pré-processamento da base de dados"
      ]
    },
    {
      "cell_type": "markdown",
      "metadata": {
        "id": "n7G5PSVUOOId"
      },
      "source": [
        "### Limpeza dos textos"
      ]
    },
    {
      "cell_type": "code",
      "metadata": {
        "id": "hpwZrbUGw58L",
        "colab": {
          "base_uri": "https://localhost:8080/",
          "height": 363
        },
        "outputId": "c2044972-9219-43b4-d4ec-d902b8acd3d6"
      },
      "source": [
        "base_dados.head(10)"
      ],
      "execution_count": null,
      "outputs": [
        {
          "output_type": "execute_result",
          "data": {
            "text/html": [
              "\n",
              "  <div id=\"df-737fe85a-5895-4753-8b00-a5474c5b7c83\">\n",
              "    <div class=\"colab-df-container\">\n",
              "      <div>\n",
              "<style scoped>\n",
              "    .dataframe tbody tr th:only-of-type {\n",
              "        vertical-align: middle;\n",
              "    }\n",
              "\n",
              "    .dataframe tbody tr th {\n",
              "        vertical-align: top;\n",
              "    }\n",
              "\n",
              "    .dataframe thead th {\n",
              "        text-align: right;\n",
              "    }\n",
              "</style>\n",
              "<table border=\"1\" class=\"dataframe\">\n",
              "  <thead>\n",
              "    <tr style=\"text-align: right;\">\n",
              "      <th></th>\n",
              "      <th>texto</th>\n",
              "      <th>emocao</th>\n",
              "    </tr>\n",
              "  </thead>\n",
              "  <tbody>\n",
              "    <tr>\n",
              "      <th>0</th>\n",
              "      <td>este trabalho é agradável</td>\n",
              "      <td>alegria</td>\n",
              "    </tr>\n",
              "    <tr>\n",
              "      <th>1</th>\n",
              "      <td>gosto de ficar no seu aconchego</td>\n",
              "      <td>alegria</td>\n",
              "    </tr>\n",
              "    <tr>\n",
              "      <th>2</th>\n",
              "      <td>fiz a adesão ao curso hoje</td>\n",
              "      <td>alegria</td>\n",
              "    </tr>\n",
              "    <tr>\n",
              "      <th>3</th>\n",
              "      <td>eu sou admirada por muitos</td>\n",
              "      <td>alegria</td>\n",
              "    </tr>\n",
              "    <tr>\n",
              "      <th>4</th>\n",
              "      <td>adoro como você</td>\n",
              "      <td>alegria</td>\n",
              "    </tr>\n",
              "    <tr>\n",
              "      <th>5</th>\n",
              "      <td>adoro seu cabelo macio</td>\n",
              "      <td>alegria</td>\n",
              "    </tr>\n",
              "    <tr>\n",
              "      <th>6</th>\n",
              "      <td>adoro a cor dos seus olhos</td>\n",
              "      <td>alegria</td>\n",
              "    </tr>\n",
              "    <tr>\n",
              "      <th>7</th>\n",
              "      <td>somo tão amáveis um com o outro</td>\n",
              "      <td>alegria</td>\n",
              "    </tr>\n",
              "    <tr>\n",
              "      <th>8</th>\n",
              "      <td>sinto uma grande afeição por ele</td>\n",
              "      <td>alegria</td>\n",
              "    </tr>\n",
              "    <tr>\n",
              "      <th>9</th>\n",
              "      <td>quero agradar meus filhos</td>\n",
              "      <td>alegria</td>\n",
              "    </tr>\n",
              "  </tbody>\n",
              "</table>\n",
              "</div>\n",
              "      <button class=\"colab-df-convert\" onclick=\"convertToInteractive('df-737fe85a-5895-4753-8b00-a5474c5b7c83')\"\n",
              "              title=\"Convert this dataframe to an interactive table.\"\n",
              "              style=\"display:none;\">\n",
              "        \n",
              "  <svg xmlns=\"http://www.w3.org/2000/svg\" height=\"24px\"viewBox=\"0 0 24 24\"\n",
              "       width=\"24px\">\n",
              "    <path d=\"M0 0h24v24H0V0z\" fill=\"none\"/>\n",
              "    <path d=\"M18.56 5.44l.94 2.06.94-2.06 2.06-.94-2.06-.94-.94-2.06-.94 2.06-2.06.94zm-11 1L8.5 8.5l.94-2.06 2.06-.94-2.06-.94L8.5 2.5l-.94 2.06-2.06.94zm10 10l.94 2.06.94-2.06 2.06-.94-2.06-.94-.94-2.06-.94 2.06-2.06.94z\"/><path d=\"M17.41 7.96l-1.37-1.37c-.4-.4-.92-.59-1.43-.59-.52 0-1.04.2-1.43.59L10.3 9.45l-7.72 7.72c-.78.78-.78 2.05 0 2.83L4 21.41c.39.39.9.59 1.41.59.51 0 1.02-.2 1.41-.59l7.78-7.78 2.81-2.81c.8-.78.8-2.07 0-2.86zM5.41 20L4 18.59l7.72-7.72 1.47 1.35L5.41 20z\"/>\n",
              "  </svg>\n",
              "      </button>\n",
              "      \n",
              "  <style>\n",
              "    .colab-df-container {\n",
              "      display:flex;\n",
              "      flex-wrap:wrap;\n",
              "      gap: 12px;\n",
              "    }\n",
              "\n",
              "    .colab-df-convert {\n",
              "      background-color: #E8F0FE;\n",
              "      border: none;\n",
              "      border-radius: 50%;\n",
              "      cursor: pointer;\n",
              "      display: none;\n",
              "      fill: #1967D2;\n",
              "      height: 32px;\n",
              "      padding: 0 0 0 0;\n",
              "      width: 32px;\n",
              "    }\n",
              "\n",
              "    .colab-df-convert:hover {\n",
              "      background-color: #E2EBFA;\n",
              "      box-shadow: 0px 1px 2px rgba(60, 64, 67, 0.3), 0px 1px 3px 1px rgba(60, 64, 67, 0.15);\n",
              "      fill: #174EA6;\n",
              "    }\n",
              "\n",
              "    [theme=dark] .colab-df-convert {\n",
              "      background-color: #3B4455;\n",
              "      fill: #D2E3FC;\n",
              "    }\n",
              "\n",
              "    [theme=dark] .colab-df-convert:hover {\n",
              "      background-color: #434B5C;\n",
              "      box-shadow: 0px 1px 3px 1px rgba(0, 0, 0, 0.15);\n",
              "      filter: drop-shadow(0px 1px 2px rgba(0, 0, 0, 0.3));\n",
              "      fill: #FFFFFF;\n",
              "    }\n",
              "  </style>\n",
              "\n",
              "      <script>\n",
              "        const buttonEl =\n",
              "          document.querySelector('#df-737fe85a-5895-4753-8b00-a5474c5b7c83 button.colab-df-convert');\n",
              "        buttonEl.style.display =\n",
              "          google.colab.kernel.accessAllowed ? 'block' : 'none';\n",
              "\n",
              "        async function convertToInteractive(key) {\n",
              "          const element = document.querySelector('#df-737fe85a-5895-4753-8b00-a5474c5b7c83');\n",
              "          const dataTable =\n",
              "            await google.colab.kernel.invokeFunction('convertToInteractive',\n",
              "                                                     [key], {});\n",
              "          if (!dataTable) return;\n",
              "\n",
              "          const docLinkHtml = 'Like what you see? Visit the ' +\n",
              "            '<a target=\"_blank\" href=https://colab.research.google.com/notebooks/data_table.ipynb>data table notebook</a>'\n",
              "            + ' to learn more about interactive tables.';\n",
              "          element.innerHTML = '';\n",
              "          dataTable['output_type'] = 'display_data';\n",
              "          await google.colab.output.renderOutput(dataTable, element);\n",
              "          const docLink = document.createElement('div');\n",
              "          docLink.innerHTML = docLinkHtml;\n",
              "          element.appendChild(docLink);\n",
              "        }\n",
              "      </script>\n",
              "    </div>\n",
              "  </div>\n",
              "  "
            ],
            "text/plain": [
              "                              texto   emocao\n",
              "0         este trabalho é agradável  alegria\n",
              "1   gosto de ficar no seu aconchego  alegria\n",
              "2        fiz a adesão ao curso hoje  alegria\n",
              "3        eu sou admirada por muitos  alegria\n",
              "4                   adoro como você  alegria\n",
              "5            adoro seu cabelo macio  alegria\n",
              "6        adoro a cor dos seus olhos  alegria\n",
              "7   somo tão amáveis um com o outro  alegria\n",
              "8  sinto uma grande afeição por ele  alegria\n",
              "9         quero agradar meus filhos  alegria"
            ]
          },
          "metadata": {},
          "execution_count": 21
        }
      ]
    },
    {
      "cell_type": "code",
      "metadata": {
        "id": "Yg17ZY0LxHB-"
      },
      "source": [
        "base_dados['texto'] = base_dados['texto'].apply(preprocessamento)"
      ],
      "execution_count": null,
      "outputs": []
    },
    {
      "cell_type": "code",
      "metadata": {
        "id": "a-Rh0qZQxZ99",
        "colab": {
          "base_uri": "https://localhost:8080/",
          "height": 363
        },
        "outputId": "3b3cd4db-ac51-44aa-9843-24df075ae328"
      },
      "source": [
        "base_dados.head(10)"
      ],
      "execution_count": null,
      "outputs": [
        {
          "output_type": "execute_result",
          "data": {
            "text/html": [
              "\n",
              "  <div id=\"df-73258482-0b27-492e-ac16-050a101bfe9f\">\n",
              "    <div class=\"colab-df-container\">\n",
              "      <div>\n",
              "<style scoped>\n",
              "    .dataframe tbody tr th:only-of-type {\n",
              "        vertical-align: middle;\n",
              "    }\n",
              "\n",
              "    .dataframe tbody tr th {\n",
              "        vertical-align: top;\n",
              "    }\n",
              "\n",
              "    .dataframe thead th {\n",
              "        text-align: right;\n",
              "    }\n",
              "</style>\n",
              "<table border=\"1\" class=\"dataframe\">\n",
              "  <thead>\n",
              "    <tr style=\"text-align: right;\">\n",
              "      <th></th>\n",
              "      <th>texto</th>\n",
              "      <th>emocao</th>\n",
              "    </tr>\n",
              "  </thead>\n",
              "  <tbody>\n",
              "    <tr>\n",
              "      <th>0</th>\n",
              "      <td>trabalhar agradável</td>\n",
              "      <td>alegria</td>\n",
              "    </tr>\n",
              "    <tr>\n",
              "      <th>1</th>\n",
              "      <td>gostar ficar o aconchegar</td>\n",
              "      <td>alegria</td>\n",
              "    </tr>\n",
              "    <tr>\n",
              "      <th>2</th>\n",
              "      <td>o adesão o o cursar hoje</td>\n",
              "      <td>alegria</td>\n",
              "    </tr>\n",
              "    <tr>\n",
              "      <th>3</th>\n",
              "      <td>admirar</td>\n",
              "      <td>alegria</td>\n",
              "    </tr>\n",
              "    <tr>\n",
              "      <th>4</th>\n",
              "      <td>adorar comer</td>\n",
              "      <td>alegria</td>\n",
              "    </tr>\n",
              "    <tr>\n",
              "      <th>5</th>\n",
              "      <td>adorar cabelar maciar</td>\n",
              "      <td>alegria</td>\n",
              "    </tr>\n",
              "    <tr>\n",
              "      <th>6</th>\n",
              "      <td>adorar o cor olho</td>\n",
              "      <td>alegria</td>\n",
              "    </tr>\n",
              "    <tr>\n",
              "      <th>7</th>\n",
              "      <td>somar amável o outro</td>\n",
              "      <td>alegria</td>\n",
              "    </tr>\n",
              "    <tr>\n",
              "      <th>8</th>\n",
              "      <td>sentir umar afeição</td>\n",
              "      <td>alegria</td>\n",
              "    </tr>\n",
              "    <tr>\n",
              "      <th>9</th>\n",
              "      <td>querer agradar filho</td>\n",
              "      <td>alegria</td>\n",
              "    </tr>\n",
              "  </tbody>\n",
              "</table>\n",
              "</div>\n",
              "      <button class=\"colab-df-convert\" onclick=\"convertToInteractive('df-73258482-0b27-492e-ac16-050a101bfe9f')\"\n",
              "              title=\"Convert this dataframe to an interactive table.\"\n",
              "              style=\"display:none;\">\n",
              "        \n",
              "  <svg xmlns=\"http://www.w3.org/2000/svg\" height=\"24px\"viewBox=\"0 0 24 24\"\n",
              "       width=\"24px\">\n",
              "    <path d=\"M0 0h24v24H0V0z\" fill=\"none\"/>\n",
              "    <path d=\"M18.56 5.44l.94 2.06.94-2.06 2.06-.94-2.06-.94-.94-2.06-.94 2.06-2.06.94zm-11 1L8.5 8.5l.94-2.06 2.06-.94-2.06-.94L8.5 2.5l-.94 2.06-2.06.94zm10 10l.94 2.06.94-2.06 2.06-.94-2.06-.94-.94-2.06-.94 2.06-2.06.94z\"/><path d=\"M17.41 7.96l-1.37-1.37c-.4-.4-.92-.59-1.43-.59-.52 0-1.04.2-1.43.59L10.3 9.45l-7.72 7.72c-.78.78-.78 2.05 0 2.83L4 21.41c.39.39.9.59 1.41.59.51 0 1.02-.2 1.41-.59l7.78-7.78 2.81-2.81c.8-.78.8-2.07 0-2.86zM5.41 20L4 18.59l7.72-7.72 1.47 1.35L5.41 20z\"/>\n",
              "  </svg>\n",
              "      </button>\n",
              "      \n",
              "  <style>\n",
              "    .colab-df-container {\n",
              "      display:flex;\n",
              "      flex-wrap:wrap;\n",
              "      gap: 12px;\n",
              "    }\n",
              "\n",
              "    .colab-df-convert {\n",
              "      background-color: #E8F0FE;\n",
              "      border: none;\n",
              "      border-radius: 50%;\n",
              "      cursor: pointer;\n",
              "      display: none;\n",
              "      fill: #1967D2;\n",
              "      height: 32px;\n",
              "      padding: 0 0 0 0;\n",
              "      width: 32px;\n",
              "    }\n",
              "\n",
              "    .colab-df-convert:hover {\n",
              "      background-color: #E2EBFA;\n",
              "      box-shadow: 0px 1px 2px rgba(60, 64, 67, 0.3), 0px 1px 3px 1px rgba(60, 64, 67, 0.15);\n",
              "      fill: #174EA6;\n",
              "    }\n",
              "\n",
              "    [theme=dark] .colab-df-convert {\n",
              "      background-color: #3B4455;\n",
              "      fill: #D2E3FC;\n",
              "    }\n",
              "\n",
              "    [theme=dark] .colab-df-convert:hover {\n",
              "      background-color: #434B5C;\n",
              "      box-shadow: 0px 1px 3px 1px rgba(0, 0, 0, 0.15);\n",
              "      filter: drop-shadow(0px 1px 2px rgba(0, 0, 0, 0.3));\n",
              "      fill: #FFFFFF;\n",
              "    }\n",
              "  </style>\n",
              "\n",
              "      <script>\n",
              "        const buttonEl =\n",
              "          document.querySelector('#df-73258482-0b27-492e-ac16-050a101bfe9f button.colab-df-convert');\n",
              "        buttonEl.style.display =\n",
              "          google.colab.kernel.accessAllowed ? 'block' : 'none';\n",
              "\n",
              "        async function convertToInteractive(key) {\n",
              "          const element = document.querySelector('#df-73258482-0b27-492e-ac16-050a101bfe9f');\n",
              "          const dataTable =\n",
              "            await google.colab.kernel.invokeFunction('convertToInteractive',\n",
              "                                                     [key], {});\n",
              "          if (!dataTable) return;\n",
              "\n",
              "          const docLinkHtml = 'Like what you see? Visit the ' +\n",
              "            '<a target=\"_blank\" href=https://colab.research.google.com/notebooks/data_table.ipynb>data table notebook</a>'\n",
              "            + ' to learn more about interactive tables.';\n",
              "          element.innerHTML = '';\n",
              "          dataTable['output_type'] = 'display_data';\n",
              "          await google.colab.output.renderOutput(dataTable, element);\n",
              "          const docLink = document.createElement('div');\n",
              "          docLink.innerHTML = docLinkHtml;\n",
              "          element.appendChild(docLink);\n",
              "        }\n",
              "      </script>\n",
              "    </div>\n",
              "  </div>\n",
              "  "
            ],
            "text/plain": [
              "                       texto   emocao\n",
              "0        trabalhar agradável  alegria\n",
              "1  gostar ficar o aconchegar  alegria\n",
              "2   o adesão o o cursar hoje  alegria\n",
              "3                    admirar  alegria\n",
              "4               adorar comer  alegria\n",
              "5      adorar cabelar maciar  alegria\n",
              "6          adorar o cor olho  alegria\n",
              "7       somar amável o outro  alegria\n",
              "8        sentir umar afeição  alegria\n",
              "9       querer agradar filho  alegria"
            ]
          },
          "metadata": {},
          "execution_count": 23
        }
      ]
    },
    {
      "cell_type": "markdown",
      "metadata": {
        "id": "trA39YO4PcFp"
      },
      "source": [
        "### Tratamento da classe"
      ]
    },
    {
      "cell_type": "code",
      "metadata": {
        "id": "SPPY0MlIYoTR"
      },
      "source": [
        "exemplo_base_dados = [[\"este trabalho é agradável\", {\"ALEGRIA\": True, \"MEDO\": False}],\n",
        "                      [\"este lugar continua assustador\", {\"ALEGRIA\": False, \"MEDO\": True}]]"
      ],
      "execution_count": null,
      "outputs": []
    },
    {
      "cell_type": "code",
      "metadata": {
        "id": "u_2R-JWKyJ9c",
        "colab": {
          "base_uri": "https://localhost:8080/"
        },
        "outputId": "8026b9d9-5a74-4bcd-f6e0-ea668279d9aa"
      },
      "source": [
        "type(exemplo_base_dados)"
      ],
      "execution_count": null,
      "outputs": [
        {
          "output_type": "execute_result",
          "data": {
            "text/plain": [
              "list"
            ]
          },
          "metadata": {},
          "execution_count": 25
        }
      ]
    },
    {
      "cell_type": "code",
      "metadata": {
        "id": "baZHkQZgyVNV",
        "colab": {
          "base_uri": "https://localhost:8080/"
        },
        "outputId": "f61cef80-2d59-4b54-93eb-a9ddf7358654"
      },
      "source": [
        "exemplo_base_dados[0]"
      ],
      "execution_count": null,
      "outputs": [
        {
          "output_type": "execute_result",
          "data": {
            "text/plain": [
              "['este trabalho é agradável', {'ALEGRIA': True, 'MEDO': False}]"
            ]
          },
          "metadata": {},
          "execution_count": 26
        }
      ]
    },
    {
      "cell_type": "code",
      "metadata": {
        "id": "BXVJt4BHyZsR",
        "colab": {
          "base_uri": "https://localhost:8080/",
          "height": 35
        },
        "outputId": "24322089-13c8-42db-f157-4144fbf4eebe"
      },
      "source": [
        "exemplo_base_dados[0][0]"
      ],
      "execution_count": null,
      "outputs": [
        {
          "output_type": "execute_result",
          "data": {
            "application/vnd.google.colaboratory.intrinsic+json": {
              "type": "string"
            },
            "text/plain": [
              "'este trabalho é agradável'"
            ]
          },
          "metadata": {},
          "execution_count": 27
        }
      ]
    },
    {
      "cell_type": "code",
      "metadata": {
        "id": "y_xMiJIGydyE",
        "colab": {
          "base_uri": "https://localhost:8080/"
        },
        "outputId": "e1613585-4eb2-4b94-e6ff-c3fc4ff914ec"
      },
      "source": [
        "exemplo_base_dados[0][1]"
      ],
      "execution_count": null,
      "outputs": [
        {
          "output_type": "execute_result",
          "data": {
            "text/plain": [
              "{'ALEGRIA': True, 'MEDO': False}"
            ]
          },
          "metadata": {},
          "execution_count": 28
        }
      ]
    },
    {
      "cell_type": "code",
      "metadata": {
        "id": "fEWag1Glyg4M",
        "colab": {
          "base_uri": "https://localhost:8080/"
        },
        "outputId": "f6c04659-b2f3-4df0-a82e-06650bdcc31d"
      },
      "source": [
        "type(exemplo_base_dados[0][1])"
      ],
      "execution_count": null,
      "outputs": [
        {
          "output_type": "execute_result",
          "data": {
            "text/plain": [
              "dict"
            ]
          },
          "metadata": {},
          "execution_count": 29
        }
      ]
    },
    {
      "cell_type": "code",
      "metadata": {
        "id": "TH31QeqEyrub"
      },
      "source": [
        "base_dados_final = []\n",
        "for texto, emocao in zip(base_dados['texto'], base_dados['emocao']):\n",
        "  #print(texto, emocao)\n",
        "  if emocao == 'alegria':\n",
        "    dic = ({'ALEGRIA': True, 'MEDO': False})\n",
        "  elif emocao == 'medo':\n",
        "    dic = ({'ALEGRIA': False, 'MEDO': True})\n",
        "\n",
        "  base_dados_final.append([texto, dic.copy()])"
      ],
      "execution_count": null,
      "outputs": []
    },
    {
      "cell_type": "code",
      "metadata": {
        "id": "L-uCDjrazfyN",
        "colab": {
          "base_uri": "https://localhost:8080/"
        },
        "outputId": "78af84d6-1961-4d05-b230-b9b392d9f98e"
      },
      "source": [
        "len(base_dados_final)"
      ],
      "execution_count": null,
      "outputs": [
        {
          "output_type": "execute_result",
          "data": {
            "text/plain": [
              "196"
            ]
          },
          "metadata": {},
          "execution_count": 31
        }
      ]
    },
    {
      "cell_type": "code",
      "metadata": {
        "id": "Nxl28cCezjjS",
        "colab": {
          "base_uri": "https://localhost:8080/"
        },
        "outputId": "f5b2cabd-b8be-4b1d-b499-da2f45a7940b"
      },
      "source": [
        "base_dados_final[0]"
      ],
      "execution_count": null,
      "outputs": [
        {
          "output_type": "execute_result",
          "data": {
            "text/plain": [
              "['trabalhar agradável', {'ALEGRIA': True, 'MEDO': False}]"
            ]
          },
          "metadata": {},
          "execution_count": 32
        }
      ]
    },
    {
      "cell_type": "code",
      "metadata": {
        "id": "LR_UPCX5zodw",
        "colab": {
          "base_uri": "https://localhost:8080/",
          "height": 35
        },
        "outputId": "debb48b3-9143-4e0e-b375-3a77364e9beb"
      },
      "source": [
        "base_dados_final[0][0]"
      ],
      "execution_count": null,
      "outputs": [
        {
          "output_type": "execute_result",
          "data": {
            "application/vnd.google.colaboratory.intrinsic+json": {
              "type": "string"
            },
            "text/plain": [
              "'trabalhar agradável'"
            ]
          },
          "metadata": {},
          "execution_count": 33
        }
      ]
    },
    {
      "cell_type": "code",
      "metadata": {
        "id": "-0M3jriRzrho",
        "colab": {
          "base_uri": "https://localhost:8080/"
        },
        "outputId": "d23c6098-fc52-43f3-e298-34ac275d44a8"
      },
      "source": [
        "base_dados_final[0][1]"
      ],
      "execution_count": null,
      "outputs": [
        {
          "output_type": "execute_result",
          "data": {
            "text/plain": [
              "{'ALEGRIA': True, 'MEDO': False}"
            ]
          },
          "metadata": {},
          "execution_count": 34
        }
      ]
    },
    {
      "cell_type": "code",
      "metadata": {
        "id": "RcO2rX_Nzue-",
        "colab": {
          "base_uri": "https://localhost:8080/"
        },
        "outputId": "f08ccb11-0a43-47f4-f00d-7b48cbd8c482"
      },
      "source": [
        "type(base_dados_final[0][1])"
      ],
      "execution_count": null,
      "outputs": [
        {
          "output_type": "execute_result",
          "data": {
            "text/plain": [
              "dict"
            ]
          },
          "metadata": {},
          "execution_count": 35
        }
      ]
    },
    {
      "cell_type": "code",
      "metadata": {
        "id": "VoF9RsEFzySQ",
        "colab": {
          "base_uri": "https://localhost:8080/"
        },
        "outputId": "29b9952b-0956-460e-8b28-f87a70feb860"
      },
      "source": [
        "base_dados_final"
      ],
      "execution_count": null,
      "outputs": [
        {
          "output_type": "execute_result",
          "data": {
            "text/plain": [
              "[['trabalhar agradável', {'ALEGRIA': True, 'MEDO': False}],\n",
              " ['gostar ficar o aconchegar', {'ALEGRIA': True, 'MEDO': False}],\n",
              " ['o adesão o o cursar hoje', {'ALEGRIA': True, 'MEDO': False}],\n",
              " ['admirar', {'ALEGRIA': True, 'MEDO': False}],\n",
              " ['adorar comer', {'ALEGRIA': True, 'MEDO': False}],\n",
              " ['adorar cabelar maciar', {'ALEGRIA': True, 'MEDO': False}],\n",
              " ['adorar o cor olho', {'ALEGRIA': True, 'MEDO': False}],\n",
              " ['somar amável o outro', {'ALEGRIA': True, 'MEDO': False}],\n",
              " ['sentir umar afeição', {'ALEGRIA': True, 'MEDO': False}],\n",
              " ['querer agradar filho', {'ALEGRIA': True, 'MEDO': False}],\n",
              " ['sentir completamente amar', {'ALEGRIA': True, 'MEDO': False}],\n",
              " ['amar', {'ALEGRIA': True, 'MEDO': False}],\n",
              " ['alívio', {'ALEGRIA': True, 'MEDO': False}],\n",
              " ['o dor amenizar finalmente', {'ALEGRIA': True, 'MEDO': False}],\n",
              " ['achar apaixonar', {'ALEGRIA': True, 'MEDO': False}],\n",
              " ['amar maravilhoso', {'ALEGRIA': True, 'MEDO': False}],\n",
              " ['sentir animar', {'ALEGRIA': True, 'MEDO': False}],\n",
              " ['sentir hoje', {'ALEGRIA': True, 'MEDO': False}],\n",
              " ['comer o luar belo', {'ALEGRIA': True, 'MEDO': False}],\n",
              " ['o dia bonito', {'ALEGRIA': True, 'MEDO': False}],\n",
              " ['comer afortunar', {'ALEGRIA': True, 'MEDO': False}],\n",
              " ['o maravilhar mundo', {'ALEGRIA': True, 'MEDO': False}],\n",
              " ['receber caro hoje colega', {'ALEGRIA': True, 'MEDO': False}],\n",
              " ['sentir reconfortar hoje', {'ALEGRIA': True, 'MEDO': False}],\n",
              " ['o amigo', {'ALEGRIA': True, 'MEDO': False}],\n",
              " ['contentar o resultar teste', {'ALEGRIA': True, 'MEDO': False}],\n",
              " ['pintura brilhante', {'ALEGRIA': True, 'MEDO': False}],\n",
              " ['água abundância', {'ALEGRIA': True, 'MEDO': False}],\n",
              " ['roupar delicado', {'ALEGRIA': True, 'MEDO': False}],\n",
              " ['comediante', {'ALEGRIA': True, 'MEDO': False}],\n",
              " ['bondade o suar', {'ALEGRIA': True, 'MEDO': False}],\n",
              " ['o amor lindar', {'ALEGRIA': True, 'MEDO': False}],\n",
              " ['amizade durar parir', {'ALEGRIA': True, 'MEDO': False}],\n",
              " ['eufórico o notícia', {'ALEGRIA': True, 'MEDO': False}],\n",
              " ['realmente fiel o mim', {'ALEGRIA': True, 'MEDO': False}],\n",
              " ['umar festa parir comemorar aniversário', {'ALEGRIA': True, 'MEDO': False}],\n",
              " ['graça o deus enxergar o certar', {'ALEGRIA': True, 'MEDO': False}],\n",
              " ['o melhor escolher', {'ALEGRIA': True, 'MEDO': False}],\n",
              " ['o incrível belo', {'ALEGRIA': True, 'MEDO': False}],\n",
              " ['engraçar explicar', {'ALEGRIA': True, 'MEDO': False}],\n",
              " ['emocionante n', {'ALEGRIA': True, 'MEDO': False}],\n",
              " ['cativar pelar olhar', {'ALEGRIA': True, 'MEDO': False}],\n",
              " ['loucamente apaixonar', {'ALEGRIA': True, 'MEDO': False}],\n",
              " ['dúvida', {'ALEGRIA': True, 'MEDO': False}],\n",
              " ['rodear pelar abraçar', {'ALEGRIA': True, 'MEDO': False}],\n",
              " ['estrelo pelar caminhar', {'ALEGRIA': True, 'MEDO': False}],\n",
              " ['sentir o sol', {'ALEGRIA': True, 'MEDO': False}],\n",
              " ['sorrir orelhar o orelhar', {'ALEGRIA': True, 'MEDO': False}],\n",
              " ['valer o peno', {'ALEGRIA': True, 'MEDO': False}],\n",
              " ['finalmente colocar amor', {'ALEGRIA': True, 'MEDO': False}],\n",
              " ['nó dançar noite adentrar', {'ALEGRIA': True, 'MEDO': False}],\n",
              " ['amor brilhante', {'ALEGRIA': True, 'MEDO': False}],\n",
              " ['tocar coração durante o caminhar', {'ALEGRIA': True, 'MEDO': False}],\n",
              " ['suar amigo e companheiro', {'ALEGRIA': True, 'MEDO': False}],\n",
              " ['trazer voltar o vidar', {'ALEGRIA': True, 'MEDO': False}],\n",
              " ['e comer sonhar doce', {'ALEGRIA': True, 'MEDO': False}],\n",
              " ['adorar doce frutar', {'ALEGRIA': True, 'MEDO': False}],\n",
              " ['suco favorito', {'ALEGRIA': True, 'MEDO': False}],\n",
              " ['agradecido pelar ajudar', {'ALEGRIA': True, 'MEDO': False}],\n",
              " ['enorme prazer equipar', {'ALEGRIA': True, 'MEDO': False}],\n",
              " ['trabalhar equipar o melhor', {'ALEGRIA': True, 'MEDO': False}],\n",
              " ['sentir flutuar o ar', {'ALEGRIA': True, 'MEDO': False}],\n",
              " ['o brisa agradável hoje', {'ALEGRIA': True, 'MEDO': False}],\n",
              " ['ótimo e compatível', {'ALEGRIA': True, 'MEDO': False}],\n",
              " ['compatível o outro', {'ALEGRIA': True, 'MEDO': False}],\n",
              " ['o órgão compatível o paciente', {'ALEGRIA': True, 'MEDO': False}],\n",
              " ['contentar aceito o faculdade', {'ALEGRIA': True, 'MEDO': False}],\n",
              " ['aprovar o exame', {'ALEGRIA': True, 'MEDO': False}],\n",
              " ['beneficiar pelar empresar', {'ALEGRIA': True, 'MEDO': False}],\n",
              " ['cativante', {'ALEGRIA': True, 'MEDO': False}],\n",
              " ['contentar o apoiar', {'ALEGRIA': True, 'MEDO': False}],\n",
              " ['comer e confortável', {'ALEGRIA': True, 'MEDO': False}],\n",
              " ['e quentar n frio', {'ALEGRIA': True, 'MEDO': False}],\n",
              " ['elogiar e', {'ALEGRIA': True, 'MEDO': False}],\n",
              " ['chamar parir comemorar', {'ALEGRIA': True, 'MEDO': False}],\n",
              " ['desejável o suar presença apresentação', {'ALEGRIA': True, 'MEDO': False}],\n",
              " ['grato o', {'ALEGRIA': True, 'MEDO': False}],\n",
              " ['dedicar n', {'ALEGRIA': True, 'MEDO': False}],\n",
              " ['completamente apaixonar', {'ALEGRIA': True, 'MEDO': False}],\n",
              " ['agitar noite', {'ALEGRIA': True, 'MEDO': False}],\n",
              " ['significar parir mim', {'ALEGRIA': True, 'MEDO': False}],\n",
              " ['agir preconceito e julgamento', {'ALEGRIA': True, 'MEDO': False}],\n",
              " ['finalmente completar o coleção maravilhoso',\n",
              "  {'ALEGRIA': True, 'MEDO': False}],\n",
              " ['suar rei', {'ALEGRIA': True, 'MEDO': False}],\n",
              " ['satisfatoriamente anunciar o vencedor jogo',\n",
              "  {'ALEGRIA': True, 'MEDO': False}],\n",
              " ['atrair facilmente', {'ALEGRIA': True, 'MEDO': False}],\n",
              " ['rapaz e extremamente atraente', {'ALEGRIA': True, 'MEDO': False}],\n",
              " ['sinto-me vivo', {'ALEGRIA': True, 'MEDO': False}],\n",
              " ['sinto-me paz', {'ALEGRIA': True, 'MEDO': False}],\n",
              " ['lucrar', {'ALEGRIA': True, 'MEDO': False}],\n",
              " ['ordem', {'ALEGRIA': True, 'MEDO': False}],\n",
              " ['arrumar empregar junto', {'ALEGRIA': True, 'MEDO': False}],\n",
              " ['o arrumação terminar alívio', {'ALEGRIA': True, 'MEDO': False}],\n",
              " ['o câncer benigno', {'ALEGRIA': True, 'MEDO': False}],\n",
              " ['o amor abundante', {'ALEGRIA': True, 'MEDO': False}],\n",
              " ['caridoso natal', {'ALEGRIA': True, 'MEDO': False}],\n",
              " ['charme irar atrair o', {'ALEGRIA': True, 'MEDO': False}],\n",
              " ['comer charmoso querer', {'ALEGRIA': True, 'MEDO': False}],\n",
              " ['querido amigo', {'ALEGRIA': True, 'MEDO': False}],\n",
              " ['cuidadoso o sentimento', {'ALEGRIA': True, 'MEDO': False}],\n",
              " ['comover tamanho caridade', {'ALEGRIA': True, 'MEDO': False}],\n",
              " ['chá quentar e reconfortante', {'ALEGRIA': True, 'MEDO': False}],\n",
              " ['alegria', {'ALEGRIA': True, 'MEDO': False}],\n",
              " ['aplaudir o vencedor', {'ALEGRIA': True, 'MEDO': False}],\n",
              " ['palmar parir o aniversariante', {'ALEGRIA': True, 'MEDO': False}],\n",
              " ['desejar o', {'ALEGRIA': True, 'MEDO': False}],\n",
              " ['horar apreciar vinho', {'ALEGRIA': True, 'MEDO': False}],\n",
              " ['apreciar suar presença escola', {'ALEGRIA': True, 'MEDO': False}],\n",
              " ['ansiar trabalho', {'ALEGRIA': True, 'MEDO': False}],\n",
              " ['maravilhoso jogar amistoso', {'ALEGRIA': True, 'MEDO': False}],\n",
              " ['e ótimo o menimos apaziguar', {'ALEGRIA': True, 'MEDO': False}],\n",
              " ['concretizar finalmente sonhar', {'ALEGRIA': True, 'MEDO': False}],\n",
              " ['implorar matar', {'ALEGRIA': False, 'MEDO': True}],\n",
              " ['perigoso', {'ALEGRIA': False, 'MEDO': True}],\n",
              " ['segurar', {'ALEGRIA': False, 'MEDO': True}],\n",
              " ['correr pra', {'ALEGRIA': False, 'MEDO': True}],\n",
              " ['socorrer querer roubar o doce', {'ALEGRIA': False, 'MEDO': True}],\n",
              " ['caro perseguir', {'ALEGRIA': False, 'MEDO': True}],\n",
              " ['entrar perigoso', {'ALEGRIA': False, 'MEDO': True}],\n",
              " ['continuar assustador', {'ALEGRIA': False, 'MEDO': True}],\n",
              " ['o selva animar perigoso', {'ALEGRIA': False, 'MEDO': True}],\n",
              " ['avançar cautela', {'ALEGRIA': False, 'MEDO': True}],\n",
              " ['silencioso cuidar', {'ALEGRIA': False, 'MEDO': True}],\n",
              " ['deixe-me viver', {'ALEGRIA': False, 'MEDO': True}],\n",
              " ['ficar mesada tirar noto', {'ALEGRIA': False, 'MEDO': True}],\n",
              " ['parecer olho o vigiar', {'ALEGRIA': False, 'MEDO': True}],\n",
              " ['o sentença juiz negativo', {'ALEGRIA': False, 'MEDO': True}],\n",
              " ['missão arriscar', {'ALEGRIA': False, 'MEDO': True}],\n",
              " ['salvem-se', {'ALEGRIA': False, 'MEDO': True}],\n",
              " ['planar descobrir', {'ALEGRIA': False, 'MEDO': True}],\n",
              " ['culpar jurar', {'ALEGRIA': False, 'MEDO': True}],\n",
              " ['tomar cuidar o lobisomem', {'ALEGRIA': False, 'MEDO': True}],\n",
              " ['achar descobrir o verdade', {'ALEGRIA': False, 'MEDO': True}],\n",
              " ['deus desaparecer', {'ALEGRIA': False, 'MEDO': True}],\n",
              " ['tomar d', {'ALEGRIA': False, 'MEDO': True}],\n",
              " ['manter segredar descobrir ferrar', {'ALEGRIA': False, 'MEDO': True}],\n",
              " ['soltar inocentar', {'ALEGRIA': False, 'MEDO': True}],\n",
              " ['ouvir passo mim', {'ALEGRIA': False, 'MEDO': True}],\n",
              " ['pedir socorrer', {'ALEGRIA': False, 'MEDO': True}],\n",
              " ['cuidar o curvo o estrar', {'ALEGRIA': False, 'MEDO': True}],\n",
              " ['parecer perigoso', {'ALEGRIA': False, 'MEDO': True}],\n",
              " ['tremer medo', {'ALEGRIA': False, 'MEDO': True}],\n",
              " ['socorrer cair', {'ALEGRIA': False, 'MEDO': True}],\n",
              " ['o florestar negro perigoso', {'ALEGRIA': False, 'MEDO': True}],\n",
              " ['ouvir passo o direção', {'ALEGRIA': False, 'MEDO': True}],\n",
              " ['achar arriscar', {'ALEGRIA': False, 'MEDO': True}],\n",
              " ['voltar perigoso', {'ALEGRIA': False, 'MEDO': True}],\n",
              " ['fugir acabar morto', {'ALEGRIA': False, 'MEDO': True}],\n",
              " ['recear livrar d situação', {'ALEGRIA': False, 'MEDO': True}],\n",
              " ['socorrer armar', {'ALEGRIA': False, 'MEDO': True}],\n",
              " ['eis cuidar bater o postar', {'ALEGRIA': False, 'MEDO': True}],\n",
              " ['socorrer nó afundar', {'ALEGRIA': False, 'MEDO': True}],\n",
              " ['e sério cuidar armar', {'ALEGRIA': False, 'MEDO': True}],\n",
              " ['o tubarão atacar', {'ALEGRIA': False, 'MEDO': True}],\n",
              " ['sentir arrepio ficar o escuro', {'ALEGRIA': False, 'MEDO': True}],\n",
              " ['calmo o dinheiro', {'ALEGRIA': False, 'MEDO': True}],\n",
              " ['achar enganar', {'ALEGRIA': False, 'MEDO': True}],\n",
              " ['ligeiro fugir depressa', {'ALEGRIA': False, 'MEDO': True}],\n",
              " ['crocodilo selvagem vir parir', {'ALEGRIA': False, 'MEDO': True}],\n",
              " ['ficar o achar', {'ALEGRIA': False, 'MEDO': True}],\n",
              " ['fugir o tigre parecer faminto', {'ALEGRIA': False, 'MEDO': True}],\n",
              " ['sair precisar milagre', {'ALEGRIA': False, 'MEDO': True}],\n",
              " ['tirar mim socorrer', {'ALEGRIA': False, 'MEDO': True}],\n",
              " ['nadar afogar', {'ALEGRIA': False, 'MEDO': True}],\n",
              " ['e segurar', {'ALEGRIA': False, 'MEDO': True}],\n",
              " ['apanhar pai boletim', {'ALEGRIA': False, 'MEDO': True}],\n",
              " ['conseguir sair d', {'ALEGRIA': False, 'MEDO': True}],\n",
              " ['sair tardar assaltar', {'ALEGRIA': False, 'MEDO': True}],\n",
              " ['deixar', {'ALEGRIA': False, 'MEDO': True}],\n",
              " ['esperar largar', {'ALEGRIA': False, 'MEDO': True}],\n",
              " ['pelar suar segurança', {'ALEGRIA': False, 'MEDO': True}],\n",
              " ['entregar o dinheiro matar', {'ALEGRIA': False, 'MEDO': True}],\n",
              " ['levar o dinheiro', {'ALEGRIA': False, 'MEDO': True}],\n",
              " ['dirigir rápido', {'ALEGRIA': False, 'MEDO': True}],\n",
              " ['descobrir prender', {'ALEGRIA': False, 'MEDO': True}],\n",
              " ['esperar nenhum', {'ALEGRIA': False, 'MEDO': True}],\n",
              " ['afogar ajudar o sair água', {'ALEGRIA': False, 'MEDO': True}],\n",
              " ['o salvar', {'ALEGRIA': False, 'MEDO': True}],\n",
              " ['querer pensar o acontecer', {'ALEGRIA': False, 'MEDO': True}],\n",
              " ['n cidade umar desgraçar outro', {'ALEGRIA': False, 'MEDO': True}],\n",
              " ['alguém ligar assustar', {'ALEGRIA': False, 'MEDO': True}],\n",
              " ['remedio matar', {'ALEGRIA': False, 'MEDO': True}],\n",
              " ['confiar n cautela', {'ALEGRIA': False, 'MEDO': True}],\n",
              " ['cautela', {'ALEGRIA': False, 'MEDO': True}],\n",
              " ['descobrir deus', {'ALEGRIA': False, 'MEDO': True}],\n",
              " ['recear', {'ALEGRIA': False, 'MEDO': True}],\n",
              " ['o noite e perigoso', {'ALEGRIA': False, 'MEDO': True}],\n",
              " ['estremecer casar', {'ALEGRIA': False, 'MEDO': True}],\n",
              " ['olhar criatura mover monstruosamente', {'ALEGRIA': False, 'MEDO': True}],\n",
              " ['aguentar suspense', {'ALEGRIA': False, 'MEDO': True}],\n",
              " ['afugentar o cão', {'ALEGRIA': False, 'MEDO': True}],\n",
              " ['chocar e amedrontar assassinato brutal', {'ALEGRIA': False, 'MEDO': True}],\n",
              " ['precisar afugentar ímpeto medo infernar', {'ALEGRIA': False, 'MEDO': True}],\n",
              " ['político suar forçar parir afugentar e amedrontar o',\n",
              "  {'ALEGRIA': False, 'MEDO': True}],\n",
              " ['o objetivo d e amedrontar', {'ALEGRIA': False, 'MEDO': True}],\n",
              " ['apavorar', {'ALEGRIA': False, 'MEDO': True}]]"
            ]
          },
          "metadata": {},
          "execution_count": 36
        }
      ]
    },
    {
      "cell_type": "markdown",
      "metadata": {
        "id": "5mc19ZByUNsu"
      },
      "source": [
        "# Etapa 5: Criação do classificador"
      ]
    },
    {
      "cell_type": "code",
      "metadata": {
        "id": "YnZ1orji7Iv8"
      },
      "source": [
        "modelo = spacy.blank('pt')\n",
        "categorias = modelo.create_pipe(\"textcat\")\n",
        "categorias.add_label(\"ALEGRIA\")\n",
        "categorias.add_label(\"MEDO\")\n",
        "modelo.add_pipe(categorias)\n",
        "historico = []"
      ],
      "execution_count": null,
      "outputs": []
    },
    {
      "cell_type": "code",
      "metadata": {
        "id": "3jlGvLEz764Y",
        "colab": {
          "base_uri": "https://localhost:8080/"
        },
        "outputId": "b4216169-8e79-463b-b19f-d6e4bc980de8"
      },
      "source": [
        "modelo.begin_training()\n",
        "for epoca in range(1000):\n",
        "  random.shuffle(base_dados_final)\n",
        "  losses = {}\n",
        "  for batch in spacy.util.minibatch(base_dados_final, 30):\n",
        "    textos = [modelo(texto) for texto, entities in batch]\n",
        "    annotations = [{'cats': entities} for texto, entities in batch]\n",
        "    modelo.update(textos, annotations, losses=losses)\n",
        "  if epoca % 100 == 0:\n",
        "    print(losses)\n",
        "    historico.append(losses)"
      ],
      "execution_count": null,
      "outputs": [
        {
          "output_type": "stream",
          "name": "stdout",
          "text": [
            "{'textcat': 0.006251500337384641}\n",
            "{'textcat': 5.0465706280533595e-08}\n",
            "{'textcat': 2.0273391854175316e-08}\n",
            "{'textcat': 7.887584585475338e-09}\n",
            "{'textcat': 5.294370081232458e-09}\n",
            "{'textcat': 3.837866524580846e-09}\n",
            "{'textcat': 2.68416361359769e-09}\n",
            "{'textcat': 1.9962630160019756e-09}\n",
            "{'textcat': 1.579437053367272e-09}\n",
            "{'textcat': 1.5155141724898513e-09}\n"
          ]
        }
      ]
    },
    {
      "cell_type": "code",
      "metadata": {
        "id": "wSe-tDsCAciN"
      },
      "source": [
        "historico_loss = []\n",
        "for i in historico:\n",
        "  historico_loss.append(i.get('textcat'))"
      ],
      "execution_count": null,
      "outputs": []
    },
    {
      "cell_type": "code",
      "metadata": {
        "id": "ShJhtbYtAr50",
        "colab": {
          "base_uri": "https://localhost:8080/"
        },
        "outputId": "529ddf7b-4c02-4e2f-9fb6-aee93d1728c3"
      },
      "source": [
        "historico_loss = np.array(historico_loss)\n",
        "historico_loss"
      ],
      "execution_count": null,
      "outputs": [
        {
          "output_type": "execute_result",
          "data": {
            "text/plain": [
              "array([6.25150034e-03, 5.04657063e-08, 2.02733919e-08, 7.88758459e-09,\n",
              "       5.29437008e-09, 3.83786652e-09, 2.68416361e-09, 1.99626302e-09,\n",
              "       1.57943705e-09, 1.51551417e-09])"
            ]
          },
          "metadata": {},
          "execution_count": 40
        }
      ]
    },
    {
      "cell_type": "code",
      "metadata": {
        "id": "6lEL-QoBA0KI",
        "colab": {
          "base_uri": "https://localhost:8080/",
          "height": 314
        },
        "outputId": "2c79e450-472c-41f5-96c9-c17122c64914"
      },
      "source": [
        "import matplotlib.pyplot as plt\n",
        "plt.plot(historico_loss)\n",
        "plt.title('Progressão do erro')\n",
        "plt.xlabel('Épocas')\n",
        "plt.ylabel('Erro')"
      ],
      "execution_count": null,
      "outputs": [
        {
          "output_type": "execute_result",
          "data": {
            "text/plain": [
              "Text(0, 0.5, 'Erro')"
            ]
          },
          "metadata": {},
          "execution_count": 41
        },
        {
          "output_type": "display_data",
          "data": {
            "image/png": "[encoded data removed]",
            "text/plain": [
              "<Figure size 432x288 with 1 Axes>"
            ]
          },
          "metadata": {
            "needs_background": "light"
          }
        }
      ]
    },
    {
      "cell_type": "markdown",
      "source": [
        "Para salvar o modelo"
      ],
      "metadata": {
        "id": "EoT03XH0Andj"
      }
    },
    {
      "cell_type": "code",
      "metadata": {
        "id": "amNE8xy_BPSF"
      },
      "source": [
        "modelo.to_disk(\"modelo\")"
      ],
      "execution_count": null,
      "outputs": []
    },
    {
      "cell_type": "markdown",
      "metadata": {
        "id": "ePMk8G0Dl6wg"
      },
      "source": [
        "# Etapa 6: Testes com uma frase"
      ]
    },
    {
      "cell_type": "code",
      "metadata": {
        "id": "u9e-TlWNCFj8",
        "colab": {
          "base_uri": "https://localhost:8080/"
        },
        "outputId": "7e0011db-43f9-45a0-8ef4-ef37f80c807e"
      },
      "source": [
        "modelo_carregado = spacy.load(\"modelo\")\n",
        "modelo_carregado"
      ],
      "execution_count": null,
      "outputs": [
        {
          "output_type": "execute_result",
          "data": {
            "text/plain": [
              "<spacy.lang.pt.Portuguese at 0x7f6ef6077ed0>"
            ]
          },
          "metadata": {},
          "execution_count": 43
        }
      ]
    },
    {
      "cell_type": "code",
      "metadata": {
        "id": "vccrJddkCThv"
      },
      "source": [
        "texto_positivo = 'eu adoro cor dos seus olhos'"
      ],
      "execution_count": null,
      "outputs": []
    },
    {
      "cell_type": "code",
      "metadata": {
        "id": "AHUy4H_ECZyN",
        "colab": {
          "base_uri": "https://localhost:8080/",
          "height": 35
        },
        "outputId": "cc87c91e-4110-4747-db7e-acdace2d5557"
      },
      "source": [
        "texto_positivo = preprocessamento(texto_positivo)\n",
        "texto_positivo"
      ],
      "execution_count": null,
      "outputs": [
        {
          "output_type": "execute_result",
          "data": {
            "application/vnd.google.colaboratory.intrinsic+json": {
              "type": "string"
            },
            "text/plain": [
              "'adorar cor olho'"
            ]
          },
          "metadata": {},
          "execution_count": 45
        }
      ]
    },
    {
      "cell_type": "code",
      "metadata": {
        "id": "B4iJh7D5Cjha",
        "colab": {
          "base_uri": "https://localhost:8080/"
        },
        "outputId": "2a59835f-4bc5-46c8-dbea-302f470e5504"
      },
      "source": [
        "previsao = modelo_carregado(texto_positivo)\n",
        "previsao"
      ],
      "execution_count": null,
      "outputs": [
        {
          "output_type": "execute_result",
          "data": {
            "text/plain": [
              "adorar cor olho"
            ]
          },
          "metadata": {},
          "execution_count": 46
        }
      ]
    },
    {
      "cell_type": "code",
      "metadata": {
        "id": "wEvTU1fGCoX0",
        "colab": {
          "base_uri": "https://localhost:8080/"
        },
        "outputId": "88a3f69e-4beb-4623-f421-4ebc87b3a2b2"
      },
      "source": [
        "previsao.cats"
      ],
      "execution_count": null,
      "outputs": [
        {
          "output_type": "execute_result",
          "data": {
            "text/plain": [
              "{'ALEGRIA': 0.9997398257255554, 'MEDO': 0.0001413760328432545}"
            ]
          },
          "metadata": {},
          "execution_count": 47
        }
      ]
    },
    {
      "cell_type": "code",
      "metadata": {
        "id": "jr2eRXXJCxWe",
        "colab": {
          "base_uri": "https://localhost:8080/"
        },
        "outputId": "442babe4-8d0c-4815-cf31-d55420a90851"
      },
      "source": [
        "texto_negativo = 'estou com medo dele'\n",
        "previsao = modelo_carregado(preprocessamento(texto_negativo))\n",
        "previsao.cats"
      ],
      "execution_count": null,
      "outputs": [
        {
          "output_type": "execute_result",
          "data": {
            "text/plain": [
              "{'ALEGRIA': 0.00023699022131040692, 'MEDO': 0.9999545812606812}"
            ]
          },
          "metadata": {},
          "execution_count": 48
        }
      ]
    },
    {
      "cell_type": "markdown",
      "metadata": {
        "id": "KhF2vtEsnlpM"
      },
      "source": [
        "# Etapa 7: Avaliação do modelo"
      ]
    },
    {
      "cell_type": "markdown",
      "metadata": {
        "id": "sJzwpVWNACFi"
      },
      "source": [
        "## Avaliação na base de treinamento\n"
      ]
    },
    {
      "cell_type": "code",
      "metadata": {
        "id": "6NoTHRADDZ0Z"
      },
      "source": [
        "previsoes = []\n",
        "for texto in base_dados['texto']:\n",
        "  #print(texto)\n",
        "  previsao = modelo_carregado(texto)\n",
        "  previsoes.append(previsao.cats)"
      ],
      "execution_count": null,
      "outputs": []
    },
    {
      "cell_type": "code",
      "metadata": {
        "id": "8lRO94OuDvLZ",
        "colab": {
          "base_uri": "https://localhost:8080/"
        },
        "outputId": "0145a447-7c9d-4d37-ce8d-2907f5dbf990"
      },
      "source": [
        "previsoes"
      ],
      "execution_count": null,
      "outputs": [
        {
          "output_type": "execute_result",
          "data": {
            "text/plain": [
              "[{'ALEGRIA': 0.9998542070388794, 'MEDO': 9.551140828989446e-05},\n",
              " {'ALEGRIA': 0.9993636012077332, 'MEDO': 0.0001977592910407111},\n",
              " {'ALEGRIA': 0.9999545812606812, 'MEDO': 4.539786823443137e-05},\n",
              " {'ALEGRIA': 0.9999027252197266, 'MEDO': 4.539786823443137e-05},\n",
              " {'ALEGRIA': 0.9996802806854248, 'MEDO': 0.00020238033903297037},\n",
              " {'ALEGRIA': 0.9996185302734375, 'MEDO': 0.00022741168504580855},\n",
              " {'ALEGRIA': 0.9999545812606812, 'MEDO': 4.8057892854558304e-05},\n",
              " {'ALEGRIA': 0.9998668432235718, 'MEDO': 0.00019188305304851383},\n",
              " {'ALEGRIA': 0.9997301697731018, 'MEDO': 8.149927452905104e-05},\n",
              " {'ALEGRIA': 0.9994993209838867, 'MEDO': 0.00030867045279592276},\n",
              " {'ALEGRIA': 0.9999475479125977, 'MEDO': 4.539786823443137e-05},\n",
              " {'ALEGRIA': 0.9999469518661499, 'MEDO': 7.248739711940289e-05},\n",
              " {'ALEGRIA': 0.9998799562454224, 'MEDO': 9.596148447599262e-05},\n",
              " {'ALEGRIA': 0.9997207522392273, 'MEDO': 0.0002058536629192531},\n",
              " {'ALEGRIA': 0.9996703863143921, 'MEDO': 0.00017645770276430994},\n",
              " {'ALEGRIA': 0.9999545812606812, 'MEDO': 4.539786823443137e-05},\n",
              " {'ALEGRIA': 0.9999227523803711, 'MEDO': 0.00016065592353697866},\n",
              " {'ALEGRIA': 0.9999545812606812, 'MEDO': 4.539786823443137e-05},\n",
              " {'ALEGRIA': 0.9997158646583557, 'MEDO': 0.00016698539548087865},\n",
              " {'ALEGRIA': 0.999569833278656, 'MEDO': 0.00023260098532773554},\n",
              " {'ALEGRIA': 0.9998379945755005, 'MEDO': 0.0001609983592061326},\n",
              " {'ALEGRIA': 0.9991790652275085, 'MEDO': 0.0002267818053951487},\n",
              " {'ALEGRIA': 0.9999258518218994, 'MEDO': 0.0002561346045695245},\n",
              " {'ALEGRIA': 0.9999545812606812, 'MEDO': 4.539786823443137e-05},\n",
              " {'ALEGRIA': 0.9996926784515381, 'MEDO': 7.252812793012708e-05},\n",
              " {'ALEGRIA': 0.9997376799583435, 'MEDO': 4.539786823443137e-05},\n",
              " {'ALEGRIA': 0.9999545812606812, 'MEDO': 4.539786823443137e-05},\n",
              " {'ALEGRIA': 0.9999545812606812, 'MEDO': 4.539786823443137e-05},\n",
              " {'ALEGRIA': 0.9998000264167786, 'MEDO': 8.035629434743896e-05},\n",
              " {'ALEGRIA': 0.9997312426567078, 'MEDO': 0.00015549425734207034},\n",
              " {'ALEGRIA': 0.9996933937072754, 'MEDO': 0.0002893836935982108},\n",
              " {'ALEGRIA': 0.9996656179428101, 'MEDO': 0.00033912117942236364},\n",
              " {'ALEGRIA': 0.9998663663864136, 'MEDO': 6.906484486535192e-05},\n",
              " {'ALEGRIA': 0.999640941619873, 'MEDO': 0.0002680988982319832},\n",
              " {'ALEGRIA': 0.9996774196624756, 'MEDO': 0.0002187601785408333},\n",
              " {'ALEGRIA': 0.9998366832733154, 'MEDO': 0.00010162585385842249},\n",
              " {'ALEGRIA': 0.9996587038040161, 'MEDO': 0.00026876688934862614},\n",
              " {'ALEGRIA': 0.9999545812606812, 'MEDO': 5.1046481530647725e-05},\n",
              " {'ALEGRIA': 0.9995680451393127, 'MEDO': 0.00018147968512494117},\n",
              " {'ALEGRIA': 0.99992835521698, 'MEDO': 5.1310220442246646e-05},\n",
              " {'ALEGRIA': 0.9994475245475769, 'MEDO': 0.00023238906578626484},\n",
              " {'ALEGRIA': 0.9994902610778809, 'MEDO': 0.00022573121532332152},\n",
              " {'ALEGRIA': 0.9999366998672485, 'MEDO': 7.584354898426682e-05},\n",
              " {'ALEGRIA': 0.9997537732124329, 'MEDO': 4.539786823443137e-05},\n",
              " {'ALEGRIA': 0.9999545812606812, 'MEDO': 6.234824832063168e-05},\n",
              " {'ALEGRIA': 0.9999545812606812, 'MEDO': 5.672781480825506e-05},\n",
              " {'ALEGRIA': 0.999816358089447, 'MEDO': 0.00013517129991669208},\n",
              " {'ALEGRIA': 0.9998119473457336, 'MEDO': 8.361459913430735e-05},\n",
              " {'ALEGRIA': 0.9995081424713135, 'MEDO': 0.0004894354497082531},\n",
              " {'ALEGRIA': 0.9997335076332092, 'MEDO': 0.00011988254118477926},\n",
              " {'ALEGRIA': 0.9996381998062134, 'MEDO': 7.513262244174257e-05},\n",
              " {'ALEGRIA': 0.9998249411582947, 'MEDO': 4.539786823443137e-05},\n",
              " {'ALEGRIA': 0.9998619556427002, 'MEDO': 0.00025861719041131437},\n",
              " {'ALEGRIA': 0.9996657371520996, 'MEDO': 0.00011989376071142033},\n",
              " {'ALEGRIA': 0.9999395608901978, 'MEDO': 4.539786823443137e-05},\n",
              " {'ALEGRIA': 0.9999204874038696, 'MEDO': 0.0003282401885371655},\n",
              " {'ALEGRIA': 0.9997588992118835, 'MEDO': 0.0002569718926679343},\n",
              " {'ALEGRIA': 0.9999467134475708, 'MEDO': 0.00011023001570720226},\n",
              " {'ALEGRIA': 0.9997110962867737, 'MEDO': 0.0002492546336725354},\n",
              " {'ALEGRIA': 0.9997448325157166, 'MEDO': 0.00024323840625584126},\n",
              " {'ALEGRIA': 0.9998148083686829, 'MEDO': 0.00015128511586226523},\n",
              " {'ALEGRIA': 0.9999369382858276, 'MEDO': 4.675173113355413e-05},\n",
              " {'ALEGRIA': 0.999724805355072, 'MEDO': 0.00018074728723149747},\n",
              " {'ALEGRIA': 0.9999542236328125, 'MEDO': 4.539786823443137e-05},\n",
              " {'ALEGRIA': 0.9999533891677856, 'MEDO': 4.539786823443137e-05},\n",
              " {'ALEGRIA': 0.9995068311691284, 'MEDO': 0.00022524833912029862},\n",
              " {'ALEGRIA': 0.9998674392700195, 'MEDO': 7.482054206775501e-05},\n",
              " {'ALEGRIA': 0.9999545812606812, 'MEDO': 4.539786823443137e-05},\n",
              " {'ALEGRIA': 0.9999545812606812, 'MEDO': 4.539786823443137e-05},\n",
              " {'ALEGRIA': 0.9999545812606812, 'MEDO': 4.539786823443137e-05},\n",
              " {'ALEGRIA': 0.9998087286949158, 'MEDO': 4.539786823443137e-05},\n",
              " {'ALEGRIA': 0.9997069239616394, 'MEDO': 8.79112194525078e-05},\n",
              " {'ALEGRIA': 0.9998216032981873, 'MEDO': 0.00022098612680565566},\n",
              " {'ALEGRIA': 0.9998006224632263, 'MEDO': 0.00012752038310281932},\n",
              " {'ALEGRIA': 0.9999234676361084, 'MEDO': 0.00011993251246167347},\n",
              " {'ALEGRIA': 0.9996296167373657, 'MEDO': 4.539786823443137e-05},\n",
              " {'ALEGRIA': 0.9999387264251709, 'MEDO': 4.539786823443137e-05},\n",
              " {'ALEGRIA': 0.9993470311164856, 'MEDO': 0.00042284635128453374},\n",
              " {'ALEGRIA': 0.9999395608901978, 'MEDO': 0.00014543703582603484},\n",
              " {'ALEGRIA': 0.9998836517333984, 'MEDO': 7.25918507669121e-05},\n",
              " {'ALEGRIA': 0.9994025230407715, 'MEDO': 0.0001280341821257025},\n",
              " {'ALEGRIA': 0.9998835325241089, 'MEDO': 4.539786823443137e-05},\n",
              " {'ALEGRIA': 0.9998230338096619, 'MEDO': 0.00024086140911094844},\n",
              " {'ALEGRIA': 0.9996232986450195, 'MEDO': 0.00034110897104255855},\n",
              " {'ALEGRIA': 0.99972003698349, 'MEDO': 7.37390000722371e-05},\n",
              " {'ALEGRIA': 0.9998972415924072, 'MEDO': 4.539786823443137e-05},\n",
              " {'ALEGRIA': 0.9999314546585083, 'MEDO': 4.539786823443137e-05},\n",
              " {'ALEGRIA': 0.9997736811637878, 'MEDO': 4.539786823443137e-05},\n",
              " {'ALEGRIA': 0.999703586101532, 'MEDO': 4.539786823443137e-05},\n",
              " {'ALEGRIA': 0.9997908473014832, 'MEDO': 0.00025408566580154},\n",
              " {'ALEGRIA': 0.9999545812606812, 'MEDO': 4.539786823443137e-05},\n",
              " {'ALEGRIA': 0.9999545812606812, 'MEDO': 0.00011126291792606935},\n",
              " {'ALEGRIA': 0.999664306640625, 'MEDO': 0.000132476823637262},\n",
              " {'ALEGRIA': 0.9993056058883667, 'MEDO': 0.00026849182904697955},\n",
              " {'ALEGRIA': 0.999355137348175, 'MEDO': 0.00017206664779223502},\n",
              " {'ALEGRIA': 0.9999121427536011, 'MEDO': 4.539786823443137e-05},\n",
              " {'ALEGRIA': 0.9997474551200867, 'MEDO': 0.0001221014535985887},\n",
              " {'ALEGRIA': 0.9997673630714417, 'MEDO': 7.53692802391015e-05},\n",
              " {'ALEGRIA': 0.9999397993087769, 'MEDO': 4.539786823443137e-05},\n",
              " {'ALEGRIA': 0.9994578957557678, 'MEDO': 0.000258513173321262},\n",
              " {'ALEGRIA': 0.9998346567153931, 'MEDO': 0.0002012542390730232},\n",
              " {'ALEGRIA': 0.9998247027397156, 'MEDO': 7.297010597540066e-05},\n",
              " {'ALEGRIA': 0.9999545812606812, 'MEDO': 4.539786823443137e-05},\n",
              " {'ALEGRIA': 0.9996293783187866, 'MEDO': 0.00019992803572677076},\n",
              " {'ALEGRIA': 0.9998519420623779, 'MEDO': 5.0203485443489626e-05},\n",
              " {'ALEGRIA': 0.999772846698761, 'MEDO': 0.00025200980599038303},\n",
              " {'ALEGRIA': 0.9996830224990845, 'MEDO': 0.00014836082118563354},\n",
              " {'ALEGRIA': 0.9996614456176758, 'MEDO': 0.00015854851517360657},\n",
              " {'ALEGRIA': 0.9999545812606812, 'MEDO': 4.539786823443137e-05},\n",
              " {'ALEGRIA': 0.9998237490653992, 'MEDO': 0.00010646378359524533},\n",
              " {'ALEGRIA': 0.9998431205749512, 'MEDO': 0.00023785742814652622},\n",
              " {'ALEGRIA': 0.9998700618743896, 'MEDO': 0.00016306758334394544},\n",
              " {'ALEGRIA': 0.0004642457643058151, 'MEDO': 0.9997877478599548},\n",
              " {'ALEGRIA': 0.00023932788462843746, 'MEDO': 0.9999498128890991},\n",
              " {'ALEGRIA': 4.539786823443137e-05, 'MEDO': 0.9999545812606812},\n",
              " {'ALEGRIA': 0.0003345677687320858, 'MEDO': 0.9998030066490173},\n",
              " {'ALEGRIA': 0.00044399674516171217, 'MEDO': 0.9999178647994995},\n",
              " {'ALEGRIA': 0.00027447036700323224, 'MEDO': 0.9999545812606812},\n",
              " {'ALEGRIA': 7.103870302671567e-05, 'MEDO': 0.9999545812606812},\n",
              " {'ALEGRIA': 7.737575651844963e-05, 'MEDO': 0.9999545812606812},\n",
              " {'ALEGRIA': 0.00040067240479402244, 'MEDO': 0.9999034404754639},\n",
              " {'ALEGRIA': 0.00031809808569960296, 'MEDO': 0.9999334812164307},\n",
              " {'ALEGRIA': 7.001784251770005e-05, 'MEDO': 0.9999545812606812},\n",
              " {'ALEGRIA': 0.000456903682788834, 'MEDO': 0.9996808767318726},\n",
              " {'ALEGRIA': 6.207505794009194e-05, 'MEDO': 0.9999545812606812},\n",
              " {'ALEGRIA': 0.0005172505043447018, 'MEDO': 0.9999070167541504},\n",
              " {'ALEGRIA': 0.0004278858832549304, 'MEDO': 0.999697208404541},\n",
              " {'ALEGRIA': 0.0001130669261328876, 'MEDO': 0.9999545812606812},\n",
              " {'ALEGRIA': 0.00036271693534217775, 'MEDO': 0.9997290968894958},\n",
              " {'ALEGRIA': 4.539786823443137e-05, 'MEDO': 0.9999545812606812},\n",
              " {'ALEGRIA': 4.539786823443137e-05, 'MEDO': 0.9999545812606812},\n",
              " {'ALEGRIA': 0.00017852442397270352, 'MEDO': 0.999789297580719},\n",
              " {'ALEGRIA': 0.00030773074831813574, 'MEDO': 0.9999136924743652},\n",
              " {'ALEGRIA': 0.0004503553209360689, 'MEDO': 0.9998916387557983},\n",
              " {'ALEGRIA': 0.0003220515791326761, 'MEDO': 0.9999105930328369},\n",
              " {'ALEGRIA': 4.539786823443137e-05, 'MEDO': 0.9999545812606812},\n",
              " {'ALEGRIA': 0.0003969615790992975, 'MEDO': 0.9999053478240967},\n",
              " {'ALEGRIA': 0.0002965061576105654, 'MEDO': 0.9999545812606812},\n",
              " {'ALEGRIA': 0.0004590594908222556, 'MEDO': 0.9999545812606812},\n",
              " {'ALEGRIA': 0.0005583649617619812, 'MEDO': 0.9997921586036682},\n",
              " {'ALEGRIA': 0.00014929447206668556, 'MEDO': 0.9999545812606812},\n",
              " {'ALEGRIA': 0.0003990517870988697, 'MEDO': 0.9999545812606812},\n",
              " {'ALEGRIA': 4.539786823443137e-05, 'MEDO': 0.9999545812606812},\n",
              " {'ALEGRIA': 0.0005707692471332848, 'MEDO': 0.9999545812606812},\n",
              " {'ALEGRIA': 0.00023193415836431086, 'MEDO': 0.9999545812606812},\n",
              " {'ALEGRIA': 0.0003332978521939367, 'MEDO': 0.9999285936355591},\n",
              " {'ALEGRIA': 4.539786823443137e-05, 'MEDO': 0.9999545812606812},\n",
              " {'ALEGRIA': 0.00043865962652489543, 'MEDO': 0.9998779296875},\n",
              " {'ALEGRIA': 0.000485372293042019, 'MEDO': 0.999849796295166},\n",
              " {'ALEGRIA': 0.00030496896943077445, 'MEDO': 0.9998836517333984},\n",
              " {'ALEGRIA': 0.00021773387561552227, 'MEDO': 0.9994845390319824},\n",
              " {'ALEGRIA': 0.00015460466966032982, 'MEDO': 0.9999545812606812},\n",
              " {'ALEGRIA': 0.00030994435655884445, 'MEDO': 0.9999184608459473},\n",
              " {'ALEGRIA': 0.0003870209329761565, 'MEDO': 0.9998347759246826},\n",
              " {'ALEGRIA': 0.000432474393164739, 'MEDO': 0.9996182918548584},\n",
              " {'ALEGRIA': 0.0005239974125288427, 'MEDO': 0.9996857643127441},\n",
              " {'ALEGRIA': 0.00021271609875839204, 'MEDO': 0.9999502897262573},\n",
              " {'ALEGRIA': 0.0003139937180094421, 'MEDO': 0.9999545812606812},\n",
              " {'ALEGRIA': 0.00039791595190763474, 'MEDO': 0.9998370409011841},\n",
              " {'ALEGRIA': 0.00018081140296999365, 'MEDO': 0.9999529123306274},\n",
              " {'ALEGRIA': 0.00023766516824252903, 'MEDO': 0.9997865557670593},\n",
              " {'ALEGRIA': 0.000393665861338377, 'MEDO': 0.9998087286949158},\n",
              " {'ALEGRIA': 0.00045061338460072875, 'MEDO': 0.9999164342880249},\n",
              " {'ALEGRIA': 0.00023710478853899986, 'MEDO': 0.9998968839645386},\n",
              " {'ALEGRIA': 0.00019320489082019776, 'MEDO': 0.9999545812606812},\n",
              " {'ALEGRIA': 0.00018742783868219703, 'MEDO': 0.9998759031295776},\n",
              " {'ALEGRIA': 4.539786823443137e-05, 'MEDO': 0.9999545812606812},\n",
              " {'ALEGRIA': 0.0005976033280603588, 'MEDO': 0.9995890259742737},\n",
              " {'ALEGRIA': 0.00042717327596619725, 'MEDO': 0.9996092915534973},\n",
              " {'ALEGRIA': 0.00028147586272098124, 'MEDO': 0.9998598098754883},\n",
              " {'ALEGRIA': 0.0003699110820889473, 'MEDO': 0.9999169111251831},\n",
              " {'ALEGRIA': 0.0004885614616796374, 'MEDO': 0.9996587038040161},\n",
              " {'ALEGRIA': 0.0004019773914478719, 'MEDO': 0.9998251795768738},\n",
              " {'ALEGRIA': 0.00016687747847754508, 'MEDO': 0.9999486207962036},\n",
              " {'ALEGRIA': 4.539786823443137e-05, 'MEDO': 0.9999263286590576},\n",
              " {'ALEGRIA': 4.539786823443137e-05, 'MEDO': 0.9999258518218994},\n",
              " {'ALEGRIA': 0.0007412469713017344, 'MEDO': 0.9998701810836792},\n",
              " {'ALEGRIA': 0.0007147970027290285, 'MEDO': 0.9996131062507629},\n",
              " {'ALEGRIA': 0.0006354638026095927, 'MEDO': 0.9997357726097107},\n",
              " {'ALEGRIA': 0.00027061483706347644, 'MEDO': 0.9994640946388245},\n",
              " {'ALEGRIA': 4.539786823443137e-05, 'MEDO': 0.9999436140060425},\n",
              " {'ALEGRIA': 0.00033254720619879663, 'MEDO': 0.9998056292533875},\n",
              " {'ALEGRIA': 0.0006231539882719517, 'MEDO': 0.9996823072433472},\n",
              " {'ALEGRIA': 0.0005101041751913726, 'MEDO': 0.9999408721923828},\n",
              " {'ALEGRIA': 0.000308175542159006, 'MEDO': 0.9997420907020569},\n",
              " {'ALEGRIA': 7.453944999724627e-05, 'MEDO': 0.9999545812606812},\n",
              " {'ALEGRIA': 0.0003382951836101711, 'MEDO': 0.9998776912689209},\n",
              " {'ALEGRIA': 6.399137055268511e-05, 'MEDO': 0.9998472929000854},\n",
              " {'ALEGRIA': 0.00031201165984384716, 'MEDO': 0.9997355341911316},\n",
              " {'ALEGRIA': 0.00016581366071477532, 'MEDO': 0.9999545812606812},\n",
              " {'ALEGRIA': 0.00033365614945068955, 'MEDO': 0.999876856803894},\n",
              " {'ALEGRIA': 0.0003802983264904469, 'MEDO': 0.9998658895492554},\n",
              " {'ALEGRIA': 0.0002760649658739567, 'MEDO': 0.9999545812606812},\n",
              " {'ALEGRIA': 0.00017107395979110152, 'MEDO': 0.9999421834945679},\n",
              " {'ALEGRIA': 0.00039214384742081165, 'MEDO': 0.9999148845672607},\n",
              " {'ALEGRIA': 0.00039817512151785195, 'MEDO': 0.9997836947441101}]"
            ]
          },
          "metadata": {},
          "execution_count": 51
        }
      ]
    },
    {
      "cell_type": "code",
      "metadata": {
        "id": "YXTXMXAgEDMR"
      },
      "source": [
        "previsoes_final = []\n",
        "for previsao in previsoes:\n",
        "  if previsao['ALEGRIA'] > previsao['MEDO']:\n",
        "    previsoes_final.append('alegria')\n",
        "  else:\n",
        "    previsoes_final.append('medo')\n",
        "\n",
        "previsoes_final = np.array(previsoes_final)"
      ],
      "execution_count": null,
      "outputs": []
    },
    {
      "cell_type": "code",
      "metadata": {
        "id": "ilep1MZKEVyg",
        "colab": {
          "base_uri": "https://localhost:8080/"
        },
        "outputId": "76f1e6de-a556-43f4-a170-e2908d6efb15"
      },
      "source": [
        "previsoes_final"
      ],
      "execution_count": null,
      "outputs": [
        {
          "output_type": "execute_result",
          "data": {
            "text/plain": [
              "array(['alegria', 'alegria', 'alegria', 'alegria', 'alegria', 'alegria',\n",
              "       'alegria', 'alegria', 'alegria', 'alegria', 'alegria', 'alegria',\n",
              "       'alegria', 'alegria', 'alegria', 'alegria', 'alegria', 'alegria',\n",
              "       'alegria', 'alegria', 'alegria', 'alegria', 'alegria', 'alegria',\n",
              "       'alegria', 'alegria', 'alegria', 'alegria', 'alegria', 'alegria',\n",
              "       'alegria', 'alegria', 'alegria', 'alegria', 'alegria', 'alegria',\n",
              "       'alegria', 'alegria', 'alegria', 'alegria', 'alegria', 'alegria',\n",
              "       'alegria', 'alegria', 'alegria', 'alegria', 'alegria', 'alegria',\n",
              "       'alegria', 'alegria', 'alegria', 'alegria', 'alegria', 'alegria',\n",
              "       'alegria', 'alegria', 'alegria', 'alegria', 'alegria', 'alegria',\n",
              "       'alegria', 'alegria', 'alegria', 'alegria', 'alegria', 'alegria',\n",
              "       'alegria', 'alegria', 'alegria', 'alegria', 'alegria', 'alegria',\n",
              "       'alegria', 'alegria', 'alegria', 'alegria', 'alegria', 'alegria',\n",
              "       'alegria', 'alegria', 'alegria', 'alegria', 'alegria', 'alegria',\n",
              "       'alegria', 'alegria', 'alegria', 'alegria', 'alegria', 'alegria',\n",
              "       'alegria', 'alegria', 'alegria', 'alegria', 'alegria', 'alegria',\n",
              "       'alegria', 'alegria', 'alegria', 'alegria', 'alegria', 'alegria',\n",
              "       'alegria', 'alegria', 'alegria', 'alegria', 'alegria', 'alegria',\n",
              "       'alegria', 'alegria', 'alegria', 'alegria', 'medo', 'medo', 'medo',\n",
              "       'medo', 'medo', 'medo', 'medo', 'medo', 'medo', 'medo', 'medo',\n",
              "       'medo', 'medo', 'medo', 'medo', 'medo', 'medo', 'medo', 'medo',\n",
              "       'medo', 'medo', 'medo', 'medo', 'medo', 'medo', 'medo', 'medo',\n",
              "       'medo', 'medo', 'medo', 'medo', 'medo', 'medo', 'medo', 'medo',\n",
              "       'medo', 'medo', 'medo', 'medo', 'medo', 'medo', 'medo', 'medo',\n",
              "       'medo', 'medo', 'medo', 'medo', 'medo', 'medo', 'medo', 'medo',\n",
              "       'medo', 'medo', 'medo', 'medo', 'medo', 'medo', 'medo', 'medo',\n",
              "       'medo', 'medo', 'medo', 'medo', 'medo', 'medo', 'medo', 'medo',\n",
              "       'medo', 'medo', 'medo', 'medo', 'medo', 'medo', 'medo', 'medo',\n",
              "       'medo', 'medo', 'medo', 'medo', 'medo', 'medo', 'medo', 'medo',\n",
              "       'medo'], dtype='<U7')"
            ]
          },
          "metadata": {},
          "execution_count": 53
        }
      ]
    },
    {
      "cell_type": "code",
      "metadata": {
        "id": "3bbnP269EaYs",
        "colab": {
          "base_uri": "https://localhost:8080/"
        },
        "outputId": "7df66ac4-9102-4b03-ac27-41a89415b4ae"
      },
      "source": [
        "respostas_reais = base_dados['emocao'].values\n",
        "respostas_reais"
      ],
      "execution_count": null,
      "outputs": [
        {
          "output_type": "execute_result",
          "data": {
            "text/plain": [
              "array(['alegria', 'alegria', 'alegria', 'alegria', 'alegria', 'alegria',\n",
              "       'alegria', 'alegria', 'alegria', 'alegria', 'alegria', 'alegria',\n",
              "       'alegria', 'alegria', 'alegria', 'alegria', 'alegria', 'alegria',\n",
              "       'alegria', 'alegria', 'alegria', 'alegria', 'alegria', 'alegria',\n",
              "       'alegria', 'alegria', 'alegria', 'alegria', 'alegria', 'alegria',\n",
              "       'alegria', 'alegria', 'alegria', 'alegria', 'alegria', 'alegria',\n",
              "       'alegria', 'alegria', 'alegria', 'alegria', 'alegria', 'alegria',\n",
              "       'alegria', 'alegria', 'alegria', 'alegria', 'alegria', 'alegria',\n",
              "       'alegria', 'alegria', 'alegria', 'alegria', 'alegria', 'alegria',\n",
              "       'alegria', 'alegria', 'alegria', 'alegria', 'alegria', 'alegria',\n",
              "       'alegria', 'alegria', 'alegria', 'alegria', 'alegria', 'alegria',\n",
              "       'alegria', 'alegria', 'alegria', 'alegria', 'alegria', 'alegria',\n",
              "       'alegria', 'alegria', 'alegria', 'alegria', 'alegria', 'alegria',\n",
              "       'alegria', 'alegria', 'alegria', 'alegria', 'alegria', 'alegria',\n",
              "       'alegria', 'alegria', 'alegria', 'alegria', 'alegria', 'alegria',\n",
              "       'alegria', 'alegria', 'alegria', 'alegria', 'alegria', 'alegria',\n",
              "       'alegria', 'alegria', 'alegria', 'alegria', 'alegria', 'alegria',\n",
              "       'alegria', 'alegria', 'alegria', 'alegria', 'alegria', 'alegria',\n",
              "       'alegria', 'alegria', 'alegria', 'alegria', 'medo', 'medo', 'medo',\n",
              "       'medo', 'medo', 'medo', 'medo', 'medo', 'medo', 'medo', 'medo',\n",
              "       'medo', 'medo', 'medo', 'medo', 'medo', 'medo', 'medo', 'medo',\n",
              "       'medo', 'medo', 'medo', 'medo', 'medo', 'medo', 'medo', 'medo',\n",
              "       'medo', 'medo', 'medo', 'medo', 'medo', 'medo', 'medo', 'medo',\n",
              "       'medo', 'medo', 'medo', 'medo', 'medo', 'medo', 'medo', 'medo',\n",
              "       'medo', 'medo', 'medo', 'medo', 'medo', 'medo', 'medo', 'medo',\n",
              "       'medo', 'medo', 'medo', 'medo', 'medo', 'medo', 'medo', 'medo',\n",
              "       'medo', 'medo', 'medo', 'medo', 'medo', 'medo', 'medo', 'medo',\n",
              "       'medo', 'medo', 'medo', 'medo', 'medo', 'medo', 'medo', 'medo',\n",
              "       'medo', 'medo', 'medo', 'medo', 'medo', 'medo', 'medo', 'medo',\n",
              "       'medo'], dtype=object)"
            ]
          },
          "metadata": {},
          "execution_count": 54
        }
      ]
    },
    {
      "cell_type": "code",
      "metadata": {
        "id": "7dM1nOQtEo6p",
        "colab": {
          "base_uri": "https://localhost:8080/"
        },
        "outputId": "e7451e54-0c13-44fb-f17c-fa2749cd199f"
      },
      "source": [
        "from sklearn.metrics import confusion_matrix, accuracy_score\n",
        "accuracy_score(respostas_reais, previsoes_final)"
      ],
      "execution_count": null,
      "outputs": [
        {
          "output_type": "execute_result",
          "data": {
            "text/plain": [
              "1.0"
            ]
          },
          "metadata": {},
          "execution_count": 55
        }
      ]
    },
    {
      "cell_type": "markdown",
      "source": [
        "A acuracy em 1, provavelmente indica um overfiting (o algoritmo se adaptou demais ao modelo e não está traendo a realidade)"
      ],
      "metadata": {
        "id": "sh66ureMDRd8"
      }
    },
    {
      "cell_type": "code",
      "metadata": {
        "id": "UuI8nXdAE-Nw",
        "colab": {
          "base_uri": "https://localhost:8080/"
        },
        "outputId": "d66b6e5f-3629-4082-d933-5741b8c76410"
      },
      "source": [
        "cm = confusion_matrix(respostas_reais, previsoes_final)\n",
        "cm"
      ],
      "execution_count": null,
      "outputs": [
        {
          "output_type": "execute_result",
          "data": {
            "text/plain": [
              "array([[112,   0],\n",
              "       [  0,  84]])"
            ]
          },
          "metadata": {},
          "execution_count": 56
        }
      ]
    },
    {
      "cell_type": "markdown",
      "metadata": {
        "id": "HmLjfVrZAE2T"
      },
      "source": [
        "## Avaliação na base de teste"
      ]
    },
    {
      "cell_type": "code",
      "metadata": {
        "id": "I3bLzl9gFVLz"
      },
      "source": [
        "base_dados_teste = pd.read_csv('/content/base_teste.txt', encoding = 'utf-8')"
      ],
      "execution_count": null,
      "outputs": []
    },
    {
      "cell_type": "code",
      "metadata": {
        "id": "SXregSmbFfgW",
        "colab": {
          "base_uri": "https://localhost:8080/",
          "height": 206
        },
        "outputId": "1a874c98-d5e7-4334-f109-71f273765e8b"
      },
      "source": [
        "base_dados_teste.head()"
      ],
      "execution_count": null,
      "outputs": [
        {
          "output_type": "execute_result",
          "data": {
            "text/html": [
              "\n",
              "  <div id=\"df-5c49dbc2-2bea-49e0-9015-1d64038e0612\">\n",
              "    <div class=\"colab-df-container\">\n",
              "      <div>\n",
              "<style scoped>\n",
              "    .dataframe tbody tr th:only-of-type {\n",
              "        vertical-align: middle;\n",
              "    }\n",
              "\n",
              "    .dataframe tbody tr th {\n",
              "        vertical-align: top;\n",
              "    }\n",
              "\n",
              "    .dataframe thead th {\n",
              "        text-align: right;\n",
              "    }\n",
              "</style>\n",
              "<table border=\"1\" class=\"dataframe\">\n",
              "  <thead>\n",
              "    <tr style=\"text-align: right;\">\n",
              "      <th></th>\n",
              "      <th>texto</th>\n",
              "      <th>emocao</th>\n",
              "    </tr>\n",
              "  </thead>\n",
              "  <tbody>\n",
              "    <tr>\n",
              "      <th>0</th>\n",
              "      <td>não precisei pagar o ingresso</td>\n",
              "      <td>alegria</td>\n",
              "    </tr>\n",
              "    <tr>\n",
              "      <th>1</th>\n",
              "      <td>se eu ajeitar tudo fica bem</td>\n",
              "      <td>alegria</td>\n",
              "    </tr>\n",
              "    <tr>\n",
              "      <th>2</th>\n",
              "      <td>minha fortuna ultrapassará a sua</td>\n",
              "      <td>alegria</td>\n",
              "    </tr>\n",
              "    <tr>\n",
              "      <th>3</th>\n",
              "      <td>sou muito afortunado</td>\n",
              "      <td>alegria</td>\n",
              "    </tr>\n",
              "    <tr>\n",
              "      <th>4</th>\n",
              "      <td>é benéfico para todos esta nova medida</td>\n",
              "      <td>alegria</td>\n",
              "    </tr>\n",
              "  </tbody>\n",
              "</table>\n",
              "</div>\n",
              "      <button class=\"colab-df-convert\" onclick=\"convertToInteractive('df-5c49dbc2-2bea-49e0-9015-1d64038e0612')\"\n",
              "              title=\"Convert this dataframe to an interactive table.\"\n",
              "              style=\"display:none;\">\n",
              "        \n",
              "  <svg xmlns=\"http://www.w3.org/2000/svg\" height=\"24px\"viewBox=\"0 0 24 24\"\n",
              "       width=\"24px\">\n",
              "    <path d=\"M0 0h24v24H0V0z\" fill=\"none\"/>\n",
              "    <path d=\"M18.56 5.44l.94 2.06.94-2.06 2.06-.94-2.06-.94-.94-2.06-.94 2.06-2.06.94zm-11 1L8.5 8.5l.94-2.06 2.06-.94-2.06-.94L8.5 2.5l-.94 2.06-2.06.94zm10 10l.94 2.06.94-2.06 2.06-.94-2.06-.94-.94-2.06-.94 2.06-2.06.94z\"/><path d=\"M17.41 7.96l-1.37-1.37c-.4-.4-.92-.59-1.43-.59-.52 0-1.04.2-1.43.59L10.3 9.45l-7.72 7.72c-.78.78-.78 2.05 0 2.83L4 21.41c.39.39.9.59 1.41.59.51 0 1.02-.2 1.41-.59l7.78-7.78 2.81-2.81c.8-.78.8-2.07 0-2.86zM5.41 20L4 18.59l7.72-7.72 1.47 1.35L5.41 20z\"/>\n",
              "  </svg>\n",
              "      </button>\n",
              "      \n",
              "  <style>\n",
              "    .colab-df-container {\n",
              "      display:flex;\n",
              "      flex-wrap:wrap;\n",
              "      gap: 12px;\n",
              "    }\n",
              "\n",
              "    .colab-df-convert {\n",
              "      background-color: #E8F0FE;\n",
              "      border: none;\n",
              "      border-radius: 50%;\n",
              "      cursor: pointer;\n",
              "      display: none;\n",
              "      fill: #1967D2;\n",
              "      height: 32px;\n",
              "      padding: 0 0 0 0;\n",
              "      width: 32px;\n",
              "    }\n",
              "\n",
              "    .colab-df-convert:hover {\n",
              "      background-color: #E2EBFA;\n",
              "      box-shadow: 0px 1px 2px rgba(60, 64, 67, 0.3), 0px 1px 3px 1px rgba(60, 64, 67, 0.15);\n",
              "      fill: #174EA6;\n",
              "    }\n",
              "\n",
              "    [theme=dark] .colab-df-convert {\n",
              "      background-color: #3B4455;\n",
              "      fill: #D2E3FC;\n",
              "    }\n",
              "\n",
              "    [theme=dark] .colab-df-convert:hover {\n",
              "      background-color: #434B5C;\n",
              "      box-shadow: 0px 1px 3px 1px rgba(0, 0, 0, 0.15);\n",
              "      filter: drop-shadow(0px 1px 2px rgba(0, 0, 0, 0.3));\n",
              "      fill: #FFFFFF;\n",
              "    }\n",
              "  </style>\n",
              "\n",
              "      <script>\n",
              "        const buttonEl =\n",
              "          document.querySelector('#df-5c49dbc2-2bea-49e0-9015-1d64038e0612 button.colab-df-convert');\n",
              "        buttonEl.style.display =\n",
              "          google.colab.kernel.accessAllowed ? 'block' : 'none';\n",
              "\n",
              "        async function convertToInteractive(key) {\n",
              "          const element = document.querySelector('#df-5c49dbc2-2bea-49e0-9015-1d64038e0612');\n",
              "          const dataTable =\n",
              "            await google.colab.kernel.invokeFunction('convertToInteractive',\n",
              "                                                     [key], {});\n",
              "          if (!dataTable) return;\n",
              "\n",
              "          const docLinkHtml = 'Like what you see? Visit the ' +\n",
              "            '<a target=\"_blank\" href=https://colab.research.google.com/notebooks/data_table.ipynb>data table notebook</a>'\n",
              "            + ' to learn more about interactive tables.';\n",
              "          element.innerHTML = '';\n",
              "          dataTable['output_type'] = 'display_data';\n",
              "          await google.colab.output.renderOutput(dataTable, element);\n",
              "          const docLink = document.createElement('div');\n",
              "          docLink.innerHTML = docLinkHtml;\n",
              "          element.appendChild(docLink);\n",
              "        }\n",
              "      </script>\n",
              "    </div>\n",
              "  </div>\n",
              "  "
            ],
            "text/plain": [
              "                                    texto   emocao\n",
              "0           não precisei pagar o ingresso  alegria\n",
              "1             se eu ajeitar tudo fica bem  alegria\n",
              "2        minha fortuna ultrapassará a sua  alegria\n",
              "3                    sou muito afortunado  alegria\n",
              "4  é benéfico para todos esta nova medida  alegria"
            ]
          },
          "metadata": {},
          "execution_count": 58
        }
      ]
    },
    {
      "cell_type": "code",
      "metadata": {
        "id": "qTvsYEmBFj6P"
      },
      "source": [
        "base_dados_teste['texto'] = base_dados_teste['texto'].apply(preprocessamento)"
      ],
      "execution_count": null,
      "outputs": []
    },
    {
      "cell_type": "code",
      "metadata": {
        "id": "QSP38LnPFrTl",
        "colab": {
          "base_uri": "https://localhost:8080/",
          "height": 206
        },
        "outputId": "411cd0a0-990a-4fd4-f890-62eae0bbd55f"
      },
      "source": [
        "base_dados_teste.head()"
      ],
      "execution_count": null,
      "outputs": [
        {
          "output_type": "execute_result",
          "data": {
            "text/html": [
              "\n",
              "  <div id=\"df-01611ed9-fcee-480e-b472-16ff84778cd3\">\n",
              "    <div class=\"colab-df-container\">\n",
              "      <div>\n",
              "<style scoped>\n",
              "    .dataframe tbody tr th:only-of-type {\n",
              "        vertical-align: middle;\n",
              "    }\n",
              "\n",
              "    .dataframe tbody tr th {\n",
              "        vertical-align: top;\n",
              "    }\n",
              "\n",
              "    .dataframe thead th {\n",
              "        text-align: right;\n",
              "    }\n",
              "</style>\n",
              "<table border=\"1\" class=\"dataframe\">\n",
              "  <thead>\n",
              "    <tr style=\"text-align: right;\">\n",
              "      <th></th>\n",
              "      <th>texto</th>\n",
              "      <th>emocao</th>\n",
              "    </tr>\n",
              "  </thead>\n",
              "  <tbody>\n",
              "    <tr>\n",
              "      <th>0</th>\n",
              "      <td>precisar pagar o ingressar</td>\n",
              "      <td>alegria</td>\n",
              "    </tr>\n",
              "    <tr>\n",
              "      <th>1</th>\n",
              "      <td>ajeitar ficar</td>\n",
              "      <td>alegria</td>\n",
              "    </tr>\n",
              "    <tr>\n",
              "      <th>2</th>\n",
              "      <td>fortuna ultrapassar o suar</td>\n",
              "      <td>alegria</td>\n",
              "    </tr>\n",
              "    <tr>\n",
              "      <th>3</th>\n",
              "      <td>afortunar</td>\n",
              "      <td>alegria</td>\n",
              "    </tr>\n",
              "    <tr>\n",
              "      <th>4</th>\n",
              "      <td>benéfico parir medir</td>\n",
              "      <td>alegria</td>\n",
              "    </tr>\n",
              "  </tbody>\n",
              "</table>\n",
              "</div>\n",
              "      <button class=\"colab-df-convert\" onclick=\"convertToInteractive('df-01611ed9-fcee-480e-b472-16ff84778cd3')\"\n",
              "              title=\"Convert this dataframe to an interactive table.\"\n",
              "              style=\"display:none;\">\n",
              "        \n",
              "  <svg xmlns=\"http://www.w3.org/2000/svg\" height=\"24px\"viewBox=\"0 0 24 24\"\n",
              "       width=\"24px\">\n",
              "    <path d=\"M0 0h24v24H0V0z\" fill=\"none\"/>\n",
              "    <path d=\"M18.56 5.44l.94 2.06.94-2.06 2.06-.94-2.06-.94-.94-2.06-.94 2.06-2.06.94zm-11 1L8.5 8.5l.94-2.06 2.06-.94-2.06-.94L8.5 2.5l-.94 2.06-2.06.94zm10 10l.94 2.06.94-2.06 2.06-.94-2.06-.94-.94-2.06-.94 2.06-2.06.94z\"/><path d=\"M17.41 7.96l-1.37-1.37c-.4-.4-.92-.59-1.43-.59-.52 0-1.04.2-1.43.59L10.3 9.45l-7.72 7.72c-.78.78-.78 2.05 0 2.83L4 21.41c.39.39.9.59 1.41.59.51 0 1.02-.2 1.41-.59l7.78-7.78 2.81-2.81c.8-.78.8-2.07 0-2.86zM5.41 20L4 18.59l7.72-7.72 1.47 1.35L5.41 20z\"/>\n",
              "  </svg>\n",
              "      </button>\n",
              "      \n",
              "  <style>\n",
              "    .colab-df-container {\n",
              "      display:flex;\n",
              "      flex-wrap:wrap;\n",
              "      gap: 12px;\n",
              "    }\n",
              "\n",
              "    .colab-df-convert {\n",
              "      background-color: #E8F0FE;\n",
              "      border: none;\n",
              "      border-radius: 50%;\n",
              "      cursor: pointer;\n",
              "      display: none;\n",
              "      fill: #1967D2;\n",
              "      height: 32px;\n",
              "      padding: 0 0 0 0;\n",
              "      width: 32px;\n",
              "    }\n",
              "\n",
              "    .colab-df-convert:hover {\n",
              "      background-color: #E2EBFA;\n",
              "      box-shadow: 0px 1px 2px rgba(60, 64, 67, 0.3), 0px 1px 3px 1px rgba(60, 64, 67, 0.15);\n",
              "      fill: #174EA6;\n",
              "    }\n",
              "\n",
              "    [theme=dark] .colab-df-convert {\n",
              "      background-color: #3B4455;\n",
              "      fill: #D2E3FC;\n",
              "    }\n",
              "\n",
              "    [theme=dark] .colab-df-convert:hover {\n",
              "      background-color: #434B5C;\n",
              "      box-shadow: 0px 1px 3px 1px rgba(0, 0, 0, 0.15);\n",
              "      filter: drop-shadow(0px 1px 2px rgba(0, 0, 0, 0.3));\n",
              "      fill: #FFFFFF;\n",
              "    }\n",
              "  </style>\n",
              "\n",
              "      <script>\n",
              "        const buttonEl =\n",
              "          document.querySelector('#df-01611ed9-fcee-480e-b472-16ff84778cd3 button.colab-df-convert');\n",
              "        buttonEl.style.display =\n",
              "          google.colab.kernel.accessAllowed ? 'block' : 'none';\n",
              "\n",
              "        async function convertToInteractive(key) {\n",
              "          const element = document.querySelector('#df-01611ed9-fcee-480e-b472-16ff84778cd3');\n",
              "          const dataTable =\n",
              "            await google.colab.kernel.invokeFunction('convertToInteractive',\n",
              "                                                     [key], {});\n",
              "          if (!dataTable) return;\n",
              "\n",
              "          const docLinkHtml = 'Like what you see? Visit the ' +\n",
              "            '<a target=\"_blank\" href=https://colab.research.google.com/notebooks/data_table.ipynb>data table notebook</a>'\n",
              "            + ' to learn more about interactive tables.';\n",
              "          element.innerHTML = '';\n",
              "          dataTable['output_type'] = 'display_data';\n",
              "          await google.colab.output.renderOutput(dataTable, element);\n",
              "          const docLink = document.createElement('div');\n",
              "          docLink.innerHTML = docLinkHtml;\n",
              "          element.appendChild(docLink);\n",
              "        }\n",
              "      </script>\n",
              "    </div>\n",
              "  </div>\n",
              "  "
            ],
            "text/plain": [
              "                        texto   emocao\n",
              "0  precisar pagar o ingressar  alegria\n",
              "1               ajeitar ficar  alegria\n",
              "2  fortuna ultrapassar o suar  alegria\n",
              "3                   afortunar  alegria\n",
              "4        benéfico parir medir  alegria"
            ]
          },
          "metadata": {},
          "execution_count": 60
        }
      ]
    },
    {
      "cell_type": "code",
      "metadata": {
        "id": "AwmnAwRcF1sD"
      },
      "source": [
        "previsoes = []\n",
        "for texto in base_dados_teste['texto']:\n",
        "  #print(texto)\n",
        "  previsao = modelo_carregado(texto)\n",
        "  previsoes.append(previsao.cats)"
      ],
      "execution_count": null,
      "outputs": []
    },
    {
      "cell_type": "code",
      "metadata": {
        "id": "Y7MpSvS4F8xv"
      },
      "source": [
        "previsoes_final = []\n",
        "for previsao in previsoes:\n",
        "  if previsao['ALEGRIA'] > previsao['MEDO']:\n",
        "    previsoes_final.append('alegria')\n",
        "  else:\n",
        "    previsoes_final.append('medo')\n",
        "\n",
        "previsoes_final = np.array(previsoes_final)"
      ],
      "execution_count": null,
      "outputs": []
    },
    {
      "cell_type": "code",
      "metadata": {
        "id": "rgoCy1SXGEkw"
      },
      "source": [
        "respostas_reais = base_dados_teste['emocao'].values"
      ],
      "execution_count": null,
      "outputs": []
    },
    {
      "cell_type": "code",
      "metadata": {
        "id": "HbpqmtMlGJ0T",
        "colab": {
          "base_uri": "https://localhost:8080/"
        },
        "outputId": "7f89ca03-877a-4aa8-a878-102c76e3dca8"
      },
      "source": [
        "accuracy_score(respostas_reais, previsoes_final)"
      ],
      "execution_count": null,
      "outputs": [
        {
          "output_type": "execute_result",
          "data": {
            "text/plain": [
              "0.6071428571428571"
            ]
          },
          "metadata": {},
          "execution_count": 64
        }
      ]
    },
    {
      "cell_type": "code",
      "metadata": {
        "id": "noYdfAJ0GQAF",
        "colab": {
          "base_uri": "https://localhost:8080/"
        },
        "outputId": "a8cb781d-cf39-43d1-c876-a4b062f442a8"
      },
      "source": [
        "cm = confusion_matrix(respostas_reais, previsoes_final)\n",
        "cm"
      ],
      "execution_count": null,
      "outputs": [
        {
          "output_type": "execute_result",
          "data": {
            "text/plain": [
              "array([[36, 12],\n",
              "       [21, 15]])"
            ]
          },
          "metadata": {},
          "execution_count": 65
        }
      ]
    }
  ]
}