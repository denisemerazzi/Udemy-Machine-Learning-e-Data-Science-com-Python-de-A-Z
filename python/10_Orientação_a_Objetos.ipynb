{
  "nbformat": 4,
  "nbformat_minor": 0,
  "metadata": {
    "colab": {
      "name": "PYTHON 10 - Orientação a Objetos.ipynb",
      "provenance": [],
      "collapsed_sections": []
    },
    "kernelspec": {
      "name": "python3",
      "display_name": "Python 3"
    }
  },
  "cells": [
    {
      "cell_type": "markdown",
      "metadata": {
        "id": "QlFTfgKfdo2h"
      },
      "source": [
        "# Orientação a Objetos"
      ]
    },
    {
      "cell_type": "code",
      "metadata": {
        "id": "6F0oISzgwJZx"
      },
      "source": [
        "class Triangulo:\n",
        "  def __init__(self, lado1, lado2, lado3, base, altura):\n",
        "    self.lado1 = lado1\n",
        "    self.lado2 = lado2\n",
        "    self.lado3 = lado3\n",
        "    self.base = base\n",
        "    self.altura = altura\n",
        "  \n",
        "  def area(self):\n",
        "    return (self.base * self.altura) / 2\n",
        "\n",
        "  def tipo(self):\n",
        "    if self.lado1 > self.lado2 + self.lado3:\n",
        "      return 'não é um triângulo'\n",
        "    elif self.lado1 == self.lado2 or self.lado1 == self.lado3 or self.lado1 == self.lado2:\n",
        "      return 'triângulo isósceles'\n",
        "    else:\n",
        "      return 'outro tipo de triângulo'"
      ],
      "execution_count": null,
      "outputs": []
    },
    {
      "cell_type": "code",
      "metadata": {
        "id": "SDq4Y5ZDwx8c"
      },
      "source": [
        "t1 = Triangulo(5, 1, 3, 4, 3)"
      ],
      "execution_count": null,
      "outputs": []
    },
    {
      "cell_type": "code",
      "metadata": {
        "id": "hq763UNxxApW",
        "colab": {
          "base_uri": "https://localhost:8080/"
        },
        "outputId": "fc39db9a-2ad7-4a38-d225-e0492784419d"
      },
      "source": [
        "print(t1.lado1, t1.lado2, t1.lado3, t1.base, t1.altura)"
      ],
      "execution_count": null,
      "outputs": [
        {
          "output_type": "stream",
          "name": "stdout",
          "text": [
            "5 1 3 4 3\n"
          ]
        }
      ]
    },
    {
      "cell_type": "code",
      "metadata": {
        "id": "OzOP8kKPyKus",
        "colab": {
          "base_uri": "https://localhost:8080/"
        },
        "outputId": "803329e9-5391-4535-82c0-9da463e97025"
      },
      "source": [
        "t1.area()"
      ],
      "execution_count": null,
      "outputs": [
        {
          "output_type": "execute_result",
          "data": {
            "text/plain": [
              "6.0"
            ]
          },
          "metadata": {},
          "execution_count": 4
        }
      ]
    },
    {
      "cell_type": "code",
      "metadata": {
        "id": "YcGAuLMEzCx-",
        "colab": {
          "base_uri": "https://localhost:8080/",
          "height": 35
        },
        "outputId": "738f5be9-2d52-4646-abca-f783da0b47e7"
      },
      "source": [
        "t1.tipo()"
      ],
      "execution_count": null,
      "outputs": [
        {
          "output_type": "execute_result",
          "data": {
            "application/vnd.google.colaboratory.intrinsic+json": {
              "type": "string"
            },
            "text/plain": [
              "'não é um triângulo'"
            ]
          },
          "metadata": {},
          "execution_count": 5
        }
      ]
    },
    {
      "cell_type": "code",
      "metadata": {
        "id": "3WRbsJ0sxJy-",
        "colab": {
          "base_uri": "https://localhost:8080/"
        },
        "outputId": "fc281c0b-e795-48ea-c538-d9d4a07c1568"
      },
      "source": [
        "t2 = Triangulo(8, 8, 8, 16, 9)\n",
        "print(t2.lado1, t2.lado2, t2.lado3, t2.base, t2.altura)"
      ],
      "execution_count": null,
      "outputs": [
        {
          "output_type": "stream",
          "name": "stdout",
          "text": [
            "8 8 8 16 9\n"
          ]
        }
      ]
    },
    {
      "cell_type": "code",
      "metadata": {
        "id": "iBlImwTXyWry",
        "colab": {
          "base_uri": "https://localhost:8080/"
        },
        "outputId": "48fefcb0-a0bc-44c9-be8b-1c7fbae1f3ff"
      },
      "source": [
        "t2.area()"
      ],
      "execution_count": null,
      "outputs": [
        {
          "output_type": "execute_result",
          "data": {
            "text/plain": [
              "72.0"
            ]
          },
          "metadata": {},
          "execution_count": 7
        }
      ]
    },
    {
      "cell_type": "code",
      "metadata": {
        "id": "K7aNze6dzG-8",
        "colab": {
          "base_uri": "https://localhost:8080/",
          "height": 35
        },
        "outputId": "9c9a1421-3437-43ae-d4e2-8efdb66d813a"
      },
      "source": [
        "t2.tipo()"
      ],
      "execution_count": null,
      "outputs": [
        {
          "output_type": "execute_result",
          "data": {
            "application/vnd.google.colaboratory.intrinsic+json": {
              "type": "string"
            },
            "text/plain": [
              "'triângulo isósceles'"
            ]
          },
          "metadata": {},
          "execution_count": 8
        }
      ]
    },
    {
      "cell_type": "markdown",
      "source": [
        "EXERCÍCIO\n",
        "Crie uma classe chamada aluno com os seguintes atributos:\n",
        "- Nome\n",
        "- Nota 1\n",
        "- Nota 2\n",
        "- Crie um construtor para a classe (__init__)\n",
        "\n",
        "Crie as seguintes funções (métodos):\n",
        "\n",
        "Calcula Rmédia, retornando a média aritmética entre as notas\n",
        "Mostra dados, que somente imprime o valor de todos os atributos\n",
        "Resultado, que verifica se o aluno está aprovado ou reprovado (se a média for maior ou igual a 6.0, o aluno está aprovado)\n",
        "Crie dois objetos (aluno1 e aluno2) e teste as funções\n",
        "\n"
      ],
      "metadata": {
        "id": "GGgTZ-etWXQd"
      }
    },
    {
      "cell_type": "code",
      "source": [
        "class Aluno:\n",
        "  def __init__(self, nome, nota1, nota2):\n",
        "    self.nome = nome\n",
        "    self.nota1 = nota1\n",
        "    self.nota2 = nota2\n",
        "    self.media = 0.0\n",
        "   \n",
        "  def calcula_media(self):\n",
        "    self.media = (self.nota1 + self.nota2) / 2\n",
        "    return self.media\n",
        "\n",
        "  def mostra_dados(self):\n",
        "    print('Nome: ', self.nome)\n",
        "    print('Nota 1:', self.nota1)\n",
        "    print('Nota 2:', self.nota2)\n",
        "    print('Média:', self.media)\n",
        "  \n",
        "  def resultado(self):\n",
        "    if self.media >= 6.0:\n",
        "      print('Aprovado')\n",
        "    else:\n",
        "      print('Reprovado')"
      ],
      "metadata": {
        "id": "FpC1SVsgW3gr"
      },
      "execution_count": null,
      "outputs": []
    },
    {
      "cell_type": "code",
      "source": [
        "aluno1 = Aluno('Pedro', 7.0, 9.0)\n",
        "media = aluno1.calcula_media()\n",
        "print(media)"
      ],
      "metadata": {
        "colab": {
          "base_uri": "https://localhost:8080/"
        },
        "id": "LPoQQjFJW7EV",
        "outputId": "abc7b073-3f17-45cc-9959-56948238294c"
      },
      "execution_count": null,
      "outputs": [
        {
          "output_type": "stream",
          "name": "stdout",
          "text": [
            "8.0\n"
          ]
        }
      ]
    },
    {
      "cell_type": "code",
      "source": [
        "aluno1.mostra_dados()"
      ],
      "metadata": {
        "colab": {
          "base_uri": "https://localhost:8080/"
        },
        "id": "sr0lAWlYXhIe",
        "outputId": "7b8473d2-a756-4ebf-e374-c341195daa23"
      },
      "execution_count": null,
      "outputs": [
        {
          "output_type": "stream",
          "name": "stdout",
          "text": [
            "Nome:  Pedro\n",
            "Nota 1: 7.0\n",
            "Nota 2: 9.0\n",
            "Média: 8.0\n"
          ]
        }
      ]
    },
    {
      "cell_type": "code",
      "source": [
        "aluno1.resultado()"
      ],
      "metadata": {
        "colab": {
          "base_uri": "https://localhost:8080/"
        },
        "id": "_uW8fioNXlOS",
        "outputId": "d7802660-fb67-4577-91cb-36c8b0747f89"
      },
      "execution_count": null,
      "outputs": [
        {
          "output_type": "stream",
          "name": "stdout",
          "text": [
            "Aprovado\n"
          ]
        }
      ]
    },
    {
      "cell_type": "code",
      "source": [
        "aluno2 = Aluno('João', 7.0, 2.0)\n",
        "media = aluno2.calcula_media()\n",
        "aluno2.mostra_dados()\n",
        "aluno2.resultado()"
      ],
      "metadata": {
        "colab": {
          "base_uri": "https://localhost:8080/"
        },
        "id": "51Fo8scbXo3V",
        "outputId": "de9fc45a-da54-4895-e8df-c6d5a691a8ea"
      },
      "execution_count": null,
      "outputs": [
        {
          "output_type": "stream",
          "name": "stdout",
          "text": [
            "Nome:  João\n",
            "Nota 1: 7.0\n",
            "Nota 2: 2.0\n",
            "Média: 4.5\n",
            "Reprovado\n"
          ]
        }
      ]
    }
  ]
}