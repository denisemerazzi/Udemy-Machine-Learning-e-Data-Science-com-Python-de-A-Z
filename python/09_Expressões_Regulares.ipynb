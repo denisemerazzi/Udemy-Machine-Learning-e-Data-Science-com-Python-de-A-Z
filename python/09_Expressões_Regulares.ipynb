{
  "nbformat": 4,
  "nbformat_minor": 0,
  "metadata": {
    "colab": {
      "name": "PYTHON 9 - Expressões Regulares.ipynb",
      "provenance": [],
      "collapsed_sections": []
    },
    "kernelspec": {
      "name": "python3",
      "display_name": "Python 3"
    }
  },
  "cells": [
    {
      "cell_type": "markdown",
      "metadata": {
        "id": "WvOV4VN9sHvj"
      },
      "source": [
        "# Expressões regulares"
      ]
    },
    {
      "cell_type": "markdown",
      "metadata": {
        "id": "Nk_w40LW0itn"
      },
      "source": [
        "## Função search"
      ]
    },
    {
      "cell_type": "code",
      "metadata": {
        "id": "Aj1dc_c2uZDl"
      },
      "source": [
        "import re"
      ],
      "execution_count": null,
      "outputs": []
    },
    {
      "cell_type": "code",
      "metadata": {
        "id": "hFhDZWgGsKQO"
      },
      "source": [
        "frase = 'Olá, meu número de telefone é (42)00010-0000'"
      ],
      "execution_count": null,
      "outputs": []
    },
    {
      "cell_type": "code",
      "metadata": {
        "id": "qPnO9HmAReeL",
        "colab": {
          "base_uri": "https://localhost:8080/"
        },
        "outputId": "7a9afcb7-bed3-43dc-b3be-ef53ffc68d99"
      },
      "source": [
        "re.search('\\(\\d{2}\\)\\d{4,5}-\\d{4}', frase)"
      ],
      "execution_count": null,
      "outputs": [
        {
          "output_type": "execute_result",
          "data": {
            "text/plain": [
              "<re.Match object; span=(30, 44), match='(42)00010-0000'>"
            ]
          },
          "metadata": {},
          "execution_count": 3
        }
      ]
    },
    {
      "cell_type": "code",
      "metadata": {
        "id": "LitwIAjDwRXM"
      },
      "source": [
        "frase = 'A placa de carro que eu anotei durante o acidente foi FrT-1998'"
      ],
      "execution_count": null,
      "outputs": []
    },
    {
      "cell_type": "code",
      "metadata": {
        "id": "Yy50jNO9SYU6",
        "colab": {
          "base_uri": "https://localhost:8080/"
        },
        "outputId": "4d107109-bfa7-462d-ac33-e6d0411f5d03"
      },
      "source": [
        "re.search('[A-Za-z]{3}-\\d{4}', frase)"
      ],
      "execution_count": null,
      "outputs": [
        {
          "output_type": "execute_result",
          "data": {
            "text/plain": [
              "<re.Match object; span=(54, 62), match='FrT-1998'>"
            ]
          },
          "metadata": {},
          "execution_count": 5
        }
      ]
    },
    {
      "cell_type": "code",
      "metadata": {
        "id": "JZ9iXCw4w4o7"
      },
      "source": [
        "email = 'Entre em contato, meu email é teste@teste.com'"
      ],
      "execution_count": null,
      "outputs": []
    },
    {
      "cell_type": "code",
      "metadata": {
        "id": "Jf9J4PZYSv3_",
        "colab": {
          "base_uri": "https://localhost:8080/"
        },
        "outputId": "924e7c7c-2c25-4889-cf71-acabcc652c08"
      },
      "source": [
        "re.search('\\w+@\\w+\\.com', email)"
      ],
      "execution_count": null,
      "outputs": [
        {
          "output_type": "execute_result",
          "data": {
            "text/plain": [
              "<re.Match object; span=(30, 45), match='teste@teste.com'>"
            ]
          },
          "metadata": {},
          "execution_count": 7
        }
      ]
    },
    {
      "cell_type": "markdown",
      "metadata": {
        "id": "wZziwezSxZNR"
      },
      "source": [
        "## Função match"
      ]
    },
    {
      "cell_type": "code",
      "metadata": {
        "id": "q2MZ-5urxep0"
      },
      "source": [
        "frase = 'A placa de carro que eu anotei durante a batida foi FRT-1998'"
      ],
      "execution_count": null,
      "outputs": []
    },
    {
      "cell_type": "code",
      "metadata": {
        "id": "esPXSYM6TMIt",
        "colab": {
          "base_uri": "https://localhost:8080/"
        },
        "outputId": "f8cbb2e7-7968-4f39-f3b1-936ed4ea1fe7"
      },
      "source": [
        "print(re.match('[A-Za-z]{3}-\\d{4}', frase))"
      ],
      "execution_count": null,
      "outputs": [
        {
          "output_type": "stream",
          "name": "stdout",
          "text": [
            "None\n"
          ]
        }
      ]
    },
    {
      "cell_type": "code",
      "metadata": {
        "id": "ahPvZA8Ax5E8"
      },
      "source": [
        "frase2 = 'FRT-1998 é a placa do carro'"
      ],
      "execution_count": null,
      "outputs": []
    },
    {
      "cell_type": "code",
      "metadata": {
        "id": "GgVEH8sjTVqh",
        "colab": {
          "base_uri": "https://localhost:8080/"
        },
        "outputId": "b04acff7-745b-4ce6-ba65-c81d833b910e"
      },
      "source": [
        "print(re.match('[A-Za-z]{3}-\\d{4}', frase2))"
      ],
      "execution_count": null,
      "outputs": [
        {
          "output_type": "stream",
          "name": "stdout",
          "text": [
            "<re.Match object; span=(0, 8), match='FRT-1998'>\n"
          ]
        }
      ]
    },
    {
      "cell_type": "markdown",
      "metadata": {
        "id": "7OJHsCbkyzV6"
      },
      "source": [
        "## Função findall"
      ]
    },
    {
      "cell_type": "code",
      "metadata": {
        "id": "nAiqJkNJy-gs"
      },
      "source": [
        "frase3 = 'Meu número de telefone atual é (42)0000-0000. O número (56)1111-1111 é o antigo'"
      ],
      "execution_count": null,
      "outputs": []
    },
    {
      "cell_type": "code",
      "metadata": {
        "id": "7wUHKwFuTj9P",
        "colab": {
          "base_uri": "https://localhost:8080/"
        },
        "outputId": "d91a22d9-20c8-42b1-d06c-5ddbeaecfb96"
      },
      "source": [
        "re.findall('\\(\\d{2}\\)\\d{4,5}-\\d{4}', frase3)"
      ],
      "execution_count": null,
      "outputs": [
        {
          "output_type": "execute_result",
          "data": {
            "text/plain": [
              "['(42)0000-0000', '(56)1111-1111']"
            ]
          },
          "metadata": {},
          "execution_count": 13
        }
      ]
    },
    {
      "cell_type": "code",
      "metadata": {
        "id": "UwyR0ezBzkqj"
      },
      "source": [
        "emails = '''Nome: Teste 1\n",
        "email: teste1@teste.com\n",
        "Nome: Teste 2\n",
        "email: teste2@teste.com\n",
        "Nome: Teste 3\n",
        "email: teste3@teste.com.br\n",
        "'''"
      ],
      "execution_count": null,
      "outputs": []
    },
    {
      "cell_type": "code",
      "metadata": {
        "id": "-nGbc57NTvaT",
        "colab": {
          "base_uri": "https://localhost:8080/"
        },
        "outputId": "7f557df0-4d7e-4a06-9766-6edcdd65befb"
      },
      "source": [
        "re.findall('\\w+@\\w+\\.\\w*', emails)"
      ],
      "execution_count": null,
      "outputs": [
        {
          "output_type": "execute_result",
          "data": {
            "text/plain": [
              "['teste1@teste.com', 'teste2@teste.com', 'teste3@teste.com']"
            ]
          },
          "metadata": {},
          "execution_count": 15
        }
      ]
    },
    {
      "cell_type": "code",
      "source": [
        "re.findall('[\\w.+-]+@[\\w-]+\\.[\\w.-]+', emails) #Atualizado 08/02/2022"
      ],
      "metadata": {
        "colab": {
          "base_uri": "https://localhost:8080/"
        },
        "id": "WjD1YLTYMRYz",
        "outputId": "33314986-a8ef-4665-8ee1-b62e3f80942b"
      },
      "execution_count": null,
      "outputs": [
        {
          "output_type": "execute_result",
          "data": {
            "text/plain": [
              "['teste1@teste.com', 'teste2@teste.com', 'teste3@teste.com.br']"
            ]
          },
          "metadata": {},
          "execution_count": 16
        }
      ]
    },
    {
      "cell_type": "code",
      "source": [
        "re.findall('\\w+@\\w+\\.\\w+.?\\w+', emails) #Colaboração/sugestão Eder Marinho Martins"
      ],
      "metadata": {
        "colab": {
          "base_uri": "https://localhost:8080/"
        },
        "id": "cSHHaysoMDFr",
        "outputId": "8c0d5418-638a-40bd-dc2f-f3aea3e1cb6b"
      },
      "execution_count": null,
      "outputs": [
        {
          "output_type": "execute_result",
          "data": {
            "text/plain": [
              "['teste1@teste.com', 'teste2@teste.com', 'teste3@teste.com.br']"
            ]
          },
          "metadata": {},
          "execution_count": 17
        }
      ]
    },
    {
      "cell_type": "markdown",
      "source": [
        "Exercício"
      ],
      "metadata": {
        "id": "eeBNubT0Q5Gk"
      }
    },
    {
      "cell_type": "markdown",
      "source": [
        "Crie expressões regulares para extrair as seguintes informações do texto abaixo (use a função findall):\n",
        "- Números\n",
        "- CEPs\n",
        "- URLs"
      ],
      "metadata": {
        "id": "n1pH70rlQ830"
      }
    },
    {
      "cell_type": "code",
      "source": [
        "texto = \"Minha casa fica na Rua das Palmeiras, 85. Meu CEP  é 912530-562 e meu site é https://www.bolhasebrilhos.com.br\" "
      ],
      "metadata": {
        "id": "kHTlIrKZQ-I0"
      },
      "execution_count": null,
      "outputs": []
    },
    {
      "cell_type": "code",
      "source": [
        "import re\n",
        "re.findall('\\d', texto)"
      ],
      "metadata": {
        "colab": {
          "base_uri": "https://localhost:8080/"
        },
        "id": "giC-Uw1pRfeI",
        "outputId": "9b992cc8-c139-438e-d578-0c34c47b01a0"
      },
      "execution_count": null,
      "outputs": [
        {
          "output_type": "execute_result",
          "data": {
            "text/plain": [
              "['8', '5', '9', '1', '2', '5', '3', '0', '5', '6', '2']"
            ]
          },
          "metadata": {},
          "execution_count": 22
        }
      ]
    },
    {
      "cell_type": "code",
      "source": [
        "re.findall('\\d{5}-\\d{3}', texto)"
      ],
      "metadata": {
        "colab": {
          "base_uri": "https://localhost:8080/"
        },
        "id": "zdVJz_3zRwBD",
        "outputId": "c55be848-7769-4a0f-9c97-670f9608a01b"
      },
      "execution_count": null,
      "outputs": [
        {
          "output_type": "execute_result",
          "data": {
            "text/plain": [
              "['12530-562']"
            ]
          },
          "metadata": {},
          "execution_count": 23
        }
      ]
    },
    {
      "cell_type": "code",
      "source": [
        "re.findall('https?://[A-Za-z0-9./]+', texto)"
      ],
      "metadata": {
        "colab": {
          "base_uri": "https://localhost:8080/"
        },
        "id": "jRuOmzlcR3MA",
        "outputId": "d9bf4259-c13f-415d-b17b-3463af6a5c95"
      },
      "execution_count": null,
      "outputs": [
        {
          "output_type": "execute_result",
          "data": {
            "text/plain": [
              "[]"
            ]
          },
          "metadata": {},
          "execution_count": 28
        }
      ]
    }
  ]
}