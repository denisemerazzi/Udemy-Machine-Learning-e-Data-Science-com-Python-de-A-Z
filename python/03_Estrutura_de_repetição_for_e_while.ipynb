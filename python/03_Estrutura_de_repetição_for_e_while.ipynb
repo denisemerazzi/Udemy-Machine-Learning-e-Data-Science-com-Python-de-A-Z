{
  "nbformat": 4,
  "nbformat_minor": 0,
  "metadata": {
    "colab": {
      "name": "Python 3 Estrutura de repetição - for e while.ipynb",
      "provenance": [],
      "collapsed_sections": []
    },
    "kernelspec": {
      "name": "python3",
      "display_name": "Python 3"
    }
  },
  "cells": [
    {
      "cell_type": "markdown",
      "metadata": {
        "id": "5hg58pyZe2oS"
      },
      "source": [
        "# Estruturas de repetição - for"
      ]
    },
    {
      "cell_type": "code",
      "metadata": {
        "id": "Vqvjpfi6e_L-"
      },
      "source": [
        "print(1)\n",
        "print(2)\n",
        "print(3)\n",
        "print(4)\n",
        "print(5)"
      ],
      "execution_count": null,
      "outputs": []
    },
    {
      "cell_type": "code",
      "metadata": {
        "id": "c2iluHyETYEU",
        "colab": {
          "base_uri": "https://localhost:8080/"
        },
        "outputId": "c9b9171c-327a-49ba-8340-5011609cdf00"
      },
      "source": [
        "for numero in range(1, 6):\n",
        "  print(numero)"
      ],
      "execution_count": null,
      "outputs": [
        {
          "output_type": "stream",
          "name": "stdout",
          "text": [
            "1\n",
            "2\n",
            "3\n",
            "4\n",
            "5\n"
          ]
        }
      ]
    },
    {
      "cell_type": "code",
      "metadata": {
        "id": "P7NuY7N4TxMK",
        "colab": {
          "base_uri": "https://localhost:8080/"
        },
        "outputId": "98e071e3-9ade-4cd6-d8bd-a6d72814f92c"
      },
      "source": [
        "for numero in range(5, 0, -1):\n",
        "  print(numero)"
      ],
      "execution_count": null,
      "outputs": [
        {
          "output_type": "stream",
          "name": "stdout",
          "text": [
            "5\n",
            "4\n",
            "3\n",
            "2\n",
            "1\n"
          ]
        }
      ]
    },
    {
      "cell_type": "code",
      "metadata": {
        "id": "Tte1Ylh6UAtK",
        "colab": {
          "base_uri": "https://localhost:8080/"
        },
        "outputId": "fa758030-1223-4bed-f9f1-2c4b223c319a"
      },
      "source": [
        "5 + 4 + 3 + 2 + 1"
      ],
      "execution_count": null,
      "outputs": [
        {
          "output_type": "execute_result",
          "data": {
            "text/plain": [
              "15"
            ]
          },
          "metadata": {},
          "execution_count": 4
        }
      ]
    },
    {
      "cell_type": "code",
      "metadata": {
        "id": "H5x4zHkfUFmb",
        "colab": {
          "base_uri": "https://localhost:8080/"
        },
        "outputId": "c8507c1e-cee3-4408-8b99-4ce5a545ad7a"
      },
      "source": [
        "soma = 0\n",
        "for numero in range(1, 6):\n",
        "  soma = soma + numero\n",
        "  #print(soma)\n",
        "\n",
        "print(soma)"
      ],
      "execution_count": null,
      "outputs": [
        {
          "output_type": "stream",
          "name": "stdout",
          "text": [
            "15\n"
          ]
        }
      ]
    },
    {
      "cell_type": "code",
      "metadata": {
        "id": "JZnG40IVUnwn",
        "colab": {
          "base_uri": "https://localhost:8080/"
        },
        "outputId": "d82bcfc3-fd96-4548-9934-e11cfc9bd2f4"
      },
      "source": [
        "palavra = 'sorvete'\n",
        "for letra in palavra:\n",
        "  #print(letra)\n",
        "  if letra == 'v':\n",
        "    print('Achou a letra v')"
      ],
      "execution_count": null,
      "outputs": [
        {
          "output_type": "stream",
          "name": "stdout",
          "text": [
            "Achou a letra v\n"
          ]
        }
      ]
    },
    {
      "cell_type": "code",
      "metadata": {
        "id": "UXEE2wmwVMBq",
        "colab": {
          "base_uri": "https://localhost:8080/"
        },
        "outputId": "901f4f7e-321a-4291-cfe4-3532e0ace280"
      },
      "source": [
        "for i in range(0,5):\n",
        "  print(i)\n",
        "  print('---')\n",
        "  for j in range(0,3):\n",
        "    print(j)\n",
        "  print()"
      ],
      "execution_count": null,
      "outputs": [
        {
          "output_type": "stream",
          "name": "stdout",
          "text": [
            "0\n",
            "---\n",
            "0\n",
            "1\n",
            "2\n",
            "\n",
            "1\n",
            "---\n",
            "0\n",
            "1\n",
            "2\n",
            "\n",
            "2\n",
            "---\n",
            "0\n",
            "1\n",
            "2\n",
            "\n",
            "3\n",
            "---\n",
            "0\n",
            "1\n",
            "2\n",
            "\n",
            "4\n",
            "---\n",
            "0\n",
            "1\n",
            "2\n",
            "\n"
          ]
        }
      ]
    },
    {
      "cell_type": "markdown",
      "source": [
        "#Estruturas de repetição - while"
      ],
      "metadata": {
        "id": "ZdRD6Z1D8FpW"
      }
    },
    {
      "cell_type": "code",
      "source": [
        "numero = 1\n",
        "while numero < 6:\n",
        "  print(numero)\n",
        "  numero += 1\n",
        "print('---')"
      ],
      "metadata": {
        "colab": {
          "base_uri": "https://localhost:8080/"
        },
        "id": "u_rxQLLD8SdF",
        "outputId": "7779a8c1-a1c8-4511-b5bb-e83c5b6bc117"
      },
      "execution_count": null,
      "outputs": [
        {
          "output_type": "stream",
          "name": "stdout",
          "text": [
            "1\n",
            "2\n",
            "3\n",
            "4\n",
            "5\n",
            "---\n"
          ]
        }
      ]
    },
    {
      "cell_type": "code",
      "source": [
        "numero = 5\n",
        "while numero > 0:\n",
        "  print(numero)\n",
        "  numero -= 1"
      ],
      "metadata": {
        "colab": {
          "base_uri": "https://localhost:8080/"
        },
        "id": "-R3wRiJC8Zzw",
        "outputId": "e68d8758-e615-4fa2-ba00-e8a233f298a9"
      },
      "execution_count": null,
      "outputs": [
        {
          "output_type": "stream",
          "name": "stdout",
          "text": [
            "5\n",
            "4\n",
            "3\n",
            "2\n",
            "1\n"
          ]
        }
      ]
    },
    {
      "cell_type": "code",
      "source": [
        "1 + 2 + 3 + 4 + 5"
      ],
      "metadata": {
        "colab": {
          "base_uri": "https://localhost:8080/"
        },
        "id": "aoJn9T0_8dA4",
        "outputId": "4a09e894-aefb-4069-c32c-c78dd45ca87a"
      },
      "execution_count": null,
      "outputs": [
        {
          "output_type": "execute_result",
          "data": {
            "text/plain": [
              "15"
            ]
          },
          "metadata": {},
          "execution_count": 10
        }
      ]
    },
    {
      "cell_type": "code",
      "source": [
        "soma = 0\n",
        "numero = 1\n",
        "while numero < 6:\n",
        "  soma += numero\n",
        "  numero += 1\n",
        "print(soma)"
      ],
      "metadata": {
        "colab": {
          "base_uri": "https://localhost:8080/"
        },
        "id": "TuA9y0QI8gaU",
        "outputId": "df5351fe-f3db-45a6-9257-c1fb5fb9df88"
      },
      "execution_count": null,
      "outputs": [
        {
          "output_type": "stream",
          "name": "stdout",
          "text": [
            "15\n"
          ]
        }
      ]
    },
    {
      "cell_type": "code",
      "source": [
        "numero = 12\n",
        "while numero < 1 or numero > 10:\n",
        "  numero = int(input('Digite um número de 1 a 10: '))"
      ],
      "metadata": {
        "colab": {
          "base_uri": "https://localhost:8080/"
        },
        "id": "3Oj4afoB8jLd",
        "outputId": "e6558517-1c83-4eac-e361-d9f41f6eec42"
      },
      "execution_count": null,
      "outputs": [
        {
          "name": "stdout",
          "output_type": "stream",
          "text": [
            "Digite um número de 1 a 10: 2\n"
          ]
        }
      ]
    },
    {
      "cell_type": "markdown",
      "source": [
        "#Exercícios"
      ],
      "metadata": {
        "id": "RmSCBzX-9b3z"
      }
    },
    {
      "cell_type": "markdown",
      "source": [
        "1. Ler 5 notas e informar a média\n"
      ],
      "metadata": {
        "id": "zQbn2Btf9gAd"
      }
    },
    {
      "cell_type": "markdown",
      "source": [
        "For"
      ],
      "metadata": {
        "id": "IPcuY4E8H_5b"
      }
    },
    {
      "cell_type": "code",
      "source": [
        "nota = media = soma = 0"
      ],
      "metadata": {
        "id": "okc8v9S3HmZL"
      },
      "execution_count": null,
      "outputs": []
    },
    {
      "cell_type": "code",
      "source": [
        "print(nota, media, soma)"
      ],
      "metadata": {
        "id": "FuNkyCQ2HpMT"
      },
      "execution_count": null,
      "outputs": []
    },
    {
      "cell_type": "code",
      "source": [
        "for _ in range(1, 6):\n",
        "  nota = float(input('Digite a nota '))\n",
        "  soma += nota"
      ],
      "metadata": {
        "colab": {
          "base_uri": "https://localhost:8080/"
        },
        "id": "dKnWftb2IyY_",
        "outputId": "162a6af0-b2a9-4f78-f81a-d13163a3c704"
      },
      "execution_count": null,
      "outputs": [
        {
          "name": "stdout",
          "output_type": "stream",
          "text": [
            "Digite a nota 5\n",
            "Digite a nota 3\n",
            "Digite a nota 8\n",
            "Digite a nota 6\n",
            "Digite a nota 1\n"
          ]
        }
      ]
    },
    {
      "cell_type": "code",
      "source": [
        "media = soma / 5\n",
        "print('A média é ', media)"
      ],
      "metadata": {
        "colab": {
          "base_uri": "https://localhost:8080/"
        },
        "id": "d-4Gqki0Hzcf",
        "outputId": "bf86a8ed-5666-48da-985e-f06a93f9a233"
      },
      "execution_count": null,
      "outputs": [
        {
          "output_type": "stream",
          "name": "stdout",
          "text": [
            "A média é  7.6\n"
          ]
        }
      ]
    },
    {
      "cell_type": "markdown",
      "source": [
        "While"
      ],
      "metadata": {
        "id": "Qu9hOIq3H2Nk"
      }
    },
    {
      "cell_type": "code",
      "source": [
        "nota = soma = 0\n",
        "numero = 1\n",
        "while numero <= 5:\n",
        "  nota = float(input('Digite a nota:'))\n",
        "  soma += nota\n",
        "  numero += 1\n",
        "print('A média é ', soma / 5)"
      ],
      "metadata": {
        "colab": {
          "base_uri": "https://localhost:8080/"
        },
        "id": "hachDYL9H3xn",
        "outputId": "0159bffb-fc6d-4b15-dbd2-b64121f67f71"
      },
      "execution_count": null,
      "outputs": [
        {
          "output_type": "stream",
          "name": "stdout",
          "text": [
            "Digite a nota:5\n",
            "Digite a nota:9\n",
            "Digite a nota:8\n",
            "Digite a nota:7\n",
            "Digite a nota:6\n",
            "A média é  7.0\n"
          ]
        }
      ]
    },
    {
      "cell_type": "markdown",
      "source": [
        "\n",
        "2. Imprimir a tabuada do número 3 (3 x 1 = 1 - 3 x 10 = 30)"
      ],
      "metadata": {
        "id": "D9yZAV5q9kOg"
      }
    },
    {
      "cell_type": "markdown",
      "source": [
        "For"
      ],
      "metadata": {
        "id": "g6_Kr4byIGR3"
      }
    },
    {
      "cell_type": "code",
      "source": [
        "for i in range(1, 11):\n",
        "  print('3 x {} = {}'.format(i, 3 * i))"
      ],
      "metadata": {
        "colab": {
          "base_uri": "https://localhost:8080/"
        },
        "id": "qSvzlF8KIB2H",
        "outputId": "eabc67e7-4aaa-4e2f-a304-25e33c3dc008"
      },
      "execution_count": null,
      "outputs": [
        {
          "output_type": "stream",
          "name": "stdout",
          "text": [
            "3 x 1 = 3\n",
            "3 x 2 = 6\n",
            "3 x 3 = 9\n",
            "3 x 4 = 12\n",
            "3 x 5 = 15\n",
            "3 x 6 = 18\n",
            "3 x 7 = 21\n",
            "3 x 8 = 24\n",
            "3 x 9 = 27\n",
            "3 x 10 = 30\n"
          ]
        }
      ]
    },
    {
      "cell_type": "markdown",
      "source": [
        "While"
      ],
      "metadata": {
        "id": "nA-8sHXGIITn"
      }
    },
    {
      "cell_type": "code",
      "source": [
        "numero = 1\n",
        "while numero <= 10:\n",
        "  print('3 x {} = {}'.format(numero, 3 * numero))\n",
        "  numero += 1"
      ],
      "metadata": {
        "colab": {
          "base_uri": "https://localhost:8080/"
        },
        "id": "TtNI1JPKILdL",
        "outputId": "fae9ead5-623c-4ae2-a2c2-0e613b697568"
      },
      "execution_count": null,
      "outputs": [
        {
          "output_type": "stream",
          "name": "stdout",
          "text": [
            "3 x 1 = 3\n",
            "3 x 2 = 6\n",
            "3 x 3 = 9\n",
            "3 x 4 = 12\n",
            "3 x 5 = 15\n",
            "3 x 6 = 18\n",
            "3 x 7 = 21\n",
            "3 x 8 = 24\n",
            "3 x 9 = 27\n",
            "3 x 10 = 30\n"
          ]
        }
      ]
    }
  ]
}