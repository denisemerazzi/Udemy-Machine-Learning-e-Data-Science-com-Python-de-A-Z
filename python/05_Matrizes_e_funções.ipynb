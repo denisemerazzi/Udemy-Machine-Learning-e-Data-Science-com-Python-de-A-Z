{
  "nbformat": 4,
  "nbformat_minor": 0,
  "metadata": {
    "colab": {
      "name": "Python 5  Matrizes e funções.ipynb",
      "provenance": [],
      "collapsed_sections": []
    },
    "kernelspec": {
      "name": "python3",
      "display_name": "Python 3"
    }
  },
  "cells": [
    {
      "cell_type": "markdown",
      "metadata": {
        "id": "--0h-g8oKeoy"
      },
      "source": [
        "# Matrizes"
      ]
    },
    {
      "cell_type": "code",
      "metadata": {
        "id": "Hy5AufWauB55"
      },
      "source": [
        "import numpy as np"
      ],
      "execution_count": null,
      "outputs": []
    },
    {
      "cell_type": "code",
      "metadata": {
        "id": "0tlTplKduULh"
      },
      "source": [
        "matriz = np.array([[2, 3, 1], \n",
        "                   [4, 5, 7]])"
      ],
      "execution_count": null,
      "outputs": []
    },
    {
      "cell_type": "code",
      "metadata": {
        "id": "flw1UoaCusHR",
        "colab": {
          "base_uri": "https://localhost:8080/"
        },
        "outputId": "58670fa3-2896-4dbe-e51e-96a9c7f92318"
      },
      "source": [
        "matriz"
      ],
      "execution_count": null,
      "outputs": [
        {
          "output_type": "execute_result",
          "data": {
            "text/plain": [
              "array([[2, 3, 1],\n",
              "       [4, 5, 7]])"
            ]
          },
          "metadata": {},
          "execution_count": 3
        }
      ]
    },
    {
      "cell_type": "code",
      "metadata": {
        "id": "U_c0vmbNuxj6",
        "colab": {
          "base_uri": "https://localhost:8080/"
        },
        "outputId": "d16ff60e-a341-4b45-c72b-d3c4b6d7695c"
      },
      "source": [
        "matriz.shape"
      ],
      "execution_count": null,
      "outputs": [
        {
          "output_type": "execute_result",
          "data": {
            "text/plain": [
              "(2, 3)"
            ]
          },
          "metadata": {},
          "execution_count": 4
        }
      ]
    },
    {
      "cell_type": "markdown",
      "source": [
        "Retorna a primeira linha"
      ],
      "metadata": {
        "id": "wEl-D1dxU3ej"
      }
    },
    {
      "cell_type": "code",
      "metadata": {
        "id": "vcWENdxDu2I5",
        "colab": {
          "base_uri": "https://localhost:8080/"
        },
        "outputId": "892da81b-2315-4044-a791-441ac2f1c6dd"
      },
      "source": [
        "matriz[0]"
      ],
      "execution_count": null,
      "outputs": [
        {
          "output_type": "execute_result",
          "data": {
            "text/plain": [
              "array([2, 3, 1])"
            ]
          },
          "metadata": {},
          "execution_count": 5
        }
      ]
    },
    {
      "cell_type": "markdown",
      "source": [
        "Retorna a segunda linha"
      ],
      "metadata": {
        "id": "zW0bIJ5qU7yr"
      }
    },
    {
      "cell_type": "code",
      "metadata": {
        "id": "Q3BWpEMGu4v3",
        "colab": {
          "base_uri": "https://localhost:8080/"
        },
        "outputId": "fe40f856-cef6-44ad-e1b0-e71ec2f81147"
      },
      "source": [
        "matriz[1]"
      ],
      "execution_count": null,
      "outputs": [
        {
          "output_type": "execute_result",
          "data": {
            "text/plain": [
              "array([4, 5, 7])"
            ]
          },
          "metadata": {},
          "execution_count": 6
        }
      ]
    },
    {
      "cell_type": "markdown",
      "source": [
        "Retorna a primeira linha e a terceira coluna"
      ],
      "metadata": {
        "id": "o950gY-kU-L9"
      }
    },
    {
      "cell_type": "code",
      "metadata": {
        "id": "KBdLd_uJu7wQ",
        "colab": {
          "base_uri": "https://localhost:8080/"
        },
        "outputId": "8ae340d6-c5f8-4078-f618-f5d6eb9e4c18"
      },
      "source": [
        "matriz[0][2]"
      ],
      "execution_count": null,
      "outputs": [
        {
          "output_type": "execute_result",
          "data": {
            "text/plain": [
              "1"
            ]
          },
          "metadata": {},
          "execution_count": 7
        }
      ]
    },
    {
      "cell_type": "code",
      "metadata": {
        "id": "sE7sbVu5vG8z",
        "colab": {
          "base_uri": "https://localhost:8080/"
        },
        "outputId": "f6a3a6cd-82b7-44e4-ba7c-e9b7a7a82264"
      },
      "source": [
        "matriz[1][2]"
      ],
      "execution_count": null,
      "outputs": [
        {
          "output_type": "execute_result",
          "data": {
            "text/plain": [
              "7"
            ]
          },
          "metadata": {},
          "execution_count": 8
        }
      ]
    },
    {
      "cell_type": "code",
      "metadata": {
        "id": "ao_sGzOtvUKX",
        "colab": {
          "base_uri": "https://localhost:8080/"
        },
        "outputId": "5ecd6727-e388-4821-c46c-e39a091ff302"
      },
      "source": [
        "matriz.shape"
      ],
      "execution_count": null,
      "outputs": [
        {
          "output_type": "execute_result",
          "data": {
            "text/plain": [
              "(2, 3)"
            ]
          },
          "metadata": {},
          "execution_count": 9
        }
      ]
    },
    {
      "cell_type": "markdown",
      "source": [
        "i percorre as linhas; j percorre as colunas. N aposição 0 são as linhas e na possição 1 são as colunas"
      ],
      "metadata": {
        "id": "JeL5W2KEVOKM"
      }
    },
    {
      "cell_type": "code",
      "metadata": {
        "id": "OMlp09zavPiv",
        "colab": {
          "base_uri": "https://localhost:8080/"
        },
        "outputId": "92b136cb-bc11-47b3-8051-61a907756850"
      },
      "source": [
        "for i in range(matriz.shape[0]):\n",
        "  print(matriz[i])\n",
        "  for j in range(matriz.shape[1]):\n",
        "    print(matriz[i][j])  "
      ],
      "execution_count": null,
      "outputs": [
        {
          "output_type": "stream",
          "name": "stdout",
          "text": [
            "[2 3 1]\n",
            "2\n",
            "3\n",
            "1\n",
            "[4 5 7]\n",
            "4\n",
            "5\n",
            "7\n"
          ]
        }
      ]
    },
    {
      "cell_type": "markdown",
      "source": [
        "# EXERCÍCIOS\n"
      ],
      "metadata": {
        "id": "1P-qnFwWS9vy"
      }
    },
    {
      "cell_type": "markdown",
      "source": [
        "1. Dada a matriz abaixo, construa uma estrutura de repetição para percorrer e somar todos os elementos da matriz"
      ],
      "metadata": {
        "id": "vnZLzontS_3w"
      }
    },
    {
      "cell_type": "code",
      "source": [
        "matriz = np.array([[3, 4, 1],\n",
        "                   [3, 1, 5]])\n",
        "matriz"
      ],
      "metadata": {
        "colab": {
          "base_uri": "https://localhost:8080/"
        },
        "id": "5tcT8ajcTFZd",
        "outputId": "9d11011a-aba6-4c08-862d-949dd9b8a072"
      },
      "execution_count": null,
      "outputs": [
        {
          "output_type": "execute_result",
          "data": {
            "text/plain": [
              "array([[3, 4, 1],\n",
              "       [3, 1, 5]])"
            ]
          },
          "metadata": {},
          "execution_count": 11
        }
      ]
    },
    {
      "cell_type": "code",
      "source": [
        "matriz.shape"
      ],
      "metadata": {
        "colab": {
          "base_uri": "https://localhost:8080/"
        },
        "id": "AYKbyQMsTGTc",
        "outputId": "89bc9382-70c1-49b4-b72d-5ec92a5c0a12"
      },
      "execution_count": null,
      "outputs": [
        {
          "output_type": "execute_result",
          "data": {
            "text/plain": [
              "(2, 3)"
            ]
          },
          "metadata": {},
          "execution_count": 12
        }
      ]
    },
    {
      "cell_type": "code",
      "source": [
        "soma = 0\n",
        "for i in range(matriz.shape[0]):\n",
        "  for j in range(matriz.shape[1]):\n",
        "    #print(matriz[i][j])\n",
        "    soma += matriz[i][j]\n",
        "print('Soma: ', soma)"
      ],
      "metadata": {
        "colab": {
          "base_uri": "https://localhost:8080/"
        },
        "id": "kwHmXroITKd1",
        "outputId": "64f15c66-4210-4a26-8b66-31c424ca47f2"
      },
      "execution_count": null,
      "outputs": [
        {
          "output_type": "stream",
          "name": "stdout",
          "text": [
            "Soma:  17\n"
          ]
        }
      ]
    },
    {
      "cell_type": "markdown",
      "source": [
        "# FUNÇÕES\n"
      ],
      "metadata": {
        "id": "Uh4KAGZqWBvk"
      }
    },
    {
      "cell_type": "markdown",
      "source": [
        "* Trechos de programa que recebem um determinado nome e podem ser chamados várias vezes durante a execução\n",
        "* Principais vantagens: reutilização de código, modularidade e facilidade de manutenção do sistema"
      ],
      "metadata": {
        "id": "O6r56_sTWES2"
      }
    },
    {
      "cell_type": "markdown",
      "source": [
        "# Função sem parâmetro e sem retorno\n"
      ],
      "metadata": {
        "id": "9jLgKzruWKUz"
      }
    },
    {
      "cell_type": "code",
      "source": [
        "def mensagem():\n",
        "  print('Texto da função')"
      ],
      "metadata": {
        "id": "ijTTiQwIWOBH"
      },
      "execution_count": null,
      "outputs": []
    },
    {
      "cell_type": "code",
      "source": [
        "mensagem()\n",
        "mensagem()\n",
        "mensagem()"
      ],
      "metadata": {
        "colab": {
          "base_uri": "https://localhost:8080/"
        },
        "id": "3rI9HrPwWR9j",
        "outputId": "afb3606c-a0d7-465a-9a6e-1f205c969a14"
      },
      "execution_count": null,
      "outputs": [
        {
          "output_type": "stream",
          "name": "stdout",
          "text": [
            "Texto da função\n",
            "Texto da função\n",
            "Texto da função\n"
          ]
        }
      ]
    },
    {
      "cell_type": "markdown",
      "source": [
        "# Função com passagem de parâmetro"
      ],
      "metadata": {
        "id": "e2h53YuZWVKc"
      }
    },
    {
      "cell_type": "code",
      "source": [
        "def mensagem(texto):\n",
        "  print(texto)"
      ],
      "metadata": {
        "id": "DFHvzz4uWWl3"
      },
      "execution_count": null,
      "outputs": []
    },
    {
      "cell_type": "code",
      "source": [
        "mensagem('texto 1')\n",
        "mensagem('texto 2')\n",
        "mensagem('texto 3')"
      ],
      "metadata": {
        "colab": {
          "base_uri": "https://localhost:8080/"
        },
        "id": "2mYu1F8wWZiH",
        "outputId": "771046cd-a34f-44cd-ead4-a6dcd1acce03"
      },
      "execution_count": null,
      "outputs": [
        {
          "output_type": "stream",
          "name": "stdout",
          "text": [
            "texto 1\n",
            "texto 2\n",
            "texto 3\n"
          ]
        }
      ]
    },
    {
      "cell_type": "code",
      "source": [
        "def soma(a, b):\n",
        "  print(a + b)"
      ],
      "metadata": {
        "id": "Y2no7grtWc80"
      },
      "execution_count": null,
      "outputs": []
    },
    {
      "cell_type": "code",
      "source": [
        "soma(2, 3)"
      ],
      "metadata": {
        "colab": {
          "base_uri": "https://localhost:8080/"
        },
        "id": "cMs2guBQWf1M",
        "outputId": "a355c78e-9589-4c07-f0b6-d0f2580675f1"
      },
      "execution_count": null,
      "outputs": [
        {
          "output_type": "stream",
          "name": "stdout",
          "text": [
            "5\n"
          ]
        }
      ]
    },
    {
      "cell_type": "code",
      "source": [
        "soma(3, 3)\n",
        "soma(1, 2)"
      ],
      "metadata": {
        "colab": {
          "base_uri": "https://localhost:8080/"
        },
        "id": "QRHb12ybWjWv",
        "outputId": "6b54bb34-34bb-4faa-cf7f-1f0b55ba0563"
      },
      "execution_count": null,
      "outputs": [
        {
          "output_type": "stream",
          "name": "stdout",
          "text": [
            "6\n",
            "3\n"
          ]
        }
      ]
    },
    {
      "cell_type": "markdown",
      "source": [
        "#Função com passagem de parâmetros e retorno\n"
      ],
      "metadata": {
        "id": "wdKLmz-DWmGX"
      }
    },
    {
      "cell_type": "code",
      "source": [
        "def soma(a, b):\n",
        "  return a + b"
      ],
      "metadata": {
        "id": "opSJbj_MWp67"
      },
      "execution_count": null,
      "outputs": []
    },
    {
      "cell_type": "code",
      "source": [
        "soma(3, 2)"
      ],
      "metadata": {
        "colab": {
          "base_uri": "https://localhost:8080/"
        },
        "id": "amDE-jCvWspE",
        "outputId": "59af4cc8-4cdd-44b6-8036-848366808258"
      },
      "execution_count": null,
      "outputs": [
        {
          "output_type": "execute_result",
          "data": {
            "text/plain": [
              "5"
            ]
          },
          "metadata": {},
          "execution_count": 22
        }
      ]
    },
    {
      "cell_type": "code",
      "source": [
        "# r = 7\n",
        "r = soma(3, 2)\n",
        "print(r)"
      ],
      "metadata": {
        "colab": {
          "base_uri": "https://localhost:8080/"
        },
        "id": "aJYfBjEzWvhj",
        "outputId": "a5e22fcc-f2de-41c7-fe9b-5ed45eb821c9"
      },
      "execution_count": null,
      "outputs": [
        {
          "output_type": "stream",
          "name": "stdout",
          "text": [
            "5\n"
          ]
        }
      ]
    },
    {
      "cell_type": "code",
      "source": [
        "def calcula_energia_potencial_gravitacional(m, h, g = 10):\n",
        "  '''\n",
        "  Calcula a energia potencial gravitacional\n",
        "  Argumentos:\n",
        "  m: massa, entrada como uma variável float\n",
        "  h: altura, entrada como uma variável float\n",
        "\n",
        "  Argumento opcional:\n",
        "  g: aceleração gravitacional, com valor default de 10\n",
        "  '''\n",
        "  e = g * m * h\n",
        "  return e"
      ],
      "metadata": {
        "id": "xAnKzIzGW0PA"
      },
      "execution_count": null,
      "outputs": []
    },
    {
      "cell_type": "code",
      "source": [
        "calcula_energia_potencial_gravitacional(30, 12)"
      ],
      "metadata": {
        "colab": {
          "base_uri": "https://localhost:8080/"
        },
        "id": "ZnoRJwemW-cT",
        "outputId": "9948223f-ae31-493b-b0aa-a99deffb216f"
      },
      "execution_count": null,
      "outputs": [
        {
          "output_type": "execute_result",
          "data": {
            "text/plain": [
              "3600"
            ]
          },
          "metadata": {},
          "execution_count": 26
        }
      ]
    },
    {
      "cell_type": "code",
      "source": [
        "calcula_energia_potencial_gravitacional(30, 12, 9.8)"
      ],
      "metadata": {
        "colab": {
          "base_uri": "https://localhost:8080/"
        },
        "id": "WUV4REC5XBEj",
        "outputId": "815fb941-98a0-4142-fc98-b4cef8a1f5fd"
      },
      "execution_count": null,
      "outputs": [
        {
          "output_type": "execute_result",
          "data": {
            "text/plain": [
              "3528.0"
            ]
          },
          "metadata": {},
          "execution_count": 27
        }
      ]
    },
    {
      "cell_type": "markdown",
      "source": [
        "Help permite descrever a função"
      ],
      "metadata": {
        "id": "VB59jh5uXdA0"
      }
    },
    {
      "cell_type": "code",
      "source": [
        "help(calcula_energia_potencial_gravitacional)"
      ],
      "metadata": {
        "colab": {
          "base_uri": "https://localhost:8080/"
        },
        "id": "Ncs5T6-xXDoZ",
        "outputId": "414a29a7-c066-41b5-9044-a5df5066972e"
      },
      "execution_count": null,
      "outputs": [
        {
          "output_type": "stream",
          "name": "stdout",
          "text": [
            "Help on function calcula_energia_potencial_gravitacional in module __main__:\n",
            "\n",
            "calcula_energia_potencial_gravitacional(m, h, g=10)\n",
            "    Calcula a energia potencial gravitacional\n",
            "    Argumentos:\n",
            "    m: massa, entrada como uma variável float\n",
            "    h: altura, entrada como uma variável float\n",
            "    \n",
            "    Argumento opcional:\n",
            "    g: aceleração gravitacional, com valor default de 10\n",
            "\n"
          ]
        }
      ]
    },
    {
      "cell_type": "markdown",
      "source": [
        "#Exercícios"
      ],
      "metadata": {
        "id": "uyuF9WxuYM-b"
      }
    },
    {
      "cell_type": "markdown",
      "source": [
        "1. Ler uma temperatura em graus Celsius e apresentá-la convertida em graus Fahrenheit. A fórmula de conversão é F = (9 * C + 160) / 5, na qual F é a temperatura em Fahrenheit e C é a temperatura em graus Celsius\n",
        "\n",
        "Função para ler e retorna o valor da temperatura (não recebe parâmetro)\n",
        "Função para fazer o cálculo (recebe como parâmetro a temperatura em graus Celsius)\n",
        "Função para mostrar o resultado, recebendo como parâmetro o valor e fazendo a impressão"
      ],
      "metadata": {
        "id": "MG5bc_zuYRw-"
      }
    },
    {
      "cell_type": "code",
      "source": [
        "def ler_temperatura():\n",
        "  temperatura = float(input('Digite a temperatura em graus Celsius: '))\n",
        "  return temperatura"
      ],
      "metadata": {
        "id": "bE2AAHT2YMBz"
      },
      "execution_count": null,
      "outputs": []
    },
    {
      "cell_type": "code",
      "source": [
        "def converter(temperatura_celsius):\n",
        "  temperatura_f = (9 * temperatura_celsius + 160) / 5\n",
        "  return temperatura_f"
      ],
      "metadata": {
        "id": "9bjcD3ryYU9r"
      },
      "execution_count": null,
      "outputs": []
    },
    {
      "cell_type": "code",
      "source": [
        "def mostrar(temperatura_f):\n",
        "  print(temperatura_f)"
      ],
      "metadata": {
        "id": "35wZcYElYY5j"
      },
      "execution_count": null,
      "outputs": []
    },
    {
      "cell_type": "code",
      "source": [
        "temperatura_c = ler_temperatura()\n",
        "temperatura_f = converter(temperatura_c)\n",
        "mostrar(temperatura_f)"
      ],
      "metadata": {
        "colab": {
          "base_uri": "https://localhost:8080/"
        },
        "id": "zdkr81eNYfbv",
        "outputId": "8ea9b342-3a64-40d4-8509-53331e99d60a"
      },
      "execution_count": null,
      "outputs": [
        {
          "output_type": "stream",
          "name": "stdout",
          "text": [
            "Digite a temperatura em graus Celsius: 45\n",
            "113.0\n"
          ]
        }
      ]
    },
    {
      "cell_type": "markdown",
      "source": [
        "2. Efetuar o cálculo da quantidade de litros de combustível gasto em uma viagem, utilizando um automóvel que faz 12 Km por litro. Para obter o cálculo, o usuário deve fornecer o tempo gasto na viagem e a velocidade média durante ela. Desta forma, será possível obter a distância percorrida com a fórmula DISTANCIA = TEMPO * VELOCIDADE. Tendo o valor da distância, basta calcular a quantidade de litros de combustível utilizada na viagem, com a fórmula: LITROS_USADOS = DISTANCIA / 12. O programa deve apresentar os valores da velocidade média, tempo gasto na viagem, a distância percorrida e a quantidade de litros utilizada na viagem\n",
        "\n",
        "Função para ler os valores (não recebe parâmetro e retorna os dois valores)\n",
        "Função para calcular a distância (recebe como parâmetro o tempo e a velocidade e retorna a distância)\n",
        "Função para calcular a quantidade de litros (recebe como parâmetro a distância e retorna os litros)\n",
        "Função para apresentar o resultado (recebe como parâmetro os valores e somente imprime o resultado)"
      ],
      "metadata": {
        "id": "o6fysYkuYmcV"
      }
    },
    {
      "cell_type": "code",
      "source": [
        "def leitura():\n",
        "  tempo = float(input('Digite o tempo da viagem: '))\n",
        "  velocidade = float(input('Digite a velocidade média: '))\n",
        "  return tempo, velocidade"
      ],
      "metadata": {
        "id": "s5IUbb2vYrXj"
      },
      "execution_count": null,
      "outputs": []
    },
    {
      "cell_type": "code",
      "source": [
        "def calcula_distancia(tempo, velocidade):\n",
        "  return tempo * velocidade"
      ],
      "metadata": {
        "id": "5iSngC9oYwN7"
      },
      "execution_count": null,
      "outputs": []
    },
    {
      "cell_type": "code",
      "source": [
        "def calcula_litros(distancia):\n",
        "  return distancia / 12"
      ],
      "metadata": {
        "id": "dZQsOku2YxRw"
      },
      "execution_count": null,
      "outputs": []
    },
    {
      "cell_type": "code",
      "source": [
        "def imprime(velocidade, tempo, distancia, litros):\n",
        "  print('Velocidade:', velocidade)\n",
        "  print('Tempo:', tempo)\n",
        "  print('Distância:', distancia)\n",
        "  print('Litros:', litros)"
      ],
      "metadata": {
        "id": "9Y7YRoEtYzFj"
      },
      "execution_count": null,
      "outputs": []
    },
    {
      "cell_type": "code",
      "source": [
        "t, v = leitura()\n",
        "d = calcula_distancia(t, v)\n",
        "l = calcula_litros(d)\n",
        "imprime(v, t, d, l)"
      ],
      "metadata": {
        "colab": {
          "base_uri": "https://localhost:8080/"
        },
        "id": "hzUYQNKmY5OX",
        "outputId": "c2be600c-1aac-4763-e3d7-bd0f981eff0c"
      },
      "execution_count": null,
      "outputs": [
        {
          "output_type": "stream",
          "name": "stdout",
          "text": [
            "Digite o tempo da viagem: 1\n",
            "Digite a velocidade média: 80\n",
            "Velocidade: 80.0\n",
            "Tempo: 1.0\n",
            "Distância: 80.0\n",
            "Litros: 6.666666666666667\n"
          ]
        }
      ]
    }
  ]
}