{
  "nbformat": 4,
  "nbformat_minor": 0,
  "metadata": {
    "colab": {
      "name": "PYTHON 8 Manipulação de arquivos.ipynb",
      "provenance": [],
      "collapsed_sections": []
    },
    "kernelspec": {
      "name": "python3",
      "display_name": "Python 3"
    }
  },
  "cells": [
    {
      "cell_type": "markdown",
      "metadata": {
        "id": "2mwCD5b1rYff"
      },
      "source": [
        "# Manipulação de arquivos"
      ]
    },
    {
      "cell_type": "code",
      "metadata": {
        "id": "ArTonogGOsJn",
        "colab": {
          "base_uri": "https://localhost:8080/"
        },
        "outputId": "142ba372-bdb0-4058-abce-43854e14b2ee"
      },
      "source": [
        "with open('/content/frase.txt', 'r') as tex:\n",
        "  for linha in tex:\n",
        "    print(linha)"
      ],
      "execution_count": null,
      "outputs": [
        {
          "output_type": "stream",
          "name": "stdout",
          "text": [
            "Estou estudando Python.\n",
            "\n",
            "É muito bacana.\n"
          ]
        }
      ]
    },
    {
      "cell_type": "code",
      "metadata": {
        "id": "wcWclSzJPFIL"
      },
      "source": [
        "with open('/content/frase.txt') as tex:\n",
        "  r = tex.readlines()"
      ],
      "execution_count": null,
      "outputs": []
    },
    {
      "cell_type": "code",
      "metadata": {
        "id": "U3uJreD9PLvj",
        "colab": {
          "base_uri": "https://localhost:8080/"
        },
        "outputId": "041eb97d-b76c-4bfd-ce6a-7ed2dc344410"
      },
      "source": [
        "r"
      ],
      "execution_count": null,
      "outputs": [
        {
          "output_type": "execute_result",
          "data": {
            "text/plain": [
              "['Estou estudando Python.\\n', 'É muito bacana.']"
            ]
          },
          "metadata": {},
          "execution_count": 6
        }
      ]
    },
    {
      "cell_type": "code",
      "metadata": {
        "id": "6dq9eo69PWrb"
      },
      "source": [
        "with open('texto2.txt', 'w') as texto:\n",
        "  texto.write('Olá a todos')"
      ],
      "execution_count": null,
      "outputs": []
    },
    {
      "cell_type": "code",
      "metadata": {
        "id": "NdKoO4PoPvzP",
        "colab": {
          "base_uri": "https://localhost:8080/"
        },
        "outputId": "6e4475d0-d978-4a56-ce1a-a7b10fb187bb"
      },
      "source": [
        "with open('texto2.txt', 'r') as tex:\n",
        "  for linha in tex:\n",
        "    print(linha)"
      ],
      "execution_count": null,
      "outputs": [
        {
          "output_type": "stream",
          "name": "stdout",
          "text": [
            "Olá a todos\n"
          ]
        }
      ]
    },
    {
      "cell_type": "markdown",
      "source": [
        "Exercício"
      ],
      "metadata": {
        "id": "k9wga4xc0Hn0"
      }
    },
    {
      "cell_type": "markdown",
      "source": [
        "Considerando o dicionário com o nome dos alunos e suas respectivas notas abaixo, crie uma estrutura de repetição para percorrer cada elemento do dicionário para gravar cada aluno em um novo arquivo de texto\n",
        "- Cada aluno deve ocupar uma linha do novo arquivo de texto\n",
        "- O formato deve ser: nome,nota (Pedro,8.0)\n",
        "- Após a criação do arquivo de texto, faça a leitura do arquivo e mostre todos os alunos\n",
        "\n",
        "alunos = {'Pedro': 8.0, 'Maria': 10.0, 'Amilton': 7.5}"
      ],
      "metadata": {
        "id": "opORgr7_0JCw"
      }
    },
    {
      "cell_type": "code",
      "source": [
        "alunos = {'Pedro': 8.0, 'Maria': 10.0, 'Amilton': 7.5}\n",
        "alunos"
      ],
      "metadata": {
        "colab": {
          "base_uri": "https://localhost:8080/"
        },
        "id": "OvqoC8lR0MzX",
        "outputId": "417132d7-32dc-4b78-973b-c852a0c2ba21"
      },
      "execution_count": null,
      "outputs": [
        {
          "output_type": "execute_result",
          "data": {
            "text/plain": [
              "{'Amilton': 7.5, 'Maria': 10.0, 'Pedro': 8.0}"
            ]
          },
          "metadata": {},
          "execution_count": 7
        }
      ]
    },
    {
      "cell_type": "code",
      "source": [
        "with open('alunos.txt', 'w') as arquivo:\n",
        "  for aluno, nota in alunos.items():\n",
        "    arquivo.write(f'{aluno},{nota}\\n')"
      ],
      "metadata": {
        "id": "JrHXsD4V0Utd"
      },
      "execution_count": null,
      "outputs": []
    },
    {
      "cell_type": "code",
      "source": [
        "with open('alunos.txt', 'r') as arquivo:\n",
        "  for linha in arquivo:\n",
        "    print(linha)"
      ],
      "metadata": {
        "id": "Qtwx7pL_0X0Z",
        "outputId": "9abc8fc2-3563-4712-ee85-101eb35195ab",
        "colab": {
          "base_uri": "https://localhost:8080/"
        }
      },
      "execution_count": null,
      "outputs": [
        {
          "output_type": "stream",
          "name": "stdout",
          "text": [
            "Pedro,8.0\n",
            "\n",
            "Maria,10.0\n",
            "\n",
            "Amilton,7.5\n",
            "\n"
          ]
        }
      ]
    }
  ]
}